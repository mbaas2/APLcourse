{
 "cells": [
  {
   "cell_type": "markdown",
   "metadata": {
    "slideshow": {
     "slide_type": "slide"
    }
   },
   "source": [
    "# Creating your first Dyalog Jupyter Notebook"
   ]
  },
  {
   "cell_type": "markdown",
   "metadata": {
    "slideshow": {
     "slide_type": "slide"
    }
   },
   "source": [
    "## What is a Dyalog Jupyter Notebook?\n",
    "Previously:\n",
    "- Adám Brudzewsky\n",
    "    - [Webinar](https://dyalog.tv/Webinar/?v=P7rGW5ZMq9w)\n",
    "    - [Dyalog '18](https://dyalog.tv/Dyalog18/?v=ClcRv4b9ZIs)\n"
   ]
  },
  {
   "cell_type": "code",
   "execution_count": 2,
   "metadata": {
    "slideshow": {
     "slide_type": "slide"
    }
   },
   "outputs": [
    {
     "data": {
      "text/html": [
       "<span style=\"white-space:pre; font-family: monospace\">WOW\n",
       "</span>"
      ]
     },
     "execution_count": 2,
     "metadata": {},
     "output_type": "execute_result"
    }
   ],
   "source": [
    "⍝ You can execute APL code in cells like these\n",
    "3⍴'WO'"
   ]
  },
  {
   "cell_type": "markdown",
   "metadata": {
    "slideshow": {
     "slide_type": "slide"
    }
   },
   "source": [
    "**You can also use [Markdown](https://jupyter-notebook.readthedocs.io/en/stable/examples/Notebook/Working%20With%20Markdown%20Cells.html) to present formatted text in cells like these**\n",
    "\n",
    "(double click on a Markdown cell to edit its content)"
   ]
  },
  {
   "cell_type": "markdown",
   "metadata": {
    "slideshow": {
     "slide_type": "slide"
    }
   },
   "source": [
    "$\\LaTeX$\n",
    "\n",
    "Look how we can put LaTeX formatted *maths* right beside executable `APL`:\n",
    "\n",
    "$e^{i \\pi} = -1$\n",
    "\n",
    "```APL\n",
    "¯1=*○0J1 ⍝ APL in Markdown\n",
    "```"
   ]
  },
  {
   "cell_type": "code",
   "execution_count": 3,
   "metadata": {
    "slideshow": {
     "slide_type": "slide"
    }
   },
   "outputs": [
    {
     "data": {
      "text/html": [
       "<span style=\"white-space:pre; font-family: monospace\">¯1\n",
       "</span>"
      ]
     },
     "execution_count": 3,
     "metadata": {},
     "output_type": "execute_result"
    }
   ],
   "source": [
    "*○0J1 ⍝ Executable APL"
   ]
  },
  {
   "cell_type": "markdown",
   "metadata": {
    "slideshow": {
     "slide_type": "slide"
    }
   },
   "source": [
    "## Use cases"
   ]
  },
  {
   "cell_type": "markdown",
   "metadata": {
    "slideshow": {
     "slide_type": "fragment"
    }
   },
   "source": [
    "How-to style tutorials and documentation"
   ]
  },
  {
   "cell_type": "markdown",
   "metadata": {
    "slideshow": {
     "slide_type": "fragment"
    }
   },
   "source": [
    "Set assignments to students"
   ]
  },
  {
   "cell_type": "markdown",
   "metadata": {
    "slideshow": {
     "slide_type": "fragment"
    }
   },
   "source": [
    "...at home or in the classroom"
   ]
  },
  {
   "cell_type": "markdown",
   "metadata": {
    "slideshow": {
     "slide_type": "subslide"
    }
   },
   "source": [
    "\"I have long been struck by the contrast between the success with which the adventurous learn APL by simply using it, and the frequent failure of lecture courses to communicate the simplicity and applicability of the language. I have also felt that it should be possible to incorporate into a formal course the advantages of learning by exploration with an APL terminal...\" \n",
    "\n",
    "Kenneth E. Iverson | Toronto, Ontario | July, 1981"
   ]
  },
  {
   "cell_type": "markdown",
   "metadata": {
    "slideshow": {
     "slide_type": "slide"
    }
   },
   "source": [
    "## Presenting a notebook\n",
    "\n",
    "Using [reveal.js](https://revealjs.com), Jupyter Notebooks can be turned into slideshow presentations with little effort.\n",
    "\n",
    "```console\n",
    "$ pip install --user jupyter_contrib_nbextensions\n",
    "$ jupyter nbconvert Creating\\ your\\ first\\ Dyalog\\ Jupyter\\ Notebook.ipynb --to slides --ServePostProcessor.port=8888 --ServePostProcessor.ip='*' --post serve --SlidesExporter.reveal_theme=serif \n",
    "```"
   ]
  },
  {
   "cell_type": "markdown",
   "metadata": {
    "slideshow": {
     "slide_type": "slide"
    }
   },
   "source": [
    "## How to get started"
   ]
  },
  {
   "cell_type": "markdown",
   "metadata": {
    "slideshow": {
     "slide_type": "subslide"
    }
   },
   "source": [
    "[https://github.com/Dyalog/dyalog-jupyter-kernel](https://github.com/Dyalog/dyalog-jupyter-kernel)\n",
    "\n",
    "There are of course [instructions on the wiki](https://github.com/Dyalog/dyalog-jupyter-kernel/wiki/1.-Offline-usage)...\n",
    "\n",
    "... but the steps are basically the following:\n",
    "- Install Python 3 on your platform\n",
    "- Install Jupyter ([Notebook](https://jupyter.readthedocs.io/en/latest/install.html) / [Lab](https://jupyterlab.readthedocs.io/en/stable/getting_started/installation.html) / [Hub](https://jupyter.org/hub))\n",
    "- Install the [Dyalog Jupyter kernel](https://github.com/Dyalog/dyalog-jupyter-kernel/wiki/1.-Offline-usage)"
   ]
  },
  {
   "cell_type": "markdown",
   "metadata": {
    "slideshow": {
     "slide_type": "subslide"
    }
   },
   "source": [
    "### Jupyter environments\n",
    "**Jupyter Notebook**\n",
    "- The default\n",
    "- `sudo apt install jupyter`\n",
    "\n",
    "**Jupyter Lab**\n",
    "- Nice interface\n",
    "- [Extensions](https://jupyterlab.readthedocs.io/en/stable/user/extensions.html)\n",
    "\n",
    "**Jupyter Hub**\n",
    "- Multiple Users\n",
    "- Great for institution + classroom environments\n",
    "- [The Littlest Jupyter Hub]()"
   ]
  },
  {
   "cell_type": "markdown",
   "metadata": {
    "slideshow": {
     "slide_type": "subslide"
    }
   },
   "source": [
    "### Flexibility vs. Capital Cost\n",
    "There are easy ways to access Dyalog Jupyter notebooks. However, if you want to use custom themes, custom templates, Jupyter/Lab extensions or host multiple users, there is more effort required to get the desired environment."
   ]
  },
  {
   "cell_type": "markdown",
   "metadata": {
    "slideshow": {
     "slide_type": "slide"
    }
   },
   "source": [
    "### The easiest way\n",
    "\n",
    "Can't I quickly type up a notebook for my class or publication?"
   ]
  },
  {
   "cell_type": "markdown",
   "metadata": {
    "slideshow": {
     "slide_type": "subslide"
    }
   },
   "source": [
    "Funny you should ask...\n",
    "\n",
    "We've created a Dyalog Jupyter [Binder](https://mybinder.org/). Simply click the [Launch Binder](https://mybinder.org/v2/gh/rikedyp/Binder/1c175a7) link from [https://github.com/dyalog/dyalog-jupyter-binder](https://github.com/rikedyp/Binder/) and Binder will spawn a docker container just for you!"
   ]
  },
  {
   "cell_type": "markdown",
   "metadata": {},
   "source": [
    "### TryAPL\n",
    "\n",
    "[TryAPL](https://tryapl.org/) can execute Dyalog Jupyter notebooks line by line (currently not LaTeX, HTML or SharpPlot). Simply go to the \"Learn\" tab and paste the notebook's URL in the bar at the bottom."
   ]
  },
  {
   "cell_type": "markdown",
   "metadata": {
    "slideshow": {
     "slide_type": "slide"
    }
   },
   "source": [
    "### Installing Jupyter Locally"
   ]
  },
  {
   "cell_type": "markdown",
   "metadata": {
    "slideshow": {
     "slide_type": "subslide"
    }
   },
   "source": [
    "**Linux**\n",
    "\n",
    "For the least headache, install [Ubuntu 18.04]() in a virtual machine. This allows you to keep package installations and environment changes from accidentally breaking your working computer.\n",
    "\n",
    "From a clean Ubuntu 18.04 installation, enter the following commands in a terminal:\n",
    "\n",
    "`$ sudo apt install python3-pip`\n",
    "\n",
    "`$ pip3 install jupyterlab`\n",
    "\n",
    "`$ python3 -m jupyterlab`"
   ]
  },
  {
   "cell_type": "markdown",
   "metadata": {
    "slideshow": {
     "slide_type": "subslide"
    }
   },
   "source": [
    "**Windows**\n",
    "\n",
    "Installing on Windows is only marginally simpler. [There is a blog post](http://technivore.org/posts/2016/02/27/windows-jupyter-three-ways.html) that gives three ways to get Jupyter running on Windows."
   ]
  },
  {
   "cell_type": "markdown",
   "metadata": {
    "slideshow": {
     "slide_type": "fragment"
    }
   },
   "source": [
    "'Pure Python'\n",
    "```\n",
    "PS C:\\> pip install jupyter\n",
    "PS C:\\> jupyter notebook\n",
    "```"
   ]
  },
  {
   "cell_type": "markdown",
   "metadata": {
    "slideshow": {
     "slide_type": "fragment"
    }
   },
   "source": [
    "Install [Anaconda](https://www.anaconda.com/distribution/#download-section) (Python 3 version if you want to use the Dyalog kernel)"
   ]
  },
  {
   "cell_type": "markdown",
   "metadata": {
    "slideshow": {
     "slide_type": "fragment"
    }
   },
   "source": [
    "Docker\n",
    "```\n",
    "PS C:\\> docker run -p 8888:8888 dyalog/jupyter\n",
    "```"
   ]
  },
  {
   "cell_type": "markdown",
   "metadata": {
    "slideshow": {
     "slide_type": "subslide"
    }
   },
   "source": [
    "**Mac**\n",
    "\n",
    "Installing on Mac using [Homebrew](https://brew.sh/) can be about as painless as on Ubuntu:\n",
    "\n",
    "`$ brew install python3 pip3`\n",
    "\n",
    "`$ pip3 install jupyterlab`\n",
    "\n",
    "`$ python3 -m jupyterlab`"
   ]
  },
  {
   "cell_type": "markdown",
   "metadata": {
    "slideshow": {
     "slide_type": "slide"
    }
   },
   "source": [
    "### The Dyalog kernel\n",
    "\n",
    "To use Dyalog with notebooks, you'll need to install the [Dyalog Jupyter kernel](https://github.com/Dyalog/dyalog-jupyter-kernel)\n",
    "\n",
    "`$ sudo apt install git`\n",
    "\n",
    "`$ git clone https://github.com/Dyalog/dyalog-jupyter-kernel.git`\n",
    "\n",
    "`$ cd dyalog-jupyter-kernel`\n",
    "\n",
    "`$ ./install.sh` (Mac and Linux, `install.bat` for Windows) "
   ]
  },
  {
   "cell_type": "markdown",
   "metadata": {
    "slideshow": {
     "slide_type": "slide"
    }
   },
   "source": [
    "## Jupyter Hub\n",
    "\n",
    "[Jupyter Hub](https://jupyter.org/hub) is a multi-user Jupyter environment. \n",
    "\n",
    "[The Littlest Jupyter Hub](https://tljh.jupyter.org/en/latest/index.html) is an environment for 1 to ~100 users. It is ideal for use in classrooms or on small training courses.\n",
    "\n",
    "[Zero to JupyterHub with Kubernetes](https://z2jh.jupyter.org/en/latest/) is a guide for setting up a Kubernetes cluster for JupyterHub docker containers. If you are interested in setting up live interactive Jupyter Notebooks at a large institution, this is the guide for your IT department.\n",
    "\n",
    "## ... and if I want it for myself?\n",
    "Installing [The Littlest Jupyter Hub](https://tljh.jupyter.org/en/latest/index.html) is really straightforward, and can be self-contained in a virtual machine or [docker container](https://hub.docker.com/r/jupyterhub/jupyterhub/)."
   ]
  },
  {
   "cell_type": "markdown",
   "metadata": {
    "slideshow": {
     "slide_type": "slide"
    }
   },
   "source": [
    "With a simple Python or Anaconda installation, all you need to do is execute *install.bat* or *install.sh* from the [Dyalog Jupyter kernel GitHub repository](https://github.com/Dyalog/dyalog-jupyter-kernel/wiki/1.-Offline-usage). However, with JupyterHub you will need to copy the Dyalog Jupyter kernel ```dyalog_kernel``` and ```dyalog-kernel``` directories to appropriate folders.\n",
    "\n",
    "\n",
    "The following Terminal sessions are *inside the running JupyterHub*\n",
    "```console\n",
    "jupyter-admin@DyalogJupyterHub:/$ jupyter kernelspec list\n",
    "Available kernels:\n",
    "  python3          /opt/tljh/user/share/jupyter/kernels/python3\n",
    "  dyalog-kernel    /usr/local/share/jupyter/kernels/dyalog-kernel\n",
    "\n",
    "jupyter-admin@DyalogJupyterHub:~$ python3 -m site --user-site\n",
    "/home/jupyter-admin/.local/lib/python3.6/site-packages\n",
    "\n",
    "jupyter-admin@DyalogJupyterHub:~$ ls /opt/tljh/hub/lib/python3.6/site-packages/dyalog_kernel/\n",
    "init.dws  init.dyalog  __init__.py  kernel.py  __main__.py  Render.dyalog\n",
    "```\n",
    "\n",
    "The only success I have had is installing TLJH using [these instructions](https://tljh.jupyter.org/en/latest/install/custom-server.html) on a clean Ubuntu 18.04 virtual machine."
   ]
  },
  {
   "cell_type": "markdown",
   "metadata": {
    "slideshow": {
     "slide_type": "slide"
    }
   },
   "source": [
    "# Dyalog Jupyter Binder\n",
    "*Use it!*\n",
    "- Tutorials\n",
    "- Training\n",
    "- Education\n",
    "- Documentation\n",
    "\n",
    " [https://github.com/dyalog/dyalog-jupyter-binder](https://github.com/rikedyp/Binder/)"
   ]
  },
  {
   "cell_type": "markdown",
   "metadata": {
    "slideshow": {
     "slide_type": "fragment"
    }
   },
   "source": [
    "Want to share? Send notebooks to notebooks@dyalog.com"
   ]
  },
  {
   "cell_type": "markdown",
   "metadata": {
    "slideshow": {
     "slide_type": "fragment"
    }
   },
   "source": [
    "*... APLCourse coming soon...*"
   ]
  }
 ],
 "metadata": {
  "kernelspec": {
   "display_name": "Dyalog APL",
   "language": "apl",
   "name": "dyalog-kernel"
  },
  "language_info": {
   "file_extension": ".apl",
   "mimetype": "text/apl",
   "name": "APL"
  }
 },
 "nbformat": 4,
 "nbformat_minor": 4
}
