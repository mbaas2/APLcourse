{
 "cells": [
  {
   "cell_type": "markdown",
   "metadata": {},
   "source": [
    "# Array Data Model"
   ]
  },
  {
   "cell_type": "markdown",
   "metadata": {},
   "source": [
    "An array is an object that contains values arranged in a shape. An array in ```APL``` is a collection of arrays, arranged along zero or more orthogonal axes. There are names for some particular types of shape.\n",
    "\n",
    "<pre>\n",
    "    \n",
    "    <span style=\"font-size:300%\">•</span> A dot is called a <em>scalar</em>  \n",
    " \n",
    "    <span style=\"font-size:300%\">▬</span> A line is called a <em>vector</em> or <em>list</em>  \n",
    "\n",
    "    <span style=\"font-size:200%\">📄</span> A rectangle is called a <em>matrix</em> or <em>table</em>\n",
    "\n",
    "    <span style=\"font-size:200%\">🗃️</span> A cuboid is called a <em>cube</em> for some reason (we will call them <em>cuboids</em>)\n",
    "\n",
    "    <span style=\"font-size:200%\">🗄️</span> 4D shapes and greater are called <em>noble</em>\n",
    "</pre>"
   ]
  },
  {
   "cell_type": "markdown",
   "metadata": {},
   "source": [
    "An array's shape is described by a vector of non-negative dimensions. The tally of elements in the shape gives the rank:"
   ]
  },
  {
   "cell_type": "code",
   "execution_count": 14,
   "metadata": {},
   "outputs": [
    {
     "data": {
      "text/html": [
       "<span style=\"white-space:pre; font-family: monospace\">\n",
       "</span>"
      ]
     },
     "execution_count": 14,
     "metadata": {},
     "output_type": "execute_result"
    },
    {
     "data": {
      "text/html": [
       "<span style=\"white-space:pre; font-family: monospace\">0\n",
       "</span>"
      ]
     },
     "execution_count": 14,
     "metadata": {},
     "output_type": "execute_result"
    },
    {
     "data": {
      "text/html": [
       "<span style=\"white-space:pre; font-family: monospace\">Scalar → 0 dimensions\n",
       "</span>"
      ]
     },
     "execution_count": 14,
     "metadata": {},
     "output_type": "execute_result"
    }
   ],
   "source": [
    "scalar ← 1234 ⍝ This is a scalar\n",
    "⍴  scalar           ⍝ Its shape is the empty vector\n",
    "≢⍴ scalar          ⍝ Scalars are rank-0 arrays\n",
    "'Scalar → 0 dimensions'"
   ]
  },
  {
   "cell_type": "code",
   "execution_count": 15,
   "metadata": {},
   "outputs": [
    {
     "data": {
      "text/html": [
       "<span style=\"white-space:pre; font-family: monospace\">4\n",
       "</span>"
      ]
     },
     "execution_count": 15,
     "metadata": {},
     "output_type": "execute_result"
    },
    {
     "data": {
      "text/html": [
       "<span style=\"white-space:pre; font-family: monospace\">1\n",
       "</span>"
      ]
     },
     "execution_count": 15,
     "metadata": {},
     "output_type": "execute_result"
    },
    {
     "data": {
      "text/html": [
       "<span style=\"white-space:pre; font-family: monospace\">Vector → 1 dimension\n",
       "</span>"
      ]
     },
     "execution_count": 15,
     "metadata": {},
     "output_type": "execute_result"
    }
   ],
   "source": [
    "vector ← 1 2 3 4 ⍝ This is a vector\n",
    "⍴  vector              ⍝ Its shape is a vector of length 1 containing the scalar 4\n",
    "≢⍴ vector             ⍝ Vectors are arrays of rank 1\n",
    "'Vector → 1 dimension'"
   ]
  },
  {
   "cell_type": "code",
   "execution_count": 16,
   "metadata": {},
   "outputs": [
    {
     "data": {
      "text/html": [
       "<span style=\"white-space:pre; font-family: monospace\">3 4\n",
       "</span>"
      ]
     },
     "execution_count": 16,
     "metadata": {},
     "output_type": "execute_result"
    },
    {
     "data": {
      "text/html": [
       "<span style=\"white-space:pre; font-family: monospace\">2\n",
       "</span>"
      ]
     },
     "execution_count": 16,
     "metadata": {},
     "output_type": "execute_result"
    },
    {
     "data": {
      "text/html": [
       "<span style=\"white-space:pre; font-family: monospace\">Matrix → 2 dimensions\n",
       "</span>"
      ]
     },
     "execution_count": 16,
     "metadata": {},
     "output_type": "execute_result"
    }
   ],
   "source": [
    "matrix ← 3 4⍴⎕A ⍝ This is a matrix\n",
    "⍴  matrix               ⍝ Its shape is a vector of length 2 \n",
    "≢⍴ matrix              ⍝ Matrices are rank-2 arrays\n",
    "'Matrix → 2 dimensions'"
   ]
  },
  {
   "cell_type": "code",
   "execution_count": 17,
   "metadata": {},
   "outputs": [
    {
     "data": {
      "text/html": [
       "<span style=\"white-space:pre; font-family: monospace\">2 3 4\n",
       "</span>"
      ]
     },
     "execution_count": 17,
     "metadata": {},
     "output_type": "execute_result"
    },
    {
     "data": {
      "text/html": [
       "<span style=\"white-space:pre; font-family: monospace\">3\n",
       "</span>"
      ]
     },
     "execution_count": 17,
     "metadata": {},
     "output_type": "execute_result"
    }
   ],
   "source": [
    "cuboid ← 2 3 4⍴⎕A ⍝ This is a cuboid\n",
    "⍴  cuboid                  ⍝ Its shape is a vector of length 3\n",
    "≢⍴ cuboid                 ⍝ Cuboids are rank-3 arrays"
   ]
  },
  {
   "cell_type": "code",
   "execution_count": 18,
   "metadata": {},
   "outputs": [
    {
     "data": {
      "text/html": [
       "<span style=\"white-space:pre; font-family: monospace\">15\n",
       "</span>"
      ]
     },
     "execution_count": 18,
     "metadata": {},
     "output_type": "execute_result"
    },
    {
     "name": "stderr",
     "output_type": "stream",
     "text": [
      "LIMIT ERROR: Rank of resultant array would exceed maximum permitted\n",
      "      ≢⍴toobig←2 4 5 3 2 4 5 7 5 3 3 2 6 4 5 3⍴0  ⍝ Otherwise LIMIT ERROR\n",
      "                                              ∧\n"
     ]
    }
   ],
   "source": [
    "noble ← 2 4 3 4⍴3                                            ⍝ This is a noble array of rank 4\n",
    "≢⍴ bignoble ← 2 4 5 3 2 4 5 7 5 3 3 2 6 4 5⍴0 ⍝ Dyalog supports up to rank-15 arrays.\n",
    "≢⍴ toobig ← 2 4 5 3 2 4 5 7 5 3 3 2 6 4 5 3⍴0  ⍝ Otherwise LIMIT ERROR"
   ]
  },
  {
   "cell_type": "markdown",
   "metadata": {},
   "source": [
    "Values are arranged in a shape in row-major order, with the first dimension in a shape the most major."
   ]
  },
  {
   "cell_type": "code",
   "execution_count": 9,
   "metadata": {},
   "outputs": [
    {
     "data": {
      "text/html": [
       "<span style=\"white-space:pre; font-family: monospace\">ABCD\n",
       "EFGH\n",
       "IJKL\n",
       "    \n",
       "MNOP\n",
       "QRST\n",
       "UVWX\n",
       "</span>"
      ]
     },
     "execution_count": 9,
     "metadata": {},
     "output_type": "execute_result"
    }
   ],
   "source": [
    "2 3 4⍴⎕A ⍝ The values fill in each row before moving on to the next row\n",
    "                 ⍝ \"row-major order\"            "
   ]
  },
  {
   "cell_type": "markdown",
   "metadata": {},
   "source": [
    "Values are arrays. A single number or character is a scalar which contains itself as its value."
   ]
  },
  {
   "cell_type": "code",
   "execution_count": 19,
   "metadata": {},
   "outputs": [
    {
     "data": {
      "text/html": [
       "<span style=\"white-space:pre; font-family: monospace\">1341\n",
       "</span>"
      ]
     },
     "execution_count": 19,
     "metadata": {},
     "output_type": "execute_result"
    },
    {
     "data": {
      "text/html": [
       "<span style=\"white-space:pre; font-family: monospace\">A\n",
       "</span>"
      ]
     },
     "execution_count": 19,
     "metadata": {},
     "output_type": "execute_result"
    },
    {
     "data": {
      "text/html": [
       "<span style=\"white-space:pre; font-family: monospace\">1 3 4 1\n",
       "</span>"
      ]
     },
     "execution_count": 19,
     "metadata": {},
     "output_type": "execute_result"
    },
    {
     "data": {
      "text/html": [
       "<span style=\"white-space:pre; font-family: monospace\">APL\n",
       "</span>"
      ]
     },
     "execution_count": 19,
     "metadata": {},
     "output_type": "execute_result"
    }
   ],
   "source": [
    "1341    ⍝ A numeric scalar\n",
    "'A'        ⍝ A character scalar\n",
    "1 3 4 1 ⍝ A numeric vector\n",
    "'APL'    ⍝ A character vector"
   ]
  },
  {
   "cell_type": "markdown",
   "metadata": {},
   "source": [
    "Each value in an array has a unique coordinate pointing to that value called an index."
   ]
  },
  {
   "cell_type": "code",
   "execution_count": 9,
   "metadata": {},
   "outputs": [
    {
     "data": {
      "text/html": [
       "<span style=\"white-space:pre; font-family: monospace\">ABCD\n",
       "EFGH\n",
       "IJKL\n",
       "    \n",
       "MNOP\n",
       "QRST\n",
       "UVWX\n",
       "┌─────┐\n",
       "│1 2 3│\n",
       "└─────┘\n",
       "</span>"
      ]
     },
     "execution_count": 9,
     "metadata": {},
     "output_type": "execute_result"
    }
   ],
   "source": [
    "⍸'G'=⎕←Alph←2 3 4⍴⎕A ⍝ Where is G located in cuboid Alph?"
   ]
  },
  {
   "cell_type": "code",
   "execution_count": 11,
   "metadata": {},
   "outputs": [
    {
     "data": {
      "text/html": [
       "<span style=\"white-space:pre; font-family: monospace\">G\n",
       "</span>"
      ]
     },
     "execution_count": 11,
     "metadata": {},
     "output_type": "execute_result"
    },
    {
     "data": {
      "text/html": [
       "<span style=\"white-space:pre; font-family: monospace\">G\n",
       "</span>"
      ]
     },
     "execution_count": 11,
     "metadata": {},
     "output_type": "execute_result"
    }
   ],
   "source": [
    "Alph[1;2;3]       ⍝ Retrieve element with square-bracket indexing\n",
    "(⊂1 2 3)⊃Alph ⍝ Retrieve element with pick"
   ]
  },
  {
   "cell_type": "code",
   "execution_count": null,
   "metadata": {},
   "outputs": [],
   "source": []
  }
 ],
 "metadata": {
  "kernelspec": {
   "display_name": "Dyalog APL",
   "language": "apl",
   "name": "dyalog-kernel"
  },
  "language_info": {
   "file_extension": ".apl",
   "mimetype": "text/apl",
   "name": "APL"
  }
 },
 "nbformat": 4,
 "nbformat_minor": 2
}
