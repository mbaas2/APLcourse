{
 "cells": [
  {
   "cell_type": "markdown",
   "metadata": {},
   "source": [
    "# APLCourse\n",
    "A New APL Course\n",
    "\n",
    "These materials are designed to teach you how to solve real problems using computers. There are exam-like [problem sets](ProblemSets/README.md) and programming [project ideas](Projects/README.md) to test your APL knowledge and problem-solving ability. \n",
    "\n",
    "There is also a collection of [tutorials](Tutorials) on various specific APL and programming concepts. There may be linked references to external resources, such as the [APL Wiki](https://aplwiki.miraheze.org) or the book [Mastering Dyalog APL](https://www.dyalog.com/mastering-dyalog-apl.htm)."
   ]
  },
  {
   "cell_type": "markdown",
   "metadata": {},
   "source": [
    "### **QuickStart**\n",
    "\n",
    "To learn APL interactively, launch our binder\n",
    "\n",
    "[![Binder](https://mybinder.org/badge_logo.svg)](https://mybinder.org/v2/gh/rikedyp/APLcourse/master?urlpath=lab)\n",
    "\n",
    "***\n",
    "\n",
    "> **Note:** The binder may take a minute to load. If you just want to quickly view the notebooks then use the [nbviewer](https://nbviewer.jupyter.org/github/rikedyp/APLcourse/tree/master/).\n",
    "\n",
    "> **Note:** Any changes made to notebooks using the binder will not be saved unless you download the notebook. Your binder session will time out after 10 minutes of inactivity. Having the browser window open counts as activity.\n",
    "\n",
    "***"
   ]
  }
 ],
 "metadata": {
  "kernelspec": {
   "display_name": "Dyalog APL",
   "language": "apl",
   "name": "dyalog-kernel"
  },
  "language_info": {
   "file_extension": ".apl",
   "mimetype": "text/apl",
   "name": "APL"
  },
  "toc": {
   "base_numbering": 1,
   "nav_menu": {},
   "number_sections": true,
   "sideBar": true,
   "skip_h1_title": false,
   "title_cell": "Table of Contents",
   "title_sidebar": "Contents",
   "toc_cell": false,
   "toc_position": {},
   "toc_section_display": true,
   "toc_window_display": false
  }
 },
 "nbformat": 4,
 "nbformat_minor": 4
}
