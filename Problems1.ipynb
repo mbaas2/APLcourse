{
 "cells": [
  {
   "cell_type": "markdown",
   "metadata": {},
   "source": [
    "# **Problems 1**\n",
    "A set of simple example problems to learn APL"
   ]
  },
  {
   "cell_type": "markdown",
   "metadata": {},
   "source": [
    "## **What's in a vector?**\n",
    "Manipulate pre prepared arrays."
   ]
  },
  {
   "cell_type": "markdown",
   "metadata": {},
   "source": [
    "### 1. \n",
    "The simple numeric vector `vec` is declared in the first statement below:\n",
    "##### a. How many elements in vec?\n",
    "##### b. What is the largest value in vec?\n",
    "##### c. What is the smallest value in vec?\n",
    "##### d. What is the range of values in vec?\n",
    "##### e. What is the sum of values in vec?\n",
    "##### f. What is the product of values in vec?\n",
    "##### g. What is the mean average of values in vec?"
   ]
  },
  {
   "cell_type": "code",
   "execution_count": 8,
   "metadata": {},
   "outputs": [],
   "source": [
    "vec←13 3 4 18 4 10 18 20 18 14 3 8 2 20 11 3 8 19 13 14 11 15 7 5 13 5 1 15 2 10 15 5 19 4 16 10 2 10 8 10 11 55 18 5 16 13 10 5 13 2 9 11 1 13 13 12 13 17 44 9 16 17 14 7 20 11 6 8 7 16 15 65 15 9 15 14 15 9 13 4 3 9 12 11 1 10 4 10 52 7 14 4 16 8 4 8 4 12 10 15\n",
    "⍝ Answer below"
   ]
  },
  {
   "cell_type": "markdown",
   "metadata": {},
   "source": [
    "### 2. Out of bounds\n",
    "**TODO: Move this problem to later**  \n",
    "Useful primitives `⍸ + × * / ÷ ≢ < >`  \n",
    "This problem involves [arithmetic](Arithmetic.ipynb), [reduction](Operators.ipynb#Reduction), [comparison]() and [array indexing]().  \n",
    "The standard deviation is an indicator of how spread out a distribution of numbers is.  \n",
    "It is defined as:\n",
    "\n",
    "$$\\sqrt{{1\\over n}\\sum_{i=1}^{n}(x_i-\\bar x)^2}$$\n",
    "\n",
    "- the square root of  \n",
    "- the average of  \n",
    "- the squares of  \n",
    "- the differences between the vector and its own average \n",
    "\n",
    "where the mean average $\\bar x$ is defined as:\n",
    "\n",
    "$${\\bar x}={1 \\over n} \\sum_{i=1}^{n} x_i$$\n",
    "\n",
    "For this example, we will say that any number more than 3 standard deviations from the mean is an outlier.  \n",
    "Find all the outliers in vec.  \n",
    "_**Hint**_: Don't try to solve this in one line. Although it is quite feasible, you may find it useful to instead assign helper functions in a manner like this (the following is a superfluous example for demonstration purposes):\n",
    "```APL\n",
    "      TheSum ← +/\n",
    "      DividedBy ← ÷\n",
    "      TheCount ← ≢\n",
    "```\n",
    "and construct your final solution from these helper functions:\n",
    "```APL\n",
    "      Avg ← TheSum DividedBy TheCount\n",
    "```"
   ]
  },
  {
   "cell_type": "code",
   "execution_count": 9,
   "metadata": {},
   "outputs": [],
   "source": [
    "⍝ Answer below"
   ]
  },
  {
   "cell_type": "markdown",
   "metadata": {},
   "source": [
    "## **Generation**\n",
    "Using [number generators](Generators.ipynb)  \n",
    "Useful primitives:  `⍳ ?`"
   ]
  },
  {
   "cell_type": "markdown",
   "metadata": {},
   "source": [
    "### 1.\n",
    "Write a function `Odd` to generate the first N odd numbers:  \n",
    "_**Example session:**_\n",
    "```APL\n",
    "      Odd 5\n",
    "1 3 5 7 9      \n",
    "```"
   ]
  },
  {
   "cell_type": "code",
   "execution_count": 3,
   "metadata": {},
   "outputs": [],
   "source": [
    "⍝ Answer below"
   ]
  },
  {
   "cell_type": "markdown",
   "metadata": {},
   "source": [
    "## **Residue**\n",
    "Using the `|` [modulo](Arithmetic.ipynb#Residue-AKA-Modulo) function"
   ]
  },
  {
   "cell_type": "markdown",
   "metadata": {},
   "source": [
    "### 1.\n",
    "There is a basket of `M` apples 🍎.  \n",
    "How many remain if we distribute whole apples equally between `N` people?  \n",
    "**_Example session:_**  \n",
    "```APL\n",
    "      ⍝ 29 apples for 5 people\n",
    "      29(your_function)5\n",
    "4\n",
    "```"
   ]
  },
  {
   "cell_type": "code",
   "execution_count": 2,
   "metadata": {},
   "outputs": [],
   "source": [
    "⍝ Answer below:"
   ]
  },
  {
   "cell_type": "markdown",
   "metadata": {},
   "source": [
    "### 2.\n",
    "Given an array of numbers, write a function to calculate how many even numbers are in the array.  \n",
    "\n",
    "_Useful primitives:_ `+ /`  \n",
    "\n",
    "_**Example session:**__  \n",
    "```APL\n",
    "      (your_function)1 3 4  5 1 2 5 6 7 21 4 566 214 21 4 16 315 35 768 34 4 135\n",
    "10      \n",
    "```"
   ]
  },
  {
   "cell_type": "code",
   "execution_count": 3,
   "metadata": {},
   "outputs": [],
   "source": [
    "⍝ Answer below:"
   ]
  },
  {
   "cell_type": "markdown",
   "metadata": {},
   "source": [
    "### 3.\n",
    "Write a function `DaysFrom` to calculate the day of the week `N` days from a given day.  \n",
    "The left argument should be a number of days, `N`.  \n",
    "The right argument should be a character vector representing the initial day of the week.  \n",
    "\n",
    "_Other useful primitives:_ `⍳ ⊂ `  \n",
    "  \n",
    "_**Example session:**__  \n",
    "```APL\n",
    "      100 DaysFrom 'Saturday'\n",
    "Monday      \n",
    "```"
   ]
  },
  {
   "cell_type": "code",
   "execution_count": 4,
   "metadata": {},
   "outputs": [],
   "source": [
    "⍝ Answer below:"
   ]
  }
 ],
 "metadata": {
  "kernelspec": {
   "display_name": "Dyalog APL",
   "language": "apl",
   "name": "dyalog-kernel"
  },
  "language_info": {
   "file_extension": ".apl",
   "mimetype": "text/apl",
   "name": "APL"
  }
 },
 "nbformat": 4,
 "nbformat_minor": 2
}
