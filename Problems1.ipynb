{
 "cells": [
  {
   "cell_type": "markdown",
   "metadata": {},
   "source": [
    "# **Problems 1**\n",
    "A set of simple example problems to learn APL"
   ]
  },
  {
   "cell_type": "markdown",
   "metadata": {},
   "source": [
    "## **Residue**\n",
    "Using the `|` modulo function"
   ]
  },
  {
   "cell_type": "markdown",
   "metadata": {},
   "source": [
    "### 1.\n",
    "There is a basket of `M` apples 🍎.  \n",
    "How many remain if we distribute whole apples equally between `N` people?  \n",
    "**_Example session:_**  \n",
    "```APL\n",
    "      ⍝ 29 apples for 5 people\n",
    "      29(your_function)5\n",
    "4\n",
    "```"
   ]
  },
  {
   "cell_type": "code",
   "execution_count": 2,
   "metadata": {},
   "outputs": [],
   "source": [
    "⍝ Answer below:"
   ]
  },
  {
   "cell_type": "markdown",
   "metadata": {},
   "source": [
    "### 2.\n",
    "Given an array of numbers, write a function to calculate how many even numbers are in the array.  \n",
    "_**Example session:**__  \n",
    "```APL\n",
    "      (your_function)1 3 4  5 1 2 5 6 7 21 4 566 214 21 4 16 315 35 768 34 4 135\n",
    "10      \n",
    "```"
   ]
  },
  {
   "cell_type": "code",
   "execution_count": 3,
   "metadata": {},
   "outputs": [],
   "source": [
    "⍝ Answer below:"
   ]
  },
  {
   "cell_type": "markdown",
   "metadata": {},
   "source": [
    "### 3.\n",
    "_Other useful primitives:_ `⍳ ⊂ `  \n",
    "  \n",
    "Write a function `DaysFrom` to calculate the day of the week `N` days from a given day.  \n",
    "The left argument should be a number of days, `N`.  \n",
    "The right argument should be a character vector representing the initial day of the week.  \n",
    "_**Example session:**__  \n",
    "```APL\n",
    "      100 DaysFrom 'Saturday'\n",
    "Monday      \n",
    "```"
   ]
  },
  {
   "cell_type": "code",
   "execution_count": 4,
   "metadata": {},
   "outputs": [],
   "source": [
    "⍝ Answer below:"
   ]
  }
 ],
 "metadata": {
  "kernelspec": {
   "display_name": "Dyalog APL",
   "language": "apl",
   "name": "dyalog-kernel"
  },
  "language_info": {
   "file_extension": ".apl",
   "mimetype": "text/apl",
   "name": "APL"
  }
 },
 "nbformat": 4,
 "nbformat_minor": 2
}
