{
 "cells": [
  {
   "cell_type": "markdown",
   "metadata": {},
   "source": [
    "# Operators\n",
    "Operators are allow implementation of [higher-order functions](https://en.wikipedia.org/wiki/Higher-order_function) in APL. An operator takes 1 or 2 operands (which are usually functions) as arguments and derives a function which itself can be either [monadic or dyadic](APL.ipynb#Syntax)."
   ]
  },
  {
   "cell_type": "markdown",
   "metadata": {},
   "source": [
    "### Reduction\n",
    "A very common operation is to insert a function between each of the elements of an array. For example, the sum of numbers 1 to 10:\n",
    "$$\\sum_{N=1}^{10}=55$$"
   ]
  },
  {
   "cell_type": "code",
   "execution_count": 2,
   "metadata": {},
   "outputs": [
    {
     "data": {
      "text/html": [
       "<span style=\"white-space:pre; font-family: monospace\">55\n",
       "</span>"
      ]
     },
     "execution_count": 2,
     "metadata": {},
     "output_type": "execute_result"
    }
   ],
   "source": [
    "⍝ List the numbers 1 to 10:\n",
    "1 2 3 4 5 6 7 8 9 10\n",
    "⍝ Insert the addition (plus) function + between each pair of elements:\n",
    "1+2+3+4+5+6+7+8+9+10\n",
    "⍝ The reduction operator / ⌿ does this easily:\n",
    "+⌿1 2 3 4 5 6 7 8 9 10"
   ]
  },
  {
   "cell_type": "markdown",
   "metadata": {},
   "source": [
    "The list can be generated using the [index generator](Generators.ipynb#Index-Generator) `⍳`:"
   ]
  },
  {
   "cell_type": "code",
   "execution_count": 3,
   "metadata": {},
   "outputs": [
    {
     "data": {
      "text/html": [
       "<span style=\"white-space:pre; font-family: monospace\">1 2 3 4 5 6 7 8 9 10\n",
       "</span>"
      ]
     },
     "execution_count": 3,
     "metadata": {},
     "output_type": "execute_result"
    },
    {
     "data": {
      "text/html": [
       "<span style=\"white-space:pre; font-family: monospace\">55\n",
       "</span>"
      ]
     },
     "execution_count": 3,
     "metadata": {},
     "output_type": "execute_result"
    }
   ],
   "source": [
    "⍳10\n",
    "+⌿⍳10"
   ]
  },
  {
   "cell_type": "markdown",
   "metadata": {},
   "source": [
    "### Reduce high rank\n",
    "Reduce decreases the rank of an array by inserting along the last axis of that array:\n",
    "```APL\n",
    "      +/2 3 4⍴2\n",
    "8 8 8\n",
    "8 8 8\n",
    "```\n",
    "Reduce the last axis by applying the function between each element of each row. Row refers, in this case, to the last axis of the array.  \n",
    "This is just like doing:\n",
    "```APL\n",
    "2+2+2+2\n",
    "2+2+2+2\n",
    "2+2+2+2\n",
    "       \n",
    "2+2+2+2\n",
    "2+2+2+2\n",
    "2+2+2+2\n",
    "```"
   ]
  },
  {
   "cell_type": "markdown",
   "metadata": {},
   "source": [
    "### Reduce square brackets\n",
    "Square brackets can be used on a reduction to select the axis along which the reduction occurs:\n",
    "```APL\n",
    "      +/[2]2 3 4⍴2\n",
    "6 6 6 6\n",
    "6 6 6 6\n",
    "```\n",
    "Reduce the second axis by applying the function between elements in each column of the array.  \n",
    "This is just like doing:\n",
    "```APL\n",
    "2 2 2 2\n",
    "+ + + +\n",
    "2 2 2 2\n",
    "+ + + +\n",
    "2 2 2 2\n",
    "       \n",
    "2 2 2 2\n",
    "+ + + +\n",
    "2 2 2 2\n",
    "+ + + +\n",
    "2 2 2 2\n",
    "```"
   ]
  },
  {
   "cell_type": "markdown",
   "metadata": {},
   "source": [
    "### Reduce first\n",
    "The primitive `⌿` reduces the first axis of the argument array.\n",
    "```APL\n",
    "      +⌿2 3 4⍴2\n",
    "4 4 4 4\n",
    "4 4 4 4\n",
    "4 4 4 4\n",
    "```\n",
    "Reduce the first axis by applying the function between elements in each plane of the array.  \n",
    "This is just like doing:\n",
    "```APL\n",
    "2 2 2 2\n",
    "2 2 2 2\n",
    "2 2 2 2\n",
    "+ + + +\n",
    "2 2 2 2\n",
    "2 2 2 2\n",
    "2 2 2 2\n",
    "```\n",
    "and is equivalent to:\n",
    "```APL\n",
    "      (3 4⍴2)+(3 4⍴2)\n",
    "4 4 4 4\n",
    "4 4 4 4\n",
    "4 4 4 4\n",
    "```"
   ]
  },
  {
   "cell_type": "code",
   "execution_count": null,
   "metadata": {},
   "outputs": [],
   "source": []
  }
 ],
 "metadata": {
  "kernelspec": {
   "display_name": "Dyalog APL",
   "language": "apl",
   "name": "dyalog-kernel"
  },
  "language_info": {
   "file_extension": ".apl",
   "mimetype": "text/apl",
   "name": "APL"
  }
 },
 "nbformat": 4,
 "nbformat_minor": 2
}
