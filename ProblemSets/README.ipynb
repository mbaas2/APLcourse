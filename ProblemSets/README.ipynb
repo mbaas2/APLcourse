{
 "cells": [
  {
   "cell_type": "markdown",
   "metadata": {},
   "source": [
    "# Problem Sets\n",
    "\n",
    "Short problems to reinforce learning of particular concepts.\n",
    "\n",
    "## Contents\n",
    "  - [PrimitiveProblems.ipynb](./PrimitiveProblems.ipynb)   \n",
    "  - [Problems.ipynb](./Problems.ipynb)                     \n",
    "  - [ThinkingAPL.ipynb](./ThinkingAPL.ipynb)               \n",
    "  - [WordProblems](./WordProblems/README.ipynb)            \n",
    "    - [BSDwords.txt](WordProblems/BSDwords.txt)            \n",
    "    - [WordProblems.ipynb](WordProblems/WordProblems.ipynb)"
   ]
  }
 ],
 "metadata": {
  "kernelspec": {
   "display_name": "Dyalog APL",
   "language": "apl",
   "name": "dyalog-kernel"
  },
  "language_info": {
   "file_extension": ".apl",
   "mimetype": "text/apl",
   "name": "APL"
  }
 },
 "nbformat": 4,
 "nbformat_minor": 4
}
