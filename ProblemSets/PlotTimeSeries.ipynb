{
 "cells": [
  {
   "cell_type": "markdown",
   "metadata": {},
   "source": [
    "# Plot a time series\n",
    "A common task in data science is plotting data from text sources. This task involves processing a text value and plotting data from it. \n",
    "\n",
    "The final plot should look just like the image shown below."
   ]
  },
  {
   "cell_type": "code",
   "execution_count": 6,
   "metadata": {},
   "outputs": [
    {
     "data": {
      "text/html": [
       "<img src=\"../img/PlotTimeSeries.svg\"></img>"
      ]
     },
     "execution_count": 6,
     "metadata": {},
     "output_type": "execute_result"
    }
   ],
   "source": [
    "]HTML '<img src=\"../img/PlotTimeSeries.svg\"></img>'"
   ]
  },
  {
   "cell_type": "markdown",
   "metadata": {},
   "source": [
    "The data is standard output from the command line tool [vmstat](https://en.wikipedia.org/wiki/Vmstat), which gives information about operating system processes.\n",
    "\n",
    "> The data is in a text file: `../data/vm.out`.\n",
    "\n",
    "The task is to write two functions. "
   ]
  },
  {
   "cell_type": "markdown",
   "metadata": {},
   "source": [
    "***\n",
    "The first is a function named `Process` which processes the text file and returns one or more APL arrays which contain the data. \n",
    "> _**Example session:**_\n",
    "```APL\n",
    "      5↑Process'vm.out'\n",
    "┌─┬─┬──────┬────┬──┬──┬──┬──┬──┬──┬──┬───┬───┬──┬──┬──┬──┬────┬───┬────────┐\n",
    "│r│b│avm   │fre │re│pi│po│fr│sr│cy│in│sy │cs │us│sy│id│wa│pc  │ec │time    │\n",
    "├─┼─┼──────┼────┼──┼──┼──┼──┼──┼──┼──┼───┼───┼──┼──┼──┼──┼────┼───┼────────┤\n",
    "│3│0│667313│3505│0 │0 │0 │10│10│0 │4 │257│200│0 │0 │99│0 │0.01│2.2│13:07:40│\n",
    "├─┼─┼──────┼────┼──┼──┼──┼──┼──┼──┼──┼───┼───┼──┼──┼──┼──┼────┼───┼────────┤\n",
    "│3│0│667328│3489│0 │0 │0 │0 │0 │0 │4 │130│192│0 │0 │99│0 │0.01│1.9│13:07:50│\n",
    "├─┼─┼──────┼────┼──┼──┼──┼──┼──┼──┼──┼───┼───┼──┼──┼──┼──┼────┼───┼────────┤\n",
    "│3│0│667328│3489│0 │0 │0 │0 │0 │0 │3 │140│199│0 │0 │99│0 │0.01│2.0│13:08:00│\n",
    "├─┼─┼──────┼────┼──┼──┼──┼──┼──┼──┼──┼───┼───┼──┼──┼──┼──┼────┼───┼────────┤\n",
    "│3│0│667329│3488│0 │0 │0 │0 │0 │0 │7 │228│199│0 │0 │99│0 │0.01│2.2│13:08:10│\n",
    "└─┴─┴──────┴────┴──┴──┴──┴──┴──┴──┴──┴───┴───┴──┴──┴──┴──┴────┴───┴────────┘\n",
    "```\n",
    "\n",
    "The example above returns one nested matrx of character vectors. Another approach could be to return one numeric matrix and two nested vectors of character vectors.\n",
    "\n",
    "> _**Example session:**_\n",
    "```APL\n",
    "      {⍪(10↑⊃⍵)(,10↑2⊃⍵)(⊃⌽⍵)}Process'vm.out'\n",
    "┌───────────────────────────────────────────────────────────────────────────────────────────┐\n",
    "│3 0 667313 3505 0 0 0 10 10 0 4 257 200 0 0 99 0 0.01 2.2                                  │\n",
    "│3 0 667328 3489 0 0 0  0  0 0 4 130 192 0 0 99 0 0.01 1.9                                  │\n",
    "│3 0 667328 3489 0 0 0  0  0 0 3 140 199 0 0 99 0 0.01 2                                    │\n",
    "│3 0 667329 3488 0 0 0  0  0 0 7 228 199 0 0 99 0 0.01 2.2                                  │\n",
    "│3 0 666987 3829 0 0 0  0  0 0 5 243 195 0 0 99 0 0.01 2.1                                  │\n",
    "│2 0 666987 3829 0 0 0  0  0 0 9 129 200 0 0 99 0 0.01 2.4                                  │\n",
    "│2 0 666987 3829 0 0 0  0  0 0 3 138 196 0 0 99 0 0.01 2                                    │\n",
    "│3 0 666987 3829 0 0 0  0  0 0 3 134 194 0 0 99 0 0.01 2                                    │\n",
    "│3 0 666987 3829 0 0 0  0  0 0 2 135 198 0 0 99 0 0.01 2                                    │\n",
    "│3 0 666987 3829 0 0 0  0  0 0 4 139 197 0 0 99 0 0.01 2                                    │\n",
    "├───────────────────────────────────────────────────────────────────────────────────────────┤\n",
    "│┌────────┬────────┬────────┬────────┬────────┬────────┬────────┬────────┬────────┬────────┐│\n",
    "││13:07:40│13:07:50│13:08:00│13:08:10│13:08:20│13:08:30│13:08:40│13:08:50│13:09:00│13:09:10││\n",
    "│└────────┴────────┴────────┴────────┴────────┴────────┴────────┴────────┴────────┴────────┘│\n",
    "├───────────────────────────────────────────────────────────────────────────────────────────┤\n",
    "│┌─┬─┬───┬───┬──┬──┬──┬──┬──┬──┬──┬──┬──┬──┬──┬──┬──┬──┬──┬────┐                            │\n",
    "││r│b│avm│fre│re│pi│po│fr│sr│cy│in│sy│cs│us│sy│id│wa│pc│ec│time│                            │\n",
    "│└─┴─┴───┴───┴──┴──┴──┴──┴──┴──┴──┴──┴──┴──┴──┴──┴──┴──┴──┴────┘                            │\n",
    "└───────────────────────────────────────────────────────────────────────────────────────────┘\n",
    "```"
   ]
  },
  {
   "cell_type": "markdown",
   "metadata": {},
   "source": [
    "The second is a function which plots selected rows from the data as a time series, with the time stamps as labels on the horizontal axis.\n",
    "\n",
    ">_**Example session:**_\n",
    "```APL\n",
    "      14 15 17 Plot data\n",
    "```\n",
    "\n",
    "This function should cause SharpPlot to display an image similar to the one shown above."
   ]
  }
 ],
 "metadata": {
  "kernelspec": {
   "display_name": "Dyalog APL",
   "language": "apl",
   "name": "dyalog-kernel"
  },
  "language_info": {
   "file_extension": ".apl",
   "mimetype": "text/apl",
   "name": "APL"
  }
 },
 "nbformat": 4,
 "nbformat_minor": 4
}
