{
 "cells": [
  {
   "cell_type": "markdown",
   "metadata": {},
   "source": [
    "# Thinking in APL\n",
    "Without executing, write the **result** or **[error message](http://help.dyalog.com/17.0/Content/Language/Errors/APL%20Errors.htm)** APL would generate if each of the following statements were executed.  \n",
    "_**Explain your answers.**_"
   ]
  },
  {
   "cell_type": "markdown",
   "metadata": {},
   "source": [
    "Double click to edit the cell below"
   ]
  },
  {
   "cell_type": "markdown",
   "metadata": {},
   "source": [
    "**1)** 2+3 4\n",
    "\n",
    "**2)** 8÷0\n",
    "\n",
    "**3)** 1+\n",
    "\n",
    "**4)** 2+2 2+2\n",
    "\n",
    "**5)** 5 6+7 8 9\n",
    "\n",
    "**6)** 6×3+2-7-8-¯9   \n",
    "\n",
    "**7)** A←10    \n",
    "\n",
    "**8)** B←7      \n",
    "\n",
    "**9)** A+B-C   \n",
    "\n",
    "**10)** C←4       \n",
    "\n",
    "**11)** A-B-C            \n",
    "\n",
    "**12)** )VARS            \n",
    "\n",
    "**13)** a+b+c            \n",
    "\n",
    "**14)** 3××¯2            \n",
    "\n",
    "**15)** ¯7⍴3             \n",
    "\n",
    "**16)** ⌊.5+2.7 2.5 ¯1.2 \n",
    "\n",
    "**17)** ⌈¯.5+2.7 2.5 ¯1.2\n",
    "\n",
    "**18)** ⌈¯.5+2.7 2.5 -1.2\n",
    "\n",
    "**19)** 3-- .5             \n",
    "\n",
    "**20)** 3-¯ .5             \n",
    "\n",
    "**21)** ⍳3                 \n",
    "\n",
    "**22)** ⍳3-5               \n",
    "\n",
    "**23)** (⍳3)-5             \n",
    "\n",
    "**24)** ¯5+⍳3              \n",
    "\n",
    "**25)** ⍳2 2⍴⍳4            \n",
    "\n",
    "**26)** 2 2⍴⍳4-6 7         \n",
    "\n",
    "**27)** 2 2⍴⍳4-6 7 8 9     \n",
    "\n",
    "**28)** (2 2⍴⍳4)-6 7 8 9   \n",
    "\n",
    "**29)** (2 2⍴⍳4)-3 3⍴⍳9    \n",
    "\n",
    "**30)** (2 2⍴⍳4)-2 2⍴5+⍳4  \n",
    "\n",
    "**31)** (2 2⍴⍳4)-(2 2⍴5)+⍳4\n",
    "\n",
    "**32)** +/⍳10              \n",
    "\n",
    "**33)** -/⍳10              \n",
    "\n",
    "**34)** +/⍳5÷2             \n",
    "\n",
    "**35)** +/(⍳5)÷2           \n",
    "\n",
    "**36)** (+/⍳5)÷2 "
   ]
  }
 ],
 "metadata": {
  "kernelspec": {
   "display_name": "Dyalog APL",
   "language": "apl",
   "name": "dyalog-kernel"
  },
  "language_info": {
   "file_extension": ".apl",
   "mimetype": "text/apl",
   "name": "APL"
  }
 },
 "nbformat": 4,
 "nbformat_minor": 4
}
