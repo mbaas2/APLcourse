{
 "cells": [
  {
   "cell_type": "markdown",
   "metadata": {},
   "source": [
    "# APL one-liners\n",
    "These problems can all be solved in one line of APL. The problems get progressively more difficult.\n",
    "\n",
    "> **Note** Just because a problem can be solved in one line doesn't mean it always should be. In production code, there are other priorities to consider:\n",
    "- Can someone else understand my code?\n",
    "- Can I understand my code 3 days later?\n",
    "- Is my code sufficiently fast?"
   ]
  },
  {
   "cell_type": "markdown",
   "metadata": {},
   "source": [
    "***\n",
    "### Back to school\n",
    "Sum the numbers from 1 to 10"
   ]
  },
  {
   "cell_type": "code",
   "execution_count": 4,
   "metadata": {},
   "outputs": [],
   "source": [
    "⍝ Answer here"
   ]
  },
  {
   "cell_type": "markdown",
   "metadata": {},
   "source": [
    "***\n",
    "### What's in a vector?"
   ]
  },
  {
   "cell_type": "markdown",
   "metadata": {},
   "source": [
    "The simple numeric vector `vec` is declared in the first statement below:\n",
    "##### a. How many elements in vec?\n",
    "##### b. What is the largest value in vec?\n",
    "##### c. What is the smallest value in vec?\n",
    "##### d. What is the range of values in vec?\n",
    "##### e. What is the sum of values in vec?\n",
    "##### f. What is the product of values in vec?\n",
    "##### g. What is the mean average of values in vec?"
   ]
  },
  {
   "cell_type": "code",
   "execution_count": 3,
   "metadata": {},
   "outputs": [],
   "source": [
    "vec←13 3 4 18 4 10 18 20 18 14 3 8 2 20 11 3 8 19 13 14 11 15 7 5 13 5 1 15 2 10 15 5 19 4 16 10 2 10 8 10 11 55 18 5 16 13 10 5 13 2 9 11 1 13 13 12 13 17 44 9 16 17 14 7 20 11 6 8 7 16 15 65 15 9 15 14 15 9 13 4 3 9 12 11 1 10 4 10 52 7 14 4 16 8 4 8 4 12 10 15\n",
    "⍝ Answer here"
   ]
  }
 ],
 "metadata": {
  "kernelspec": {
   "display_name": "Dyalog APL",
   "language": "apl",
   "name": "dyalog-kernel"
  },
  "language_info": {
   "file_extension": ".apl",
   "mimetype": "text/apl",
   "name": "APL"
  }
 },
 "nbformat": 4,
 "nbformat_minor": 4
}
