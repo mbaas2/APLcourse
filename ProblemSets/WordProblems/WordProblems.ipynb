{
 "cells": [
  {
   "cell_type": "markdown",
   "metadata": {},
   "source": [
    "# Word problems\n",
    "Problems involving character data and nested arrays."
   ]
  },
  {
   "cell_type": "markdown",
   "metadata": {},
   "source": [
    "Below we will load in the [FreeBSD words list](https://svnweb.freebsd.org/csrg/share/dict/words?revision=61569) as a nested vector of character vectors called `wordlist` and capitalise all words."
   ]
  },
  {
   "cell_type": "code",
   "execution_count": 10,
   "metadata": {},
   "outputs": [
    {
     "data": {
      "text/html": [
       "<span style=\"white-space:pre; font-family: monospace\">┌─┬───┬────┬────────┬──────┬─────┬───┬─────┬─────┬──────┐\n",
       "│A│AAA│AAAS│AARDVARK│AARHUS│AARON│ABA│ABABA│ABACK│ABACUS│\n",
       "└─┴───┴────┴────────┴──────┴─────┴───┴─────┴─────┴──────┘\n",
       "</span>"
      ]
     },
     "execution_count": 10,
     "metadata": {},
     "output_type": "execute_result"
    }
   ],
   "source": [
    "wordlist←1(819⌶)(⎕UCS 10)(≠⊆⊢)⊃⎕NGET'BSDwords.txt'\n",
    "10↑wordlist"
   ]
  },
  {
   "cell_type": "markdown",
   "metadata": {},
   "source": [
    "**1)** How many words are in the word list?"
   ]
  },
  {
   "cell_type": "code",
   "execution_count": 7,
   "metadata": {},
   "outputs": [],
   "source": [
    "⍝ Answer here"
   ]
  },
  {
   "cell_type": "markdown",
   "metadata": {},
   "source": [
    "**2)**  \n",
    "**a)** How short is the shortest word?  \n",
    "**b)** How long is the longest word?"
   ]
  },
  {
   "cell_type": "code",
   "execution_count": 8,
   "metadata": {},
   "outputs": [],
   "source": [
    "⍝ Answer here"
   ]
  },
  {
   "cell_type": "markdown",
   "metadata": {},
   "source": [
    "Create a variable `mini` containing the first 50 words of `dict`. Use this smaller variable to test your solutions to the following problems. Once they work with `mini`, try your solution as a function applied to `wordlist`."
   ]
  },
  {
   "cell_type": "markdown",
   "metadata": {},
   "source": [
    "**3)** Find all palindromic words in `wordlist` (palindromes are identical when spelled backwards). "
   ]
  },
  {
   "cell_type": "code",
   "execution_count": 11,
   "metadata": {},
   "outputs": [],
   "source": [
    "⍝ Answer here"
   ]
  },
  {
   "cell_type": "markdown",
   "metadata": {},
   "source": [
    "**4)** Find the distribution of word lengths in the `wordlist` (how many words of each length are there?).  \n",
    "*Hint* There are at least four ways to do this. You may use `cmpx` or `]runtime` to compare the run times of different methods."
   ]
  },
  {
   "cell_type": "code",
   "execution_count": 12,
   "metadata": {},
   "outputs": [],
   "source": [
    "⍝ Answer here"
   ]
  },
  {
   "cell_type": "markdown",
   "metadata": {},
   "source": [
    "**5)** The variable `points`, defined below, contains the Scrabble point values for each letter in the alphabet.  \n",
    "**a)** Create a function `Score` which returns the point value of a word. You may assume that a player has enough letter pieces to complete the word.  \n",
    "**b)** Using your function, find the highest scoring word in `wordlist`. How many points is it worth?"
   ]
  },
  {
   "cell_type": "code",
   "execution_count": 14,
   "metadata": {},
   "outputs": [],
   "source": [
    "points←1 3 3 2 1 4 2 4 1 8 5 1 3 1 1 3 10 1 1 1 1 4 4 8 4 10\n",
    "⍝ Answer here"
   ]
  },
  {
   "cell_type": "markdown",
   "metadata": {},
   "source": [
    "**6)** Now let's examine the distribution of letters in the word list.  \n",
    "**a)** Create a table of the frequency distribution of letters in the alphabet.  \n",
    "*Hint* First change `wordlist` from a nested vector of vectors into a single vector.  \n",
    "**b)** *Bonus task* Create an in-session histogram of the frequency distribution (use the `⎕` character)."
   ]
  },
  {
   "cell_type": "code",
   "execution_count": 15,
   "metadata": {},
   "outputs": [],
   "source": [
    "⍝ Answer here"
   ]
  },
  {
   "cell_type": "markdown",
   "metadata": {},
   "source": [
    "**b)** The variable `freq`, defined below, contains the actual letter distribution in Scrabble. Are there any large discrepancies between `freq` and what was calculated in **6)a)**?"
   ]
  },
  {
   "cell_type": "code",
   "execution_count": null,
   "metadata": {},
   "outputs": [],
   "source": [
    "⍝ Answer here"
   ]
  }
 ],
 "metadata": {
  "kernelspec": {
   "display_name": "Dyalog APL",
   "language": "apl",
   "name": "dyalog-kernel"
  },
  "language_info": {
   "file_extension": ".apl",
   "mimetype": "text/apl",
   "name": "APL"
  }
 },
 "nbformat": 4,
 "nbformat_minor": 4
}
