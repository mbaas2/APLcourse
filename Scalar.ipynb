{
 "cells": [
  {
   "cell_type": "markdown",
   "metadata": {},
   "source": [
    "# Scalar functions\n",
    "Scalar functions apply to each element in their argument array. Many of the primitive functions, including the [arithmetic functions](Arithmetic.ipynb) are scalar functions."
   ]
  },
  {
   "cell_type": "markdown",
   "metadata": {},
   "source": [
    "Scalar functions map between elements of conformable arrays. Conformable arrays have the same shape:"
   ]
  },
  {
   "cell_type": "code",
   "execution_count": 1,
   "metadata": {},
   "outputs": [
    {
     "data": {
      "text/html": [
       "<span style=\"white-space:pre; font-family: monospace\">5 7 9\n",
       "</span>"
      ]
     },
     "execution_count": 1,
     "metadata": {},
     "output_type": "execute_result"
    }
   ],
   "source": [
    "⍝ Add two lists:\n",
    "1 2 3 + 4 5 6"
   ]
  },
  {
   "cell_type": "code",
   "execution_count": 2,
   "metadata": {},
   "outputs": [
    {
     "data": {
      "text/html": [
       "<span style=\"white-space:pre; font-family: monospace\">┌───┬───┬───┐\n",
       "│2 2│5 5│8 8│\n",
       "│2 2│5 5│8 8│\n",
       "│   │   │   │\n",
       "│   │   │8 8│\n",
       "│   │   │8 8│\n",
       "└───┴───┴───┘\n",
       "</span>"
      ]
     },
     "execution_count": 2,
     "metadata": {},
     "output_type": "execute_result"
    }
   ],
   "source": [
    "⍝ Add a list to a nested vector of arrays:\n",
    "1 2 3 + (2 2⍴1)(2 2⍴3)(2 2 2⍴5)"
   ]
  },
  {
   "cell_type": "markdown",
   "metadata": {},
   "source": [
    "### Scalar extension\n",
    "If one of the argument arrays to a scalar function is a scalar then that argument is mapped to each element of the other argument array:"
   ]
  },
  {
   "cell_type": "code",
   "execution_count": 6,
   "metadata": {},
   "outputs": [
    {
     "data": {
      "text/html": [
       "<span style=\"white-space:pre; font-family: monospace\">11 12 13 14 15 16\n",
       "</span>"
      ]
     },
     "execution_count": 6,
     "metadata": {},
     "output_type": "execute_result"
    },
    {
     "data": {
      "text/html": [
       "<span style=\"white-space:pre; font-family: monospace\">11 12 13 14 15 16\n",
       "</span>"
      ]
     },
     "execution_count": 6,
     "metadata": {},
     "output_type": "execute_result"
    }
   ],
   "source": [
    "⍝ Add 10 to a list of numbers:\n",
    "10 + 1 2 3 4 5 6\n",
    "⍝ Either argument (left or right) may be scalar:\n",
    "1 2 3 4 5 6 + 10"
   ]
  },
  {
   "cell_type": "code",
   "execution_count": 9,
   "metadata": {},
   "outputs": [
    {
     "data": {
      "text/html": [
       "<span style=\"white-space:pre; font-family: monospace\">15 15 15 15\n",
       "15 15 15 15\n",
       "15 15 15 15\n",
       "           \n",
       "15 15 15 15\n",
       "15 15 15 15\n",
       "15 15 15 15\n",
       "</span>"
      ]
     },
     "execution_count": 9,
     "metadata": {},
     "output_type": "execute_result"
    }
   ],
   "source": [
    "⍝ Scalar extension works with arrays of any rank:\n",
    "5 + 2 3 4⍴10"
   ]
  },
  {
   "cell_type": "code",
   "execution_count": 11,
   "metadata": {},
   "outputs": [
    {
     "data": {
      "text/html": [
       "<span style=\"white-space:pre; font-family: monospace\">┌─┬───┬─┬─┬─────────────────────────┐\n",
       "│4│6 6│7│4│┌─┬─┬──┬────────────────┐│\n",
       "│ │6 6│ │ ││8│9│10│┌──┬────────┬──┐││\n",
       "│ │   │ │ ││ │ │  ││11│ 4  5  6│11│││\n",
       "│ │   │ │ ││ │ │  ││  │ 7  8  9│  │││\n",
       "│ │   │ │ ││ │ │  ││  │10 11 12│  │││\n",
       "│ │   │ │ ││ │ │  │└──┴────────┴──┘││\n",
       "│ │   │ │ │└─┴─┴──┴────────────────┘│\n",
       "└─┴───┴─┴─┴─────────────────────────┘\n",
       "</span>"
      ]
     },
     "execution_count": 11,
     "metadata": {},
     "output_type": "execute_result"
    }
   ],
   "source": [
    "⍝ Scalar extension penetrates through nested arrays:\n",
    "3 + (1 (2 2⍴3) 4 1 (5 6 (7) (8 (3 3⍴⍳9) 8)))"
   ]
  }
 ],
 "metadata": {
  "kernelspec": {
   "display_name": "Dyalog APL",
   "language": "apl",
   "name": "dyalog-kernel"
  },
  "language_info": {
   "file_extension": ".apl",
   "mimetype": "text/apl",
   "name": "APL"
  }
 },
 "nbformat": 4,
 "nbformat_minor": 2
}
