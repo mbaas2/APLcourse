{
 "cells": [
  {
   "cell_type": "markdown",
   "metadata": {},
   "source": [
    "# APLcourse\n",
    "A New APL Course\n",
    "\n",
    "These materials are designed to teach you how to solve real problems using computers. They include exam-like [problem sets](ProblemSets/README.ipynb) and programming [project ideas](Projects/README.ipynb) to test your APL knowledge and problem-solving ability. \n",
    "\n",
    "There are also [tutorials](Tutorials/README.ipynb) on various specific APL and programming concepts. There may be linked references to external resources, such as the [APL Wiki](https://aplwiki.miraheze.org) or the book [Mastering Dyalog APL](https://www.dyalog.com/mastering-dyalog-apl.htm)."
   ]
  },
  {
   "cell_type": "markdown",
   "metadata": {},
   "source": [
    "***\n",
    "## 🛈 General information\n",
    "> [How to use these notebooks](#How-to-use-Jupyter-notebooks)  \n",
    "[Conventions used in these materials](#Conventions)  \n",
    "[Which notebook to begin with](#Uh...-where-do-I-start?)  \n",
    "[Table of contents](#Contents)  "
   ]
  },
  {
   "cell_type": "markdown",
   "metadata": {},
   "source": [
    "***\n",
    "## Uh... where do I start?\n",
    "We have some curated catalogues of content for different purposes.\n",
    "### Who are you?\n",
    "- [I am new to programming](Catalogues/Noobs.ipynb) (work in progress)\n",
    "- [I am a programmer but new to APL](Catalogues/APLnoobs.ipynb) (work in progress)\n",
    "- [I want to learn some intermediate APL](Catalogues/Intermediate.ipynb) (work in progress)\n",
    "- I am an old APLer and want to learn about modern APL (coming soon...)\n",
    "- I am looking for APL resources (coming soon...)"
   ]
  },
  {
   "cell_type": "markdown",
   "metadata": {},
   "source": [
    "***\n",
    "## How to use Jupyter notebooks\n",
    "All of the course materials are in `.ipynb` [Jupyter notebooks](https://jupyter.org/). These are interactive documents with code blocks which can be executed if you view them in a Jupyter environment. \n",
    "***\n",
    "**Markdown cells**\n",
    "> Double-click on a cell to edit it\n",
    "\n",
    "> Press `Shift`+`Enter` to render a cell and move to the next one. \n",
    "\n",
    "> Press `Ctrl`+`Enter` to render a cell and remain in place.\n",
    "***\n",
    "**Code blocks**\n",
    "\n",
    "> Code blocks start with `[ ]:`  \n",
    "> Click on a cell to edit the code.\n",
    "\n",
    "> Press `Shift`+`Enter` to execute a cell and move to the next one.  \n",
    "\n",
    "> Press `Ctrl`+`Enter` to execute a cell and remain in place.\n",
    "\n",
    "**Execute the code block below**"
   ]
  },
  {
   "cell_type": "code",
   "execution_count": null,
   "metadata": {},
   "outputs": [],
   "source": [
    "    ⍝ This is a code block\n",
    "1+1 ⍝ This is some executable code, why don't you try it?"
   ]
  },
  {
   "cell_type": "markdown",
   "metadata": {},
   "source": [
    "***\n",
    "**Saving your work**\n",
    "\n",
    "The Binder session times out after **10 minutes** of inactivity. Having the browser tab in view counts as activity. An active session should continue to work for up to **12 hours**.\n",
    "\n",
    "You can save changes to notebooks with `Ctrl`+`S`, but remember to **download your changed notebooks before the session ends**. \n",
    "> Right-click on the `.ipynb` file → `⇓ Download`\n",
    "\n",
    "If this seems too annoying, you may want to consider [installing Dyalog Jupyter notebooks](Tutorials/InstallingDyalogJupyter.ipynb) locally."
   ]
  },
  {
   "cell_type": "markdown",
   "metadata": {},
   "source": [
    "***\n",
    "## Conventions\n",
    "`Grey highlight`  \n",
    "  Keyboard keys | Menu items | File extensions | Inline code\n",
    "  \n",
    "[Blue text](#)  \n",
    "  Hyperlinks: [click these to go to another notebook](#)\n",
    "  \n",
    "**Bold text**  \n",
    "  Emphasis: **important point** | Instruction: **do what the bold text says**"
   ]
  },
  {
   "cell_type": "markdown",
   "metadata": {},
   "source": [
    "***\n",
    "# Contents\n",
    "[Return to top](#APLcourse)\n",
    "***\n",
    "\n",
    "  - [Catalogues](./Catalogues/README.ipynb)                                                                 \n",
    "    - [APLnoobs.ipynb](Catalogues/APLnoobs.ipynb)                                                           \n",
    "    - [Intermediate.ipynb](Catalogues/Intermediate.ipynb)                                                   \n",
    "    - [Noobs.ipynb](Catalogues/Noobs.ipynb)                                                                 \n",
    "  - [Dockerfile](./Dockerfile/README.ipynb)                                                                 \n",
    "  - [LICENSE](./LICENSE/README.ipynb)                                                                       \n",
    "  - [ProblemSets](./ProblemSets/README.ipynb)                                                               \n",
    "    - [OneLiners.ipynb](ProblemSets/OneLiners.ipynb)                                                        \n",
    "    - [PrimitiveProblems.ipynb](ProblemSets/PrimitiveProblems.ipynb)                                        \n",
    "    - [Problems.ipynb](ProblemSets/Problems.ipynb)                                                          \n",
    "    - [ThinkingAPL.ipynb](ProblemSets/ThinkingAPL.ipynb)                                                    \n",
    "    - [WordProblems](ProblemSets/WordProblems/README.ipynb)                                                 \n",
    "      - [BSDwords.txt](ProblemSets/WordProblems/BSDwords.txt)                                               \n",
    "      - [WordProblems.ipynb](ProblemSets/WordProblems/WordProblems.ipynb)                                   \n",
    "  - [Projects](./Projects/README.ipynb)                                                                     \n",
    "    - [APLCourseMap.ipynb](Projects/APLCourseMap.ipynb)                                                     \n",
    "  - [START.ipynb](./START.ipynb)                                                                            \n",
    "  - [Tutorials](./Tutorials/README.ipynb)                                                                   \n",
    "    - [APL.ipynb](Tutorials/APL.ipynb)                                                                      \n",
    "    - [Arithmetic.ipynb](Tutorials/Arithmetic.ipynb)                                                        \n",
    "    - [Arrays.ipynb](Tutorials/Arrays.ipynb)                                                                \n",
    "    - [CreatingYourFirstDyalogJupyterNotebook.ipynb](Tutorials/CreatingYourFirstDyalogJupyterNotebook.ipynb)\n",
    "    - [Functions.ipynb](Tutorials/Functions.ipynb)                                                          \n",
    "    - [Generators.ipynb](Tutorials/Generators.ipynb)                                                        \n",
    "    - [InstallingDyalogJupyter.ipynb](Tutorials/InstallingDyalogJupyter.ipynb)                              \n",
    "    - [MarkingTests.ipynb](Tutorials/MarkingTests.ipynb)                                                    \n",
    "    - [Operators.ipynb](Tutorials/Operators.ipynb)                                                          \n",
    "    - [Rank.ipynb](Tutorials/Rank.ipynb)                                                                    \n",
    "    - [Reduction.ipynb](Tutorials/Reduction.ipynb)                                                          \n",
    "    - [Scalar.ipynb](Tutorials/Scalar.ipynb)                                                                \n",
    "    - [Selection.ipynb](Tutorials/Selection.ipynb)                                                          \n",
    "    - [Syntax.ipynb](Tutorials/Syntax.ipynb)                                                                \n",
    "    - [SystemCommands.ipynb](Tutorials/SystemCommands.ipynb)                                                \n",
    "    - [Tacit.ipynb](Tutorials/Tacit.ipynb)                                                                  \n",
    "    - [TypingAPL.ipynb](Tutorials/TypingAPL.ipynb)                                                          \n",
    "    - [WS.ipynb](Tutorials/WS.ipynb)                                                                        \n"
   ]
  }
 ],
 "metadata": {
  "kernelspec": {
   "display_name": "Dyalog APL",
   "language": "apl",
   "name": "dyalog-kernel"
  },
  "language_info": {
   "file_extension": ".apl",
   "mimetype": "text/apl",
   "name": "APL"
  }
 },
 "nbformat": 4,
 "nbformat_minor": 4
}
