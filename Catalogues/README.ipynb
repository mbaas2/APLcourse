{
 "cells": [
  {
   "cell_type": "markdown",
   "metadata": {},
   "source": [
    "# Catalogues\n",
    "APL course\n",
    "\n",
    "We have some curated catalogues of content for different purposes.\n",
    "### Who are you?\n",
    "- [I am new to programming](Noobs.ipynb)  (Work in progress)\n",
    "- [I am a programmer but new to APL](APLnoobs.md) (Work in progress)\n",
    "- [I want to learn some intermediate APL](Intermediate.md) (Work in progress)\n",
    "- [I am an old APLer and want to learn about modern APL](OldTimers.md) (Work in progress)"
   ]
  }
 ],
 "metadata": {
  "kernelspec": {
   "display_name": "Dyalog APL",
   "language": "apl",
   "name": "dyalog-kernel"
  },
  "language_info": {
   "file_extension": ".apl",
   "mimetype": "text/apl",
   "name": "APL"
  }
 },
 "nbformat": 4,
 "nbformat_minor": 4
}
