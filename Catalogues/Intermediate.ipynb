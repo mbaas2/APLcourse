{
 "cells": [
  {
   "cell_type": "markdown",
   "metadata": {},
   "source": [
    "# Intermediate APL\n",
    "So you know what an array is, you think you're so clever now?"
   ]
  },
  {
   "cell_type": "markdown",
   "metadata": {},
   "source": [
    "***\n",
    "For now, this is just a preliminary list of intermediate APL topics.\n",
    "- [Tacit functions](../Tutorials/Tacit.ipynb)\n",
    "- [The rank operator](../Tutorials/Rank.ipynb)\n",
    "- The stencil operator\n"
   ]
  }
 ],
 "metadata": {
  "kernelspec": {
   "display_name": "Dyalog APL",
   "language": "apl",
   "name": "dyalog-kernel"
  },
  "language_info": {
   "file_extension": ".apl",
   "mimetype": "text/apl",
   "name": "APL"
  }
 },
 "nbformat": 4,
 "nbformat_minor": 4
}
