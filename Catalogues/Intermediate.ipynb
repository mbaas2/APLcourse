{
 "cells": [
  {
   "cell_type": "markdown",
   "metadata": {},
   "source": [
    "# Intermediate APL\n",
    "So you know what an array is, you think you're so clever now?"
   ]
  },
  {
   "cell_type": "markdown",
   "metadata": {},
   "source": [
    "***\n",
    "For now, this is just a preliminary list of intermediate APL topics.\n",
    "- [Tacit functions](../Tutorials/Tacit.ipynb)\n",
    "- [The Rank operator](../Tutorials/Operators.ipynb#Rank)\n",
    "- [The Stencil operator](../Tutorials/Operators.ipynb#Stencil)\n"
   ]
  }
 ],
 "metadata": {
  "kernelspec": {
   "display_name": "Dyalog APL",
   "language": "apl",
   "name": "dyalog-kernel"
  },
  "language_info": {
   "file_extension": ".apl",
   "mimetype": "text/apl",
   "name": "APL"
  }
 },
 "nbformat": 4,
 "nbformat_minor": 4
}
