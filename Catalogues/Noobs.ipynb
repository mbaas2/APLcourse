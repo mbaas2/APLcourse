{
 "cells": [
  {
   "cell_type": "markdown",
   "metadata": {},
   "source": [
    "# I want to learn a programming language\n",
    "Here we will look at some basic ideas in programming. APL is a bit different to other programming languages for two main reasons: it is [array-oriented](../Tutorials/Arrays.ipynb) and it uses [symbols](../Tutorials/APL.ipynb) instead of keywords for [primitives](http://help.dyalog.com/17.0/Content/Language/Introduction/Language%20Elements.htm). \n",
    "\n",
    "To begin with, we will need to be able to type APL symbols."
   ]
  },
  {
   "cell_type": "markdown",
   "metadata": {},
   "source": [
    "## Typing APL symbols"
   ]
  },
  {
   "cell_type": "markdown",
   "metadata": {},
   "source": [
    "**Javascript language bar**  \n",
    "*The following code puts an APL language bar at the top of the page. In the lab view this bar remains between notebooks.*\n",
    "\n",
    "- Click symbols to input them\n",
    "- Use backtick `` ` `` and then type a key to enter symbols (mouse hover over a symbol to see which key)"
   ]
  },
  {
   "cell_type": "code",
   "execution_count": 4,
   "metadata": {},
   "outputs": [
    {
     "data": {
      "text/html": [
       "<script src=\"/files/assets/lb.js\"></script>"
      ]
     },
     "execution_count": 4,
     "metadata": {},
     "output_type": "execute_result"
    }
   ],
   "source": [
    "]HTML '<script src=\"/files/assets/lb.js\"></script>'"
   ]
  },
  {
   "cell_type": "markdown",
   "metadata": {},
   "source": [
    "## Using a physical keyboard\n",
    "\n",
    "Dyalog has some [reasonably up to date](https://www.dyalog.com/apl-font-keyboard.htm) information on APL fonts and keyboards. If you [download and install Dyalog](https://www.dyalog.com/download-zone.htm), you will be able to type APL symbols directly using the keyboard.\n",
    "\n",
    "For example, to type `⍺*⎕` you would press `APL-shift`+`a`+`p`+`l`.\n",
    "\n",
    "There is an `APL-shift` key for each of the major three operating systems: `Ctrl` on Windows; `Alt` on MacOS; and `Super`(Win key) on Linux. Keyboard layouts with these become available by default after installing Dyalog.\n",
    "\n",
    "### Author's recommendation\n",
    "So on Windows, the Ctrl key gets taken over by the Dyalog input and all the common keyboard shortcuts go to heck. I am learning Japanese, so I have a Japanese [IME](https://docs.microsoft.com/en-us/windows/win32/dxtecharts/installing-and-using-input-method-editors) and use `Win key`+`Space bar` to switch between UK English and Japanese IME keyboard layouts on Windows 10. Because of this, using `Win key`+`Space bar` to switch between UK English (where `Ctrl`+`S` is a 'save file' shortcut) and Dyalog APL (where `Ctrl`+`S` produces `⌈` upstile) wasn't too annoying.\n",
    "\n",
    "However, I have since learned of a better way:  \n",
    "On GitHub you can find [abrudz's keyboard layout](https://github.com/abrudz/kbd) which uses the `Alt Gr` key for `APL-shift`. Using [KeyTweak](https://keytweak.en.softonic.com/), I also mapped `Caps Lock` to `Alt Gr` - because WHO NEEDS TO TYPE LIKE THIS ANYWAY‽ So now I use `Caps Lock` or `Alt Gr` to type APL symbols. I can also type `ácçênted Ⓒhàracters` with ease.\n",
    "\n",
    "### Where is that symbol again?\n",
    "The dfns website has [a page on keyboard layouts](https://dfns.dyalog.com/n_keyboards.htm) which includes diagrams of a few common APL keyboard layouts for reference.  \n",
    "Here is the UK APL keyboard layout:\n",
    "<pre style=\"font-family: 'APL385 Unicode';\">\n",
    "Dyalog APL/en-GB keyboard\n",
    "¯¯¯¯¯¯¯¯¯¯¯¯¯¯¯¯¯¯¯¯¯¯¯¯¯\n",
    "┌────┬────┬────┬────┬────┬────┬────┬────┬────┬────┬────┬────┬────┬─────────┐\n",
    "│¬ ⌺ │! ⌶ │\" ⍫ │£ ⍒ │$ ⍋ │% ⌽ │^ ⍉ │& ⊖ │* ⍟ │( ⍱ │) ⍲ │_ ! │+ ⌹ │Backspace│\n",
    "│` ⋄ │1 ¨ │2 ¯ │3 < │4 ≤ │5 = │6 ≥ │7 > │8 ≠ │9 ∨ │0 ∧ │- × │= ÷ │         │\n",
    "├────┴──┬─┴──┬─┴──┬─┴──┬─┴──┬─┴──┬─┴──┬─┴──┬─┴──┬─┴──┬─┴──┬─┴──┬─┴──┬──────┤\n",
    "│Tab    │Q   │W   │E ⍷ │R   │T ⍨ │Y   │U   │I ⍸ │O ⍥ │P ⍣ │{ ⍞ │} ⍬ │Enter │\n",
    "│       │q ? │w ⍵ │e ∊ │r ⍴ │t ~ │y ↑ │u ↓ │i ⍳ │o ○ │p * │[ ← │] → │      │\n",
    "├───────┴┬───┴┬───┴┬───┴┬───┴┬───┴┬───┴┬───┴┬───┴┬───┴┬───┴┬───┴┬───┴┐     │\n",
    "│Caps    │A   │S   │D   │F   │G   │H   │J ⍤ │K ⌸ │L ⌷ │: ≡ │@ ≢ │~   │     │\n",
    "│Lock    │a ⍺ │s ⌈ │d ⌊ │f _ │g ∇ │h ∆ │j ∘ │k ' │l ⎕ │; ⍎ │' ⍕ │#   │     │\n",
    "├──────┬─┴──┬─┴──┬─┴──┬─┴──┬─┴──┬─┴──┬─┴──┬─┴──┬─┴──┬─┴──┬─┴──┬─┴────┴─────┤\n",
    "│Shift │| ⊣ │Z ⊆ │X   │C   │V   │B   │N   │M   │< ⍪ │> ⍙ │? ⍠ │Shift       │\n",
    "│      │\\ ⊢ │z ⊂ │x ⊃ │c ∩ │v ∪ │b ⊥ │n ⊤ │m | │, ⍝ │. ⍀ │/ ⌿ │            │\n",
    "├──────┴┬───┴─┬──┴───┬┴────┴────┴────┴────┴────┴┬───┴──┬─┴────┼─────┬──────┤\n",
    "│Ctrl   │Win  │Alt   │                          │Alt Gr│Win   │Menu │Ctrl  │\n",
    "│       │     │      │                          │      │      │     │      │\n",
    "└───────┴─────┴──────┴──────────────────────────┴──────┴──────┴─────┴──────┘\n",
    "</pre>"
   ]
  },
  {
   "cell_type": "markdown",
   "metadata": {},
   "source": [
    "Now that we can type symbols, let's just look at some things which are common to many programming languages."
   ]
  },
  {
   "cell_type": "markdown",
   "metadata": {},
   "source": [
    "## Variables and output\n",
    "A variable is a name with a value assigned to it."
   ]
  },
  {
   "cell_type": "code",
   "execution_count": null,
   "metadata": {},
   "outputs": [],
   "source": [
    "var ← 3 ⍝ var gets three"
   ]
  },
  {
   "cell_type": "markdown",
   "metadata": {},
   "source": [
    "How can we see what our variable contains?"
   ]
  },
  {
   "cell_type": "code",
   "execution_count": null,
   "metadata": {},
   "outputs": [],
   "source": [
    "var   ⍝ By default, APL interpreters print the output of a statement\n",
    "⎕←var ⍝ But it is best to assign desired output to 'quad'. This way we can find all output statements later on."
   ]
  },
  {
   "cell_type": "markdown",
   "metadata": {},
   "source": [
    "Vectors can be defined in APL by juxtaposing arrays, separated by spaces."
   ]
  },
  {
   "cell_type": "code",
   "execution_count": null,
   "metadata": {},
   "outputs": [],
   "source": [
    "⎕←1 5 4 3 2                                ⍝ A simple numeric vector of length 5\n",
    "⎕←(2 2⍴⎕A)(3 2⍴⎕A)(2 3⍴⎕A)                 ⍝ A vector of 3 character matrices\n",
    "⎕←'I' ' ' 'l' 'i' 'k' 'e' ' ' 'A' 'P' 'L'  ⍝ It could get awkward for character arrays\n",
    "⎕←'I like APL'                             ⍝ Luckily APL doesn't make us put one character at a time"
   ]
  },
  {
   "cell_type": "markdown",
   "metadata": {},
   "source": [
    "So you can see that APL makes a very concise [\"Hello, World!\"](https://en.wikipedia.org/wiki/%22Hello,_World!%22_program) program:"
   ]
  },
  {
   "cell_type": "code",
   "execution_count": null,
   "metadata": {},
   "outputs": [],
   "source": [
    "⎕←'Hello, World!'"
   ]
  },
  {
   "cell_type": "markdown",
   "metadata": {},
   "source": [
    "## Programs, functions and algorithms\n",
    "Often in programming, these three terms are used synonymously. The [tutorial about functions](Functions.ipynb) discusses the different types of functions in APL. There is also a worked example about [marking tests](MarkingTests.ipynb) which helps to demonstrate the difference between APL thinking and \"programs\" in more traditional programming languages."
   ]
  }
 ],
 "metadata": {
  "kernelspec": {
   "display_name": "Dyalog APL",
   "language": "apl",
   "name": "dyalog-kernel"
  },
  "language_info": {
   "file_extension": ".apl",
   "mimetype": "text/apl",
   "name": "APL"
  },
  "toc": {
   "base_numbering": 1,
   "nav_menu": {},
   "number_sections": true,
   "sideBar": true,
   "skip_h1_title": false,
   "title_cell": "Table of Contents",
   "title_sidebar": "Contents",
   "toc_cell": false,
   "toc_position": {},
   "toc_section_display": true,
   "toc_window_display": false
  }
 },
 "nbformat": 4,
 "nbformat_minor": 4
}
