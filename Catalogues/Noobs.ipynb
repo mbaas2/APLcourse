{
 "cells": [
  {
   "cell_type": "markdown",
   "metadata": {},
   "source": [
    "# I want to learn a programming language\n",
    "Here we will look at some basic ideas in programming. APL is a bit different to other programming languages for two main reasons: it is [array-oriented](../Tutorials/Arrays.ipynb) and it uses [symbols](../Tutorials/APL.ipynb) instead of keywords for [primitives](http://help.dyalog.com/17.0/Content/Language/Introduction/Language%20Elements.htm). \n",
    "\n",
    "To begin with, let's just look at some things which are common to many programming languages."
   ]
  },
  {
   "cell_type": "markdown",
   "metadata": {},
   "source": [
    "## Variables\n",
    "A variable is a name with a value assigned to it."
   ]
  },
  {
   "cell_type": "code",
   "execution_count": 3,
   "metadata": {},
   "outputs": [],
   "source": [
    "var ← 3"
   ]
  },
  {
   "cell_type": "code",
   "execution_count": null,
   "metadata": {},
   "outputs": [],
   "source": []
  }
 ],
 "metadata": {
  "kernelspec": {
   "display_name": "Dyalog APL",
   "language": "apl",
   "name": "dyalog-kernel"
  },
  "language_info": {
   "file_extension": ".apl",
   "mimetype": "text/apl",
   "name": "APL"
  }
 },
 "nbformat": 4,
 "nbformat_minor": 4
}
