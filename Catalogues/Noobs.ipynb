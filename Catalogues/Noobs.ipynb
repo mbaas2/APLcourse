{
 "cells": [
  {
   "cell_type": "markdown",
   "metadata": {},
   "source": [
    "# I want to learn a programming language\n",
    "Here we will look at some basic ideas in programming. APL is a bit different to other programming languages for two main reasons: it is [array-oriented](../Tutorials/Arrays.ipynb) and it uses [symbols](../Tutorials/APL.ipynb) instead of keywords for [primitives](http://help.dyalog.com/17.0/Content/Language/Introduction/Language%20Elements.htm). "
   ]
  },
  {
   "cell_type": "markdown",
   "metadata": {},
   "source": [
    "## Won't you play APL with me?\n",
    "Many programming books will suggest that you read along with a computer by your side. You are encouraged to type examples and try things out. Here we have cut out the part where you look back and forth from book to screen. The examples are provided in-line with the explanations and you are encouraged, nay *urged*, to execute and modify and re-execute the examples.\n",
    "\n",
    "At any point you can modify text blocks like this one by double-clicking. Then the notebook works like any other [markdown](https://markdown-guide.readthedocs.io/en/latest/basics.html) editor.\n",
    "\n",
    "If the cell begins with `[ ]:`, it is a code block. \n",
    "\n",
    "If you change a code block or markdown cell, press `Shift`+`Enter` or `Ctrl`+`Enter` to save the cell or execute the code."
   ]
  },
  {
   "cell_type": "markdown",
   "metadata": {},
   "source": [
    "## Programming basics\n",
    "To begin with, let's just look at some things which are common to many programming languages.\n",
    "\n",
    "A program is a series of instructions, given to a computer, which are carried out to accomplish some task. The details look different in different languages, but a few basic instructions appear injust about every language:\n",
    "\n",
    "*input:*  \n",
    "Get data from the keyboard, a file, the network, or some other device.\n",
    "\n",
    "*output:*  \n",
    "Display data on the screen, save it in a file, send it over the network, etc\n",
    "\n",
    "*math:*  \n",
    "Perform basic mathematical operations like addition and multiplication\n",
    "\n",
    "*conditional execution:*  \n",
    "Check for certain conditions and run the appropriate code\n",
    "\n",
    "*repetition:*  \n",
    "Perform some action repeatedly, usually with some variation"
   ]
  },
  {
   "cell_type": "markdown",
   "metadata": {},
   "source": [
    "## Variables and output\n",
    "A variable is a name with a value assigned to it."
   ]
  },
  {
   "cell_type": "code",
   "execution_count": 2,
   "metadata": {},
   "outputs": [],
   "source": [
    "var ← 3 ⍝ var gets three"
   ]
  },
  {
   "cell_type": "markdown",
   "metadata": {},
   "source": [
    "How can we see what our variable contains?"
   ]
  },
  {
   "cell_type": "code",
   "execution_count": 4,
   "metadata": {},
   "outputs": [
    {
     "data": {
      "text/html": [
       "<span style=\"white-space:pre; font-family: monospace\">3\n",
       "</span>"
      ]
     },
     "execution_count": 4,
     "metadata": {},
     "output_type": "execute_result"
    },
    {
     "data": {
      "text/html": [
       "<span style=\"white-space:pre; font-family: monospace\">3\n",
       "</span>"
      ]
     },
     "execution_count": 4,
     "metadata": {},
     "output_type": "execute_result"
    }
   ],
   "source": [
    "var   ⍝ By default, APL interpreters print the output of a statement\n",
    "⎕←var ⍝ But it is best to assign desired output to 'quad'. This way we can find all output statements later on."
   ]
  },
  {
   "cell_type": "markdown",
   "metadata": {},
   "source": [
    "Vectors can be defined in APL by juxtaposing arrays, separated by spaces."
   ]
  },
  {
   "cell_type": "code",
   "execution_count": 10,
   "metadata": {},
   "outputs": [
    {
     "data": {
      "text/html": [
       "<span style=\"white-space:pre; font-family: monospace\">1 5 4 3 2\n",
       "</span>"
      ]
     },
     "execution_count": 10,
     "metadata": {},
     "output_type": "execute_result"
    },
    {
     "data": {
      "text/html": [
       "<span style=\"white-space:pre; font-family: monospace\">I like APL\n",
       "</span>"
      ]
     },
     "execution_count": 10,
     "metadata": {},
     "output_type": "execute_result"
    },
    {
     "data": {
      "text/html": [
       "<span style=\"white-space:pre; font-family: monospace\">I like APL\n",
       "</span>"
      ]
     },
     "execution_count": 10,
     "metadata": {},
     "output_type": "execute_result"
    }
   ],
   "source": [
    "⎕←1 5 4 3 2                                ⍝ A simple numeric vector of length 5\n",
    "⎕←'I' ' ' 'l' 'i' 'k' 'e' ' ' 'A' 'P' 'L'  ⍝ It could get awkward for character arrays\n",
    "⎕←'I like APL'                             ⍝ Luckily APL lets us type character arrays nicely"
   ]
  },
  {
   "cell_type": "markdown",
   "metadata": {},
   "source": [
    "So you can see that APL makes a very concise [\"Hello, World!\"](https://en.wikipedia.org/wiki/%22Hello,_World!%22_program) program:"
   ]
  },
  {
   "cell_type": "code",
   "execution_count": null,
   "metadata": {},
   "outputs": [],
   "source": [
    "⎕←'Hello, World!'"
   ]
  },
  {
   "cell_type": "markdown",
   "metadata": {},
   "source": [
    "## Errors\n",
    "When you are trying out different code blocks, it is a good idea to make mistakes. In the \"Hello, World!\" example, what happens if you omit one of the quotation marks? What happens if you omit both? What happens if you just execute quad `⎕`? Doing this as you go will make you more familiar with how the language works, and eventually you won't have to think too hard to know the result of basic APL expressions."
   ]
  },
  {
   "cell_type": "markdown",
   "metadata": {},
   "source": [
    "# Stranding"
   ]
  },
  {
   "cell_type": "markdown",
   "metadata": {},
   "source": [
    "## Programs, functions and algorithms\n",
    "Often in programming, these three terms are used synonymously. The [tutorial about functions](../Tutorials/Functions.ipynb) discusses the different types of functions in APL. There is also a worked example about [marking tests](../Tutorials/MarkingTests.ipynb) which helps to demonstrate the difference between APL thinking and \"programs\" in more traditional programming languages."
   ]
  }
 ],
 "metadata": {
  "kernelspec": {
   "display_name": "Dyalog APL",
   "language": "apl",
   "name": "dyalog-kernel"
  },
  "language_info": {
   "file_extension": ".apl",
   "mimetype": "text/apl",
   "name": "APL"
  }
 },
 "nbformat": 4,
 "nbformat_minor": 4
}
