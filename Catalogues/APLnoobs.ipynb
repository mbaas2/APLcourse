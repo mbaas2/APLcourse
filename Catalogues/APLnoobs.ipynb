{
 "cells": [
  {
   "cell_type": "markdown",
   "metadata": {},
   "source": [
    "# I am a programmer but new to APL"
   ]
  },
  {
   "cell_type": "markdown",
   "metadata": {},
   "source": [
    "APL is quite different to the majority of programming languages out there. Suffice it to say that I will not bore you with basic commonalities like \"*what is a variable?*\" and \"*what is a loop?*\" - you know about these.\n",
    "\n",
    "To begin with, we will look at some basics of *array programming*. Then we will look at how to manage an APL project. Finally, we will set you off on some challenges with which you can explore the language and get a feel for how APL abstracts away the pain of programming and lets you focus on *how to solve the problem at hand*."
   ]
  },
  {
   "cell_type": "markdown",
   "metadata": {},
   "source": [
    "#### **APL 101**\n",
    "- [Typing APL symbols](Noobs.ipynb#Typing-APL-symbols)\n",
    "- [The array model](../Tutorials/Arrays.ipynb)\n",
    "- [Functions](../Tutorials/Functions.ipynb)\n",
    "- [Operators](../Tutorials/Operators.ipynb)"
   ]
  },
  {
   "cell_type": "markdown",
   "metadata": {},
   "source": [
    "**Test your knowledge**\n",
    "- [Thinking in APL]()"
   ]
  },
  {
   "cell_type": "markdown",
   "metadata": {},
   "source": [
    "#### **APL 102 Project Management**\n",
    "- [What is the workspace?](../Tutorials/WS.ipynb)\n",
    "- [APL text source files (AKA How do I put my code on GitHub?)](../Tutorials/TextSource.ipynb)"
   ]
  },
  {
   "cell_type": "code",
   "execution_count": 6,
   "metadata": {},
   "outputs": [
    {
     "data": {
      "text/html": [
       "<span style=\"white-space:pre; font-family: monospace\">/home/rpark/.local/lib/python3.6/site-packages/dyalog_kernel/\n",
       "</span>"
      ]
     },
     "execution_count": 6,
     "metadata": {},
     "output_type": "execute_result"
    }
   ],
   "source": [
    "hereDir"
   ]
  }
 ],
 "metadata": {
  "kernelspec": {
   "display_name": "Dyalog APL",
   "language": "apl",
   "name": "dyalog-kernel"
  },
  "language_info": {
   "file_extension": ".apl",
   "mimetype": "text/apl",
   "name": "APL"
  }
 },
 "nbformat": 4,
 "nbformat_minor": 4
}
