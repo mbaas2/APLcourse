{
 "cells": [
  {
   "cell_type": "markdown",
   "metadata": {},
   "source": [
    "# I am a programmer but new to APL"
   ]
  },
  {
   "cell_type": "markdown",
   "metadata": {},
   "source": [
    "APL is quite different to the majority of programming languages out there. Suffice it to say that I will not bore you with basic commonalities like *\"what is a variable?\"* and *\"what is a loop?\"* - you know about these.\n",
    "\n",
    "To begin with, we will look at some basics of *array programming*. Then we will move on to [system functions]() and [system variables]() (as quickly as possible, these are the ugly quirks of Dyalog, in my opinion). Finally we will set you off on some challenges where you can explore the language and get a feel how APL abstracts away the pain of programming and lets you focus on *how to solve the problem at hand*."
   ]
  },
  {
   "cell_type": "markdown",
   "metadata": {},
   "source": [
    "**APL 101**\n",
    "- [Typing APL symbols](Noobs.ipynb#Typing-APL-symbols)\n",
    "- [The array model](../Tutorials/Arrays.ipynb)\n",
    "- [Functions](../Tutorials/Functions.ipynb)\n",
    "- [Operators](../Tutorials/Operators.ipynb)"
   ]
  }
 ],
 "metadata": {
  "kernelspec": {
   "display_name": "Dyalog APL",
   "language": "apl",
   "name": "dyalog-kernel"
  },
  "language_info": {
   "file_extension": ".apl",
   "mimetype": "text/apl",
   "name": "APL"
  }
 },
 "nbformat": 4,
 "nbformat_minor": 4
}
