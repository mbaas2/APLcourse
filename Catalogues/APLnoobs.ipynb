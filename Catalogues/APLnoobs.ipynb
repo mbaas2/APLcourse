{
 "cells": [
  {
   "cell_type": "markdown",
   "metadata": {
    "slideshow": {
     "slide_type": "slide"
    }
   },
   "source": [
    "# I am a programmer but new to APL"
   ]
  },
  {
   "cell_type": "markdown",
   "metadata": {
    "slideshow": {
     "slide_type": "fragment"
    }
   },
   "source": [
    "APL is quite different to the majority of programming languages out there. Suffice it to say that I will not bore you with basic commonalities such as \"*what is a variable?*\" and \"*what is a loop?*\" - you know about these.\n",
    "\n",
    "To begin with, we will look at some basics of *array programming*. Secondly, we will play with APL and try to get more comfortable with the syntax. Then we will look at how to manage an APL project. Finally, we will set you off on some challenges with which you can explore the language and get a feel for how APL abstracts away the pain of programming and lets you focus on *how to solve the problem at hand*."
   ]
  },
  {
   "cell_type": "markdown",
   "metadata": {
    "slideshow": {
     "slide_type": "slide"
    }
   },
   "source": [
    "***\n",
    "#### **APL 101**\n",
    "- [Typing APL symbols](../Tutorials/TypingAPL.ipynb)\n",
    "- [The array model](../Tutorials/Arrays.ipynb)\n",
    "- [APL syntax](../Tutorials/Syntax.ipynb)\n",
    "- [Arithmetic](../Tutorials/Arithmetic.ipynb)\n",
    "- [Number generators]('../Tutorials/Generators.ipynb')"
   ]
  },
  {
   "cell_type": "markdown",
   "metadata": {
    "slideshow": {
     "slide_type": "subslide"
    }
   },
   "source": [
    "**Test your knowledge**\n",
    "- [Thinking in APL](../ProblemSets/ThinkingAPL.ipynb)"
   ]
  },
  {
   "cell_type": "markdown",
   "metadata": {},
   "source": [
    "***\n",
    "#### **Doing stuff with APL**\n",
    "### Not writing programs\n",
    "It is often\n",
    "\n",
    "- [Selection](../Tutorials/Selection.ipynb)\n",
    "- Partitioning\n",
    "- [Functions](../Tutorials/Functions.ipynb)\n",
    "- [Operators](../Tutorials/Operators.ipynb)\n",
    "\n",
    "**Test your knowledge**\n",
    "- [One liners](../ProblemSets/OneLiners.ipynb)\n",
    "- Some simple functions\n",
    "- Higher order functions"
   ]
  },
  {
   "cell_type": "markdown",
   "metadata": {},
   "source": [
    "***\n",
    "### **Not reinventing the wheel**\n",
    "APLers often have a DIY attitude to programming. However, there are times when you know what needs doing but you just don't have the APL expression for it. You don't have time to work out the best solution; you just need to get the job done. Where do you go?\n",
    "\n",
    "It is often tempting, and feasible, to do an internet search for \"answer to my homework problem in javascript\" - or similar - for many popular programming languages. In APL, you will struggle to find such answers unless there is a [code golf](https://codegolf.stackexchange.com/) question for it.\n",
    "\n",
    "However, APL does have libraries. They are called \"idiom libraries\". An APL idiom is just a short expression that accomplishes some common task.\n",
    "> - The [Dyalog idiom list](http://help.dyalog.com/latest/Content/Language/Defined%20Functions%20and%20Operators/Idiom%20Recognition/Idiom%20List.htm) contains idioms which are optimised in the Dyalog interpreter.\n",
    "- The [APLcart](https://aplcart.info) is a searchable data table of APL functions. It contains answers to many \"how do I... in APL?\" questions, some of which happen to be idioms."
   ]
  },
  {
   "cell_type": "markdown",
   "metadata": {
    "slideshow": {
     "slide_type": "slide"
    }
   },
   "source": [
    "***\n",
    "#### **APL Project Management**\n",
    "- [What is the workspace?](../Tutorials/WS.ipynb)\n",
    "- APL text source files (AKA How do I put my code on GitHub?)\n",
    "\n",
    "**Further reading**\n",
    "- [Acre Project Management](https://github.com/the-carlisle-group/Acre-Desktop)\n",
    "- [The Dyalog Cookbook](https://github.com/5jt/dyalog-cookbook)"
   ]
  }
 ],
 "metadata": {
  "kernelspec": {
   "display_name": "Dyalog APL",
   "language": "apl",
   "name": "dyalog-kernel"
  },
  "language_info": {
   "file_extension": ".apl",
   "mimetype": "text/apl",
   "name": "APL"
  }
 },
 "nbformat": 4,
 "nbformat_minor": 4
}
