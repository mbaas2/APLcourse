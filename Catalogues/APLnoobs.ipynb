{
 "cells": [
  {
   "cell_type": "markdown",
   "metadata": {
    "slideshow": {
     "slide_type": "slide"
    }
   },
   "source": [
    "# I am a programmer but new to APL"
   ]
  },
  {
   "cell_type": "markdown",
   "metadata": {
    "slideshow": {
     "slide_type": "fragment"
    }
   },
   "source": [
    "APL is quite different to the majority of programming languages out there. Suffice it to say that I will not bore you with basic commonalities such as \"*what is a variable?*\" and \"*what is a loop?*\" - you know about these.\n",
    "\n",
    "To begin with, we will look at some basics of *array programming*. Secondly, we will play with APL and try to get more comfortable with the syntax. Then we will look at how to manage an APL project. Finally, we will set you off on some challenges with which you can explore the language and get a feel for how APL abstracts away the pain of programming and lets you focus on *how to solve the problem at hand*."
   ]
  },
  {
   "cell_type": "markdown",
   "metadata": {
    "slideshow": {
     "slide_type": "slide"
    }
   },
   "source": [
    "***\n",
    "#### **APL 101**\n",
    "- [Typing APL symbols](../Tutorials/TypingAPL.ipynb)\n",
    "- [The array model](../Tutorials/Arrays.ipynb)\n",
    "- [APL syntax](../Tutorials/Syntax.ipynb)\n",
    "- [Arithmetic](../Tutorials/Arithmetic.ipynb)\n",
    "- [Number generators]('../Tutorials/Generators.ipynb')"
   ]
  },
  {
   "cell_type": "markdown",
   "metadata": {
    "slideshow": {
     "slide_type": "subslide"
    }
   },
   "source": [
    "**Test your knowledge**\n",
    "- [Thinking in APL](../ProblemSets/ThinkingAPL.ipynb)"
   ]
  },
  {
   "cell_type": "markdown",
   "metadata": {},
   "source": [
    "***\n",
    "#### **Doing stuff with APL**\n",
    "- [Selection](../Tutorials/Selection.ipynb)\n",
    "- Not writing programs\n",
    "- [Functions](../Tutorials/Functions.ipynb)\n",
    "- [Operators](../Tutorials/Operators.ipynb)\n",
    "\n",
    "**Test your knowledge**\n",
    "- [One liners](../ProblemSets/OneLiners.ipynb)\n",
    "- Some simple functions\n",
    "- Higher order functions"
   ]
  },
  {
   "cell_type": "markdown",
   "metadata": {
    "slideshow": {
     "slide_type": "slide"
    }
   },
   "source": [
    "***\n",
    "#### **APL Project Management**\n",
    "- [What is the workspace?](../Tutorials/WS.ipynb)\n",
    "- APL text source files (AKA How do I put my code on GitHub?)\n",
    "\n",
    "**Further reading**\n",
    "- [Acre Project Management](https://github.com/the-carlisle-group/Acre-Desktop)\n",
    "- [The Dyalog Cookbook](https://github.com/5jt/dyalog-cookbook)"
   ]
  }
 ],
 "metadata": {
  "kernelspec": {
   "display_name": "Dyalog APL",
   "language": "apl",
   "name": "dyalog-kernel"
  },
  "language_info": {
   "file_extension": ".apl",
   "mimetype": "text/apl",
   "name": "APL"
  }
 },
 "nbformat": 4,
 "nbformat_minor": 4
}
