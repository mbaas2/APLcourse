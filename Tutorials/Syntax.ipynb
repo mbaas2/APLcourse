{
 "cells": [
  {
   "cell_type": "markdown",
   "metadata": {},
   "source": [
    "# Syntax"
   ]
  },
  {
   "cell_type": "markdown",
   "metadata": {},
   "source": [
    "## Assignment\n",
    "Assigning functions, variables or object references to names is done with the \"assignment arrow\" `←`"
   ]
  },
  {
   "cell_type": "code",
   "execution_count": 3,
   "metadata": {},
   "outputs": [],
   "source": [
    "v ← 3 4 5      ⍝ Variable v\n",
    "f ← {⍺×⍵}      ⍝ Function f\n",
    "o ← 'MyNS'⎕NS⍬ ⍝ o is a reference to the namespace named \"MyNS\""
   ]
  },
  {
   "cell_type": "markdown",
   "metadata": {},
   "source": [
    "## Function valence\n",
    "APL functions can either be:\n",
    "- Monadic (prefix)\n",
    "- Dyadic (infix)\n",
    "- Niladic (no argument)\n",
    "- Ambivalent (allows combinations of the above)"
   ]
  },
  {
   "cell_type": "code",
   "execution_count": 2,
   "metadata": {},
   "outputs": [
    {
     "data": {
      "text/html": [
       "<span style=\"white-space:pre; font-family: monospace\">¯3\n",
       "</span>"
      ]
     },
     "execution_count": 2,
     "metadata": {},
     "output_type": "execute_result"
    },
    {
     "data": {
      "text/html": [
       "<span style=\"white-space:pre; font-family: monospace\">2\n",
       "</span>"
      ]
     },
     "execution_count": 2,
     "metadata": {},
     "output_type": "execute_result"
    }
   ],
   "source": [
    "-3  ⍝ Monadic minus is negation\n",
    "5-3 ⍝ Dyadic minus is subtraction"
   ]
  },
  {
   "cell_type": "markdown",
   "metadata": {},
   "source": [
    "Niladic functions are best used only as initialisations (to set up parameters or bring in settings and files). Even then it is best if the function returns an error code (e.g. 0 for successful run, or an error code otherwise)."
   ]
  },
  {
   "cell_type": "code",
   "execution_count": 3,
   "metadata": {},
   "outputs": [],
   "source": [
    "∇ Program\n",
    "          ⍝ This is a niladic function which returns no result\n",
    "myvar ← 3 ⍝ It has the side effect of setting the variable myvar to 3\n",
    "          ⍝ This is generally a bad idea\n",
    "∇          "
   ]
  },
  {
   "cell_type": "code",
   "execution_count": 5,
   "metadata": {},
   "outputs": [],
   "source": [
    "Program  ⍝ The program executes but it isn't easy to see the effect"
   ]
  },
  {
   "cell_type": "code",
   "execution_count": 7,
   "metadata": {},
   "outputs": [
    {
     "data": {
      "text/html": [
       "<span style=\"white-space:pre; font-family: monospace\">3\n",
       "</span>"
      ]
     },
     "execution_count": 7,
     "metadata": {},
     "output_type": "execute_result"
    }
   ],
   "source": [
    "myvar    ⍝ Suddenly, a global variable appeared!"
   ]
  }
 ],
 "metadata": {
  "kernelspec": {
   "display_name": "Dyalog APL",
   "language": "apl",
   "name": "dyalog-kernel"
  },
  "language_info": {
   "file_extension": ".apl",
   "mimetype": "text/apl",
   "name": "APL"
  }
 },
 "nbformat": 4,
 "nbformat_minor": 4
}
