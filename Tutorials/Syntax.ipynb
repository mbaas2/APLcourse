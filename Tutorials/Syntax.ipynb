{
 "cells": [
  {
   "cell_type": "markdown",
   "metadata": {},
   "source": [
    "# Syntax"
   ]
  },
  {
   "cell_type": "markdown",
   "metadata": {},
   "source": [
    "***\n",
    "## Basics"
   ]
  },
  {
   "cell_type": "markdown",
   "metadata": {},
   "source": [
    "The simplest APL statements are simple numeric scalars and primitive functions. Execute the following code blocks."
   ]
  },
  {
   "cell_type": "code",
   "execution_count": 2,
   "metadata": {},
   "outputs": [
    {
     "data": {
      "text/html": [
       "<span style=\"white-space:pre; font-family: monospace\">1\n",
       "</span>"
      ]
     },
     "execution_count": 2,
     "metadata": {},
     "output_type": "execute_result"
    }
   ],
   "source": [
    "1"
   ]
  },
  {
   "cell_type": "code",
   "execution_count": 3,
   "metadata": {},
   "outputs": [
    {
     "data": {
      "text/html": [
       "<span style=\"white-space:pre; font-family: monospace\">×\n",
       "</span>"
      ]
     },
     "execution_count": 3,
     "metadata": {},
     "output_type": "execute_result"
    }
   ],
   "source": [
    "×"
   ]
  },
  {
   "cell_type": "markdown",
   "metadata": {},
   "source": [
    "You may notice some extra output.\n",
    "```APL\n",
    "Rebuilding user command cache... done\n",
    "1\n",
    "```"
   ]
  },
  {
   "cell_type": "markdown",
   "metadata": {},
   "source": [
    "This is "
   ]
  },
  {
   "cell_type": "markdown",
   "metadata": {},
   "source": [
    "```APL\n",
    "Dyalog APL/S-64 Version 17.1.36876\n",
    "Serial number: UNREGISTERED - not for commercial use\n",
    "+-----------------------------------------------------------------+\n",
    "| Dyalog is free for non-commercial use but is not free software. |\n",
    "| A non-commercial licence can be used for experiments and        |\n",
    "| proof of concept until the point in time that it is of value.   |\n",
    "| For further information visit                                   |\n",
    "| https://www.dyalog.com/prices-and-licences.htm                  |\n",
    "+-----------------------------------------------------------------+\n",
    "\n",
    "2019-09-30 09:37:51\n",
    "```"
   ]
  },
  {
   "cell_type": "markdown",
   "metadata": {},
   "source": [
    "In traditional mathematics, there is a precedence hierarchy for the [order of operations](https://en.wikipedia.org/wiki/Order_of_operations). This is often taught as the acronym **PEMDAS** in the US, or **BODMAS** or **BIDMAS** in other English speaking countries. In APL, there is no such precedence rule."
   ]
  },
  {
   "cell_type": "markdown",
   "metadata": {
    "slideshow": {
     "slide_type": "slide"
    }
   },
   "source": [
    "_**Monadic**_ (prefix) functions take the result of the statement to their right as their argument.  \n",
    "_**Dyadic**_ (infix) functions take the arguments to their left and right as their two arguments."
   ]
  },
  {
   "cell_type": "code",
   "execution_count": null,
   "metadata": {
    "slideshow": {
     "slide_type": "slide"
    }
   },
   "outputs": [],
   "source": [
    "⍝ Dyadic × multiplies its arguments\n",
    "3 × 5\n",
    "⍝ Monadic × gives the signum (sign) of its argument\n",
    "× 3 2 ¯8 1 0 ¯1"
   ]
  },
  {
   "cell_type": "markdown",
   "metadata": {},
   "source": [
    "## Function application\n",
    "Explain how consecutive functions are applied"
   ]
  },
  {
   "cell_type": "markdown",
   "metadata": {},
   "source": [
    "## Assignment\n",
    "Assigning functions, variables or object references to names is done with the \"assignment arrow\" `←`"
   ]
  },
  {
   "cell_type": "code",
   "execution_count": null,
   "metadata": {},
   "outputs": [],
   "source": [
    "v ← 3 4 5      ⍝ Variable v\n",
    "f ← {⍺×⍵}      ⍝ Function f\n",
    "o ← 'MyNS'⎕NS⍬ ⍝ o is a reference to the namespace named \"MyNS\""
   ]
  },
  {
   "cell_type": "markdown",
   "metadata": {},
   "source": [
    "## Function valence\n",
    "APL functions can either be:\n",
    "- Monadic (prefix)\n",
    "- Dyadic (infix)\n",
    "- Niladic (no argument)\n",
    "- Ambivalent (allows combinations of the above)"
   ]
  },
  {
   "cell_type": "code",
   "execution_count": null,
   "metadata": {},
   "outputs": [],
   "source": [
    "-3  ⍝ Monadic minus is negation\n",
    "5-3 ⍝ Dyadic minus is subtraction"
   ]
  },
  {
   "cell_type": "markdown",
   "metadata": {},
   "source": [
    "TODO: An aside on [function declaration](Functions.ipynb) syntax."
   ]
  },
  {
   "cell_type": "markdown",
   "metadata": {},
   "source": [
    "Niladic functions are best used only as initialisations (to set up parameters or bring in settings and files). Even then it is best if the function returns an error code (e.g. 0 for successful run, or an error code otherwise)."
   ]
  },
  {
   "cell_type": "markdown",
   "metadata": {},
   "source": [
    "TODO: Move side effect example elsewhere"
   ]
  },
  {
   "cell_type": "code",
   "execution_count": null,
   "metadata": {},
   "outputs": [],
   "source": [
    "∇ Program\n",
    "          ⍝ This is a niladic function which returns no result\n",
    "myvar ← 3 ⍝ It has the side effect of setting the variable myvar to 3\n",
    "          ⍝ This is generally a bad idea\n",
    "∇          "
   ]
  },
  {
   "cell_type": "code",
   "execution_count": null,
   "metadata": {},
   "outputs": [],
   "source": [
    "Program  ⍝ The program executes but it isn't easy to see the effect"
   ]
  },
  {
   "cell_type": "code",
   "execution_count": null,
   "metadata": {},
   "outputs": [],
   "source": [
    "myvar    ⍝ Suddenly, a global variable appeared!"
   ]
  },
  {
   "cell_type": "markdown",
   "metadata": {},
   "source": [
    "## Errors\n",
    "There are a whole [slew of errors](http://help.dyalog.com/17.0/Content/Language/Errors/APL%20Errors.htm) which can occur in Dyalog. Here are some common ones which a new APLer should be aware of."
   ]
  },
  {
   "cell_type": "code",
   "execution_count": null,
   "metadata": {},
   "outputs": [],
   "source": [
    "'A'>'B'        ⍝ DOMAIN ERROR\n",
    "3+             ⍝ SYNTAX ERROR\n",
    "1 2+1 2 3      ⍝ LENGTH ERROR\n",
    "1 2+2 2⍴4      ⍝ RANK ERROR\n",
    "doesnotexist   ⍝ VALUE ERROR"
   ]
  },
  {
   "cell_type": "markdown",
   "metadata": {},
   "source": [
    "## A common gotcha\n",
    "Parsing rules for an APL expression are defined in terms of [binding strengths](http://help.dyalog.com/latest/Content/Language/Introduction/Binding%20Strength.htm).\n",
    "\n",
    "A clearer explanation will be written here later. For now, the main rules which a new APLer needs to know are:\n",
    "- Monadic functions apply to arrays on their right.\n",
    "- Dyadic functions apply to arrays on their immediate left and right.\n",
    "- [Stranding](Arrays.ipynb#Stranding) takes precedence over function application."
   ]
  },
  {
   "cell_type": "markdown",
   "metadata": {},
   "source": [
    "The last point about stranding often leads to confusion in new APLers. It is often helpful to use parentheses `()` to clarify an APL expression."
   ]
  },
  {
   "cell_type": "markdown",
   "metadata": {},
   "source": [
    "The following three expressions are equivalent."
   ]
  },
  {
   "cell_type": "code",
   "execution_count": null,
   "metadata": {},
   "outputs": [],
   "source": [
    "2+2 3 4+4\n",
    "2+(2 3 4)+4\n",
    "2+((2 3 4)+4)"
   ]
  },
  {
   "cell_type": "markdown",
   "metadata": {},
   "source": [
    "A similar example with a nested array:"
   ]
  },
  {
   "cell_type": "code",
   "execution_count": null,
   "metadata": {},
   "outputs": [],
   "source": [
    "2+(2 3)4+4\n",
    "2+((2 3)4+4)"
   ]
  }
 ],
 "metadata": {
  "kernelspec": {
   "display_name": "Dyalog APL",
   "language": "apl",
   "name": "dyalog-kernel"
  },
  "language_info": {
   "file_extension": ".apl",
   "mimetype": "text/apl",
   "name": "APL"
  }
 },
 "nbformat": 4,
 "nbformat_minor": 4
}
