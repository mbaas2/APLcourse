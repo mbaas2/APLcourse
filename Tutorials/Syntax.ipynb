{
 "cells": [
  {
   "cell_type": "markdown",
   "metadata": {},
   "source": [
    "# Syntax"
   ]
  },
  {
   "cell_type": "markdown",
   "metadata": {},
   "source": [
    "***\n",
    "## Basics"
   ]
  },
  {
   "cell_type": "markdown",
   "metadata": {},
   "source": [
    "The simplest APL expression is a comment. It is a line which begins with a lamp symbol `⍝`."
   ]
  },
  {
   "cell_type": "code",
   "execution_count": null,
   "metadata": {},
   "outputs": [],
   "source": [
    "⍝ This is a comment. It does nothing."
   ]
  },
  {
   "cell_type": "markdown",
   "metadata": {},
   "source": [
    "The simplest APL statements are simple numeric scalars and primitive functions. **Execute the following code blocks**."
   ]
  },
  {
   "cell_type": "code",
   "execution_count": null,
   "metadata": {},
   "outputs": [],
   "source": [
    "1"
   ]
  },
  {
   "cell_type": "code",
   "execution_count": null,
   "metadata": {},
   "outputs": [],
   "source": [
    "×"
   ]
  },
  {
   "cell_type": "markdown",
   "metadata": {},
   "source": [
    "Not much going on here. Without further instruction, APL returns what you give it.\n",
    "\n",
    "We can assign functions and variables to names using the \"gets\" arrow `←`."
   ]
  },
  {
   "cell_type": "code",
   "execution_count": null,
   "metadata": {},
   "outputs": [],
   "source": [
    "numbers ← 1 5 3 2 4 "
   ]
  },
  {
   "cell_type": "markdown",
   "metadata": {},
   "source": [
    "The expression above is read as \"numbers *gets* one five three two four\".\n",
    "\n",
    "We can display the value of a variable, or the result of a function, using \"quad gets\" `⎕←`."
   ]
  },
  {
   "cell_type": "code",
   "execution_count": null,
   "metadata": {},
   "outputs": [],
   "source": [
    "⎕←numbers"
   ]
  },
  {
   "cell_type": "markdown",
   "metadata": {},
   "source": [
    "`⎕←` can be used to display intermediate results."
   ]
  },
  {
   "cell_type": "code",
   "execution_count": null,
   "metadata": {},
   "outputs": [],
   "source": [
    "sign←⎕←×⎕←numbers←1 5 4 2 4"
   ]
  },
  {
   "cell_type": "markdown",
   "metadata": {},
   "source": [
    "_**Task**_  \n",
    "A simple function is the sum of a list. This is written as \"plus-slash\" `+/`. \n",
    "\n",
    "**Assign `+/` to the name `sum` and apply it to the list of numbers from 1 to 5.**"
   ]
  },
  {
   "cell_type": "code",
   "execution_count": null,
   "metadata": {},
   "outputs": [],
   "source": [
    "⍝ Use this code block to complete the task"
   ]
  },
  {
   "cell_type": "markdown",
   "metadata": {},
   "source": [
    "***\n",
    "## Function application\n"
   ]
  },
  {
   "cell_type": "markdown",
   "metadata": {},
   "source": [
    "In traditional mathematics, there is a precedence hierarchy for the [order of operations](https://en.wikipedia.org/wiki/Order_of_operations). This is often taught as the acronym **PEMDAS** in the US, or **BODMAS** or **BIDMAS** in other English speaking countries. In APL, there is no such precedence rule."
   ]
  },
  {
   "cell_type": "markdown",
   "metadata": {
    "slideshow": {
     "slide_type": "slide"
    }
   },
   "source": [
    "_**Monadic**_ (prefix) functions take the result of the statement to their right as their argument.  \n",
    "_**Dyadic**_ (infix) functions take the arguments to their left and right as their two arguments."
   ]
  },
  {
   "cell_type": "code",
   "execution_count": null,
   "metadata": {
    "slideshow": {
     "slide_type": "slide"
    }
   },
   "outputs": [],
   "source": [
    "⍝ Dyadic × multiplies its arguments\n",
    "3 × 5\n",
    "⍝ Monadic × gives the signum (sign) of its argument\n",
    "× 3 2 ¯8 1 0 ¯1"
   ]
  },
  {
   "cell_type": "markdown",
   "metadata": {},
   "source": [
    "## Function application\n",
    "Remember, **a prefix function is applied to the result of statements to its right**"
   ]
  },
  {
   "cell_type": "code",
   "execution_count": null,
   "metadata": {},
   "outputs": [],
   "source": [
    "3+×1 2 3"
   ]
  },
  {
   "cell_type": "markdown",
   "metadata": {},
   "source": [
    "The previous statement is `3` multiplied by the signum `×` of `1 2 3`."
   ]
  },
  {
   "cell_type": "markdown",
   "metadata": {},
   "source": [
    "## A common gotcha\n",
    "Parsing rules for an APL expression are defined in terms of [binding strengths](http://help.dyalog.com/latest/Content/Language/Introduction/Binding%20Strength.htm).\n",
    "\n",
    "A clearer explanation will be written here later. For now, the main rules which a new APLer needs to know are:\n",
    "- Monadic functions apply to arrays on their right.\n",
    "- Dyadic functions apply to arrays on their immediate left and right.\n",
    "- [Stranding](Arrays.ipynb#Stranding) takes precedence over function application."
   ]
  },
  {
   "cell_type": "markdown",
   "metadata": {},
   "source": [
    "The last point about stranding often leads to confusion in new APLers. It is often helpful to use parentheses `()` to clarify an APL expression."
   ]
  },
  {
   "cell_type": "markdown",
   "metadata": {},
   "source": [
    "The following three expressions are equivalent."
   ]
  },
  {
   "cell_type": "code",
   "execution_count": null,
   "metadata": {},
   "outputs": [],
   "source": [
    "2+2 3 4+4\n",
    "2+(2 3 4)+4\n",
    "2+((2 3 4)+4)"
   ]
  },
  {
   "cell_type": "markdown",
   "metadata": {},
   "source": [
    "A similar example with a nested array:"
   ]
  },
  {
   "cell_type": "code",
   "execution_count": null,
   "metadata": {},
   "outputs": [],
   "source": [
    "2+(2 3)4+4\n",
    "2+((2 3)4+4)"
   ]
  },
  {
   "cell_type": "markdown",
   "metadata": {},
   "source": [
    "## Errors\n",
    "There are a whole [slew of errors](http://help.dyalog.com/17.0/Content/Language/Errors/APL%20Errors.htm) which can occur in Dyalog. Here are some common ones which a new APLer should be aware of."
   ]
  },
  {
   "cell_type": "code",
   "execution_count": null,
   "metadata": {},
   "outputs": [],
   "source": [
    "'A'>'B'        ⍝ DOMAIN ERROR\n",
    "3+             ⍝ SYNTAX ERROR\n",
    "1 2+1 2 3      ⍝ LENGTH ERROR\n",
    "1 2+2 2⍴4      ⍝ RANK ERROR\n",
    "doesnotexist   ⍝ VALUE ERROR"
   ]
  },
  {
   "cell_type": "markdown",
   "metadata": {},
   "source": [
    "For now, don't worry too much about what these all mean. Some you may be able to work out, but they will all become clear over time."
   ]
  }
 ],
 "metadata": {
  "kernelspec": {
   "display_name": "Dyalog APL",
   "language": "apl",
   "name": "dyalog-kernel"
  },
  "language_info": {
   "file_extension": ".apl",
   "mimetype": "text/apl",
   "name": "APL"
  }
 },
 "nbformat": 4,
 "nbformat_minor": 4
}
