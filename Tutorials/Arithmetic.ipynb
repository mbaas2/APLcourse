{
 "cells": [
  {
   "cell_type": "markdown",
   "metadata": {},
   "source": [
    "# Arithmetic Functions\n",
    "`+ - × ÷ * ⍟ ⌈ ⌊ |`"
   ]
  },
  {
   "cell_type": "markdown",
   "metadata": {},
   "source": [
    "APL can be used to perform arithmetic. The arithmetic functions are [primitive scalar functions](Scalar.ipynb).\n",
    "\n",
    "You can find many comparisons between APL and traditional mathematical notation on [the APL Wiki](https://aplwiki.miraheze.org/wiki/Comparison_with_traditional_mathematics)."
   ]
  },
  {
   "cell_type": "markdown",
   "metadata": {},
   "source": [
    "***\n",
    "### Addition, subtraction, multiplication, division"
   ]
  },
  {
   "cell_type": "code",
   "execution_count": null,
   "metadata": {},
   "outputs": [],
   "source": [
    "⎕←123 + 456\n",
    "⎕←123 - 456\n",
    "⎕←123 × 456\n",
    "⎕←123 ÷ 456"
   ]
  },
  {
   "cell_type": "markdown",
   "metadata": {},
   "source": [
    "### Negative numbers\n",
    "Negative numbers in APL are represented with the high minus `¯`. This prevents overloading the subtraction `-` symbol.  "
   ]
  },
  {
   "cell_type": "markdown",
   "metadata": {},
   "source": [
    "Subtract two numbers"
   ]
  },
  {
   "cell_type": "code",
   "execution_count": null,
   "metadata": {},
   "outputs": [],
   "source": [
    "⎕←5-3"
   ]
  },
  {
   "cell_type": "markdown",
   "metadata": {},
   "source": [
    "Negate a number"
   ]
  },
  {
   "cell_type": "code",
   "execution_count": null,
   "metadata": {},
   "outputs": [],
   "source": [
    "⎕←-3"
   ]
  },
  {
   "cell_type": "markdown",
   "metadata": {},
   "source": [
    "Subtract a negative number"
   ]
  },
  {
   "cell_type": "code",
   "execution_count": null,
   "metadata": {},
   "outputs": [],
   "source": [
    "⎕←5-¯3"
   ]
  },
  {
   "cell_type": "markdown",
   "metadata": {},
   "source": [
    "***\n",
    "### Comparison and rounding"
   ]
  },
  {
   "cell_type": "markdown",
   "metadata": {},
   "source": [
    "Find the greater of two numbers"
   ]
  },
  {
   "cell_type": "code",
   "execution_count": null,
   "metadata": {},
   "outputs": [],
   "source": [
    "⍝ Find the greater of two numbers\n",
    "3 ⌈ 4\n",
    "⍝ Find the lower of two numbers\n",
    "5 ⌊ 7"
   ]
  },
  {
   "cell_type": "markdown",
   "metadata": {},
   "source": [
    "Find the lesser of two numbers"
   ]
  },
  {
   "cell_type": "code",
   "execution_count": null,
   "metadata": {},
   "outputs": [],
   "source": [
    "⎕←5⌊7"
   ]
  },
  {
   "cell_type": "markdown",
   "metadata": {},
   "source": [
    "Round down to the integer below"
   ]
  },
  {
   "cell_type": "code",
   "execution_count": null,
   "metadata": {},
   "outputs": [],
   "source": [
    "⎕←⌊3.7"
   ]
  },
  {
   "cell_type": "markdown",
   "metadata": {},
   "source": [
    "Round up to the integer above"
   ]
  },
  {
   "cell_type": "code",
   "execution_count": null,
   "metadata": {},
   "outputs": [],
   "source": [
    "⎕←⌈9.4"
   ]
  },
  {
   "cell_type": "markdown",
   "metadata": {},
   "source": [
    "***\n",
    "### Residue AKA Modulo"
   ]
  },
  {
   "cell_type": "markdown",
   "metadata": {},
   "source": [
    "6 mod 2"
   ]
  },
  {
   "cell_type": "code",
   "execution_count": null,
   "metadata": {},
   "outputs": [],
   "source": [
    "⎕←2|6"
   ]
  },
  {
   "cell_type": "markdown",
   "metadata": {},
   "source": [
    "How many will be left over if you distribute 19 things among 8 people?"
   ]
  },
  {
   "cell_type": "code",
   "execution_count": null,
   "metadata": {},
   "outputs": [],
   "source": [
    "⎕←8|19"
   ]
  },
  {
   "cell_type": "markdown",
   "metadata": {},
   "source": [
    "What day of the week will it be 100 days from Tuesday 14th May 2019?"
   ]
  },
  {
   "cell_type": "code",
   "execution_count": null,
   "metadata": {},
   "outputs": [],
   "source": [
    "⎕←7|100\n",
    "⍝ Tuesday + 2 days → Thursday\n",
    "⎕←'Thursday'"
   ]
  },
  {
   "cell_type": "markdown",
   "metadata": {},
   "source": [
    "**Note:** division has the familiar syntax (denominator on the right hand side) but modulo has the number being divided on the right:"
   ]
  },
  {
   "cell_type": "code",
   "execution_count": null,
   "metadata": {},
   "outputs": [],
   "source": [
    "⎕←7 ÷ 2\n",
    "⎕←2|7"
   ]
  },
  {
   "cell_type": "markdown",
   "metadata": {},
   "source": [
    "***\n",
    "### Common utilities: Arithmetic + [reduction](Operators.ipynb#Reduction)"
   ]
  },
  {
   "cell_type": "code",
   "execution_count": null,
   "metadata": {},
   "outputs": [],
   "source": [
    "⍝ The sum of a list of numbers:\n",
    "⎕←+/ 1 2 3 4 5\n",
    "⍝ The product of a list of numbers:\n",
    "⎕←×/ 1 2 3 4 5\n",
    "⍝ The alternating sum of a list of numbers:\n",
    "⎕←-/ 1 2 3 4 5\n",
    "⍝ The maximum of a list of numbers:\n",
    "⎕←⌈/ 2 4 8 5 6 3\n",
    "⍝ The minimum of a list of numbers:\n",
    "⎕←⌊/ 2 4 8 5 6 3"
   ]
  },
  {
   "cell_type": "markdown",
   "metadata": {},
   "source": [
    "**Advanced:** Do multiple operations in one line with a [fork](Tacit.ipynb#Trains):"
   ]
  },
  {
   "cell_type": "code",
   "execution_count": null,
   "metadata": {},
   "outputs": [],
   "source": [
    "⎕←123 (+,-,×,÷) 456\n",
    "⍝ Plus or minus two (±2)\n",
    "⎕←(+,-)2"
   ]
  },
  {
   "cell_type": "markdown",
   "metadata": {},
   "source": [
    "***\n",
    "### Exponentiation\n",
    "|Traditional mathematical notation|APL|\n",
    "|---|---|\n",
    "|$a^b$|a*b|\n",
    "|$e^n$|*n|"
   ]
  },
  {
   "cell_type": "code",
   "execution_count": null,
   "metadata": {},
   "outputs": [],
   "source": [
    "⎕←2*3 ⍝ a to the power of b\n",
    "⎕←*1  ⍝ e to the power of n"
   ]
  },
  {
   "cell_type": "markdown",
   "metadata": {},
   "source": [
    "### Logarithms\n",
    "|Traditional mathematical notation|APL|\n",
    "|---|---|\n",
    "|$\\log_{a}{b}$|a⍟b|\n",
    "|$\\ln{n}$|⍟n|"
   ]
  },
  {
   "cell_type": "code",
   "execution_count": null,
   "metadata": {},
   "outputs": [],
   "source": [
    "⎕←2⍟8 ⍝ Base 2 logarithm of 8\n",
    "⎕←3 ⍝ Base e logarithm of 23"
   ]
  },
  {
   "cell_type": "markdown",
   "metadata": {},
   "source": [
    "***\n",
    "## Other mathematical constructs in APL\n",
    "You can find many comparisons between APL and traditional mathematical notation on [the APL Wiki](https://aplwiki.miraheze.org/wiki/Comparison_with_traditional_mathematics)."
   ]
  }
 ],
 "metadata": {
  "kernelspec": {
   "display_name": "Dyalog APL",
   "language": "apl",
   "name": "dyalog-kernel"
  },
  "language_info": {
   "file_extension": ".apl",
   "mimetype": "text/apl",
   "name": "APL"
  }
 },
 "nbformat": 4,
 "nbformat_minor": 4
}
