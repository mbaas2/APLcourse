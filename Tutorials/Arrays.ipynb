{
 "cells": [
  {
   "cell_type": "markdown",
   "metadata": {},
   "source": [
    "# Arrays\n",
    "The primary data type of APL is the array. Arrays may contain numeric data, character data or more arrays."
   ]
  },
  {
   "cell_type": "code",
   "execution_count": 22,
   "metadata": {},
   "outputs": [
    {
     "data": {
      "text/html": [
       "<span style=\"white-space:pre; font-family: monospace\">1 2 3\n",
       "</span>"
      ]
     },
     "execution_count": 22,
     "metadata": {},
     "output_type": "execute_result"
    },
    {
     "data": {
      "text/html": [
       "<span style=\"white-space:pre; font-family: monospace\">APL\n",
       "</span>"
      ]
     },
     "execution_count": 22,
     "metadata": {},
     "output_type": "execute_result"
    },
    {
     "data": {
      "text/html": [
       "<span style=\"white-space:pre; font-family: monospace\">1 A 2 P 3 L\n",
       "</span>"
      ]
     },
     "execution_count": 22,
     "metadata": {},
     "output_type": "execute_result"
    }
   ],
   "source": [
    "⍝ A simple (non-nested) numeric array:\n",
    "1 2 3\n",
    "⍝ A simple character array:\n",
    "'APL'\n",
    "⍝ A simple mixed array:\n",
    "1 'A' 2 'P' 3 'L'"
   ]
  },
  {
   "cell_type": "markdown",
   "metadata": {},
   "source": [
    "### Shape\n",
    "`⍴`  \n",
    "The shape of an array gives the number of elements along each axis."
   ]
  },
  {
   "cell_type": "code",
   "execution_count": 24,
   "metadata": {},
   "outputs": [
    {
     "data": {
      "text/html": [
       "<span style=\"white-space:pre; font-family: monospace\">6\n",
       "</span>"
      ]
     },
     "execution_count": 24,
     "metadata": {},
     "output_type": "execute_result"
    }
   ],
   "source": [
    "⍝ The shape of a list of numbers gives the number of elements in the list:\n",
    "⍴ 81 4 54 31 54 5"
   ]
  },
  {
   "cell_type": "markdown",
   "metadata": {},
   "source": [
    "### Reshape\n",
    "The infix (dyadic) function reshape `⍴` will put the data in the right argument into the shape described by the left argument. "
   ]
  },
  {
   "cell_type": "code",
   "execution_count": 5,
   "metadata": {},
   "outputs": [
    {
     "data": {
      "text/html": [
       "<span style=\"white-space:pre; font-family: monospace\">42 42 42 42\n",
       "42 42 42 42\n",
       "42 42 42 42\n",
       "           \n",
       "42 42 42 42\n",
       "42 42 42 42\n",
       "42 42 42 42\n",
       "</span>"
      ]
     },
     "execution_count": 5,
     "metadata": {},
     "output_type": "execute_result"
    }
   ],
   "source": [
    "⍝ A rank-3 array of shape 2 3 4 containing the number 42:\n",
    "2 3 4⍴42\n",
    "⍝ This array has 4 rows, 3 columns and 2 planes"
   ]
  },
  {
   "cell_type": "markdown",
   "metadata": {},
   "source": [
    "If `×/⍴` (the [product](Operators.ipynb#Reduction) of the shape) is greater than `≢,` (the number of elements) of the argument array, the argument array elements are recycled to fill the new array:\n",
    "```APL\n",
    "      10⍴1 2 3\n",
    "1 2 3 1 2 3 1 2 3 1\n",
    "```\n",
    "Higher rank arrays fill along axes starting from the last to the first (e.g. rows then columns then planes...).\n",
    "For a matrix this means left-to-right then up-to-down like a [raster scan](https://en.wikipedia.org/wiki/Raster_scan), or reading and writing English.\n",
    "```APL\n",
    "      2 3 4⍴'ABCDE'\n",
    "ABCD\n",
    "EABC\n",
    "DEAB\n",
    "    \n",
    "CDEA\n",
    "BCDE\n",
    "ABCD\n",
    "```"
   ]
  },
  {
   "cell_type": "code",
   "execution_count": 6,
   "metadata": {},
   "outputs": [
    {
     "data": {
      "text/html": [
       "<span style=\"white-space:pre; font-family: monospace\">1 2 3 1 2 3 1 2 3 1\n",
       "</span>"
      ]
     },
     "execution_count": 6,
     "metadata": {},
     "output_type": "execute_result"
    },
    {
     "data": {
      "text/html": [
       "<span style=\"white-space:pre; font-family: monospace\">1 2 3\n",
       "4 1 2\n",
       "3 4 1\n",
       "</span>"
      ]
     },
     "execution_count": 6,
     "metadata": {},
     "output_type": "execute_result"
    }
   ],
   "source": [
    "⍝ A list\n",
    "10⍴1 2 3\n",
    "⍝ Matrices refill left-to-right then up-to-down \n",
    "3 3⍴1 2 3 4"
   ]
  },
  {
   "cell_type": "markdown",
   "metadata": {},
   "source": [
    "### Tally\n",
    "`≢`  \n",
    "Count the [major cells](http://help.dyalog.com/17.0/Content/Language/Introduction/Variables/Cells%20and%20Subarrays.htm) of an array.  "
   ]
  },
  {
   "cell_type": "markdown",
   "metadata": {},
   "source": [
    "### Ravel\n",
    "`,`  \n",
    "Reshape an array into a vector."
   ]
  },
  {
   "cell_type": "code",
   "execution_count": 7,
   "metadata": {},
   "outputs": [
    {
     "data": {
      "text/html": [
       "<span style=\"white-space:pre; font-family: monospace\">24\n",
       "</span>"
      ]
     },
     "execution_count": 7,
     "metadata": {},
     "output_type": "execute_result"
    }
   ],
   "source": [
    "⍝ Count all major cells* in any rank array:\n",
    "⍝ TODO: A note about nested arrays in this case\n",
    "≢,2 3 4⍴⎕A"
   ]
  },
  {
   "cell_type": "markdown",
   "metadata": {},
   "source": [
    "```APL\n",
    "⎕A\n",
    "```\n",
    "refers to the simple character vector of alphabetic capital letters."
   ]
  },
  {
   "cell_type": "markdown",
   "metadata": {},
   "source": [
    "### Rank\n",
    "`⍴⍴`  \n",
    "Arrays are rectangular in shape and may have between 0 to 15 axes (in Dyalog APL)."
   ]
  },
  {
   "cell_type": "code",
   "execution_count": 9,
   "metadata": {},
   "outputs": [
    {
     "data": {
      "text/html": [
       "<span style=\"white-space:pre; font-family: monospace\">3 3 3\n",
       "3 3 3\n",
       "</span>"
      ]
     },
     "execution_count": 9,
     "metadata": {},
     "output_type": "execute_result"
    },
    {
     "data": {
      "text/html": [
       "<span style=\"white-space:pre; font-family: monospace\">ABCD\n",
       "EFGH\n",
       "IJKL\n",
       "    \n",
       "MNOP\n",
       "QRST\n",
       "UVWX\n",
       "</span>"
      ]
     },
     "execution_count": 9,
     "metadata": {},
     "output_type": "execute_result"
    }
   ],
   "source": [
    "⍝ A numeric matrix (AKA table):\n",
    "2 3⍴3\n",
    "⍝ A rank-3 array containing character data:\n",
    "2 3 4⍴⎕A"
   ]
  },
  {
   "cell_type": "markdown",
   "metadata": {},
   "source": [
    "The rank of an array can be found with the rank idiom:"
   ]
  },
  {
   "cell_type": "markdown",
   "metadata": {},
   "source": [
    "### Depth\n",
    "`≡`  \n",
    "The depth is the level of nesting."
   ]
  },
  {
   "cell_type": "code",
   "execution_count": 14,
   "metadata": {},
   "outputs": [
    {
     "data": {
      "text/html": [
       "<span style=\"white-space:pre; font-family: monospace\">1\n",
       "</span>"
      ]
     },
     "execution_count": 14,
     "metadata": {},
     "output_type": "execute_result"
    },
    {
     "data": {
      "text/html": [
       "<span style=\"white-space:pre; font-family: monospace\">2\n",
       "</span>"
      ]
     },
     "execution_count": 14,
     "metadata": {},
     "output_type": "execute_result"
    },
    {
     "data": {
      "text/html": [
       "<span style=\"white-space:pre; font-family: monospace\">3\n",
       "</span>"
      ]
     },
     "execution_count": 14,
     "metadata": {},
     "output_type": "execute_result"
    }
   ],
   "source": [
    "⍝ Simple arrays have a depth of 1:\n",
    "≡2 3 4⍴⎕A\n",
    "⍝ Nested arrays have a depth > 1:\n",
    "≡(1 2)(3 4)\n",
    "⍝ The deeper the nesting, the greater the depth:\n",
    "≡((1 2)(3 4))((5 6)(7 8))"
   ]
  },
  {
   "cell_type": "markdown",
   "metadata": {},
   "source": [
    "The nesting of arrays can be shown with the [\\]Disp](http://docs.dyalog.com/14.0/Dyalog%20APL%20User%20Commands%20Reference%20Guide.pdf#page=32) user command, or by setting [\\]Boxing](http://docs.dyalog.com/14.0/Dyalog%20APL%20User%20Commands%20Reference%20Guide.pdf#page=31) on."
   ]
  },
  {
   "cell_type": "code",
   "execution_count": 4,
   "metadata": {},
   "outputs": [
    {
     "data": {
      "text/html": [
       "<span style=\"white-space:pre; font-family: monospace\">┌→┬─┬───┐\n",
       "│1│2│3 4│\n",
       "└─┴─┴~─→┘\n",
       "</span>"
      ]
     },
     "execution_count": 4,
     "metadata": {},
     "output_type": "execute_result"
    },
    {
     "data": {
      "text/html": [
       "<span style=\"white-space:pre; font-family: monospace\">Was ON\n",
       "</span>"
      ]
     },
     "execution_count": 4,
     "metadata": {},
     "output_type": "execute_result"
    },
    {
     "data": {
      "text/html": [
       "<span style=\"white-space:pre; font-family: monospace\">1 2  3 4 \n",
       "</span>"
      ]
     },
     "execution_count": 4,
     "metadata": {},
     "output_type": "execute_result"
    },
    {
     "data": {
      "text/html": [
       "<span style=\"white-space:pre; font-family: monospace\">Was OFF\n",
       "</span>"
      ]
     },
     "execution_count": 4,
     "metadata": {},
     "output_type": "execute_result"
    },
    {
     "data": {
      "text/html": [
       "<span style=\"white-space:pre; font-family: monospace\">┌─┬─┬───┐\n",
       "│1│2│3 4│\n",
       "└─┴─┴───┘\n",
       "</span>"
      ]
     },
     "execution_count": 4,
     "metadata": {},
     "output_type": "execute_result"
    }
   ],
   "source": [
    "⍝ The nesting of arrays can be shown with the ]Disp user command, or by setting ]Boxing on\n",
    "]Disp (1 2(3 4))\n",
    "⍝ Disp gives additional information, type ']Disp -??' to see more\n",
    "]Box off\n",
    "(1 2(3 4))\n",
    "]Box on\n",
    "(1 2(3 4))"
   ]
  },
  {
   "cell_type": "code",
   "execution_count": 20,
   "metadata": {},
   "outputs": [
    {
     "data": {
      "text/html": [
       "<span style=\"white-space:pre; font-family: monospace\">┌─┬──┐\n",
       "│A│BC│\n",
       "└─┴──┘\n",
       "¯2\n",
       "</span>"
      ]
     },
     "execution_count": 20,
     "metadata": {},
     "output_type": "execute_result"
    }
   ],
   "source": [
    "⍝ Negative depth is used to denote uneven nesting:\n",
    "≡⎕←('A' ('BC'))"
   ]
  },
  {
   "cell_type": "markdown",
   "metadata": {},
   "source": [
    "```APL\n",
    "⎕←\n",
    "``` \n",
    "is used here to [print an intermediate result]()."
   ]
  },
  {
   "cell_type": "markdown",
   "metadata": {},
   "source": [
    "### [Indexing](Selection.ipynb#Selection)\n",
    "Retrieve specific elements of an array. There are multiple ways to do this in APL."
   ]
  },
  {
   "cell_type": "markdown",
   "metadata": {},
   "source": [
    "### [Selective assignment](Selection.ipynb#Selective-assignment)\n",
    "Assign values to specific elements in an array."
   ]
  },
  {
   "cell_type": "markdown",
   "metadata": {},
   "source": [
    "### Empty arrays\n",
    "0 is not the same as nothing.  \n",
    "Arrays can also be empty.  \n",
    "\n",
    "The [rank](#Rank) of a scalar is the empty numeric vector `⍬`:\n",
    "```APL\n",
    "      ⍴3\n",
    "\n",
    "```\n",
    "This is because the rank of a scalar is `0`.\n",
    "```APL\n",
    "      ⍴⍴3\n",
    "0\n",
    "```"
   ]
  }
 ],
 "metadata": {
  "kernelspec": {
   "display_name": "Dyalog APL",
   "language": "apl",
   "name": "dyalog-kernel"
  },
  "language_info": {
   "file_extension": ".apl",
   "mimetype": "text/apl",
   "name": "APL"
  }
 },
 "nbformat": 4,
 "nbformat_minor": 2
}
