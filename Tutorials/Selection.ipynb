{
 "cells": [
  {
   "cell_type": "markdown",
   "metadata": {},
   "source": [
    "# Selection\n",
    "Retrieve specific elements of an array. There are multiple ways to do this in APL."
   ]
  },
  {
   "cell_type": "markdown",
   "metadata": {},
   "source": [
    "### Square bracket indexing\n",
    "Those who have used other programs which implement arrays (e.g. MATLAB) will recognise the use of square brackets and semicolons to index arrays."
   ]
  },
  {
   "cell_type": "markdown",
   "metadata": {},
   "source": [
    "```APL\n",
    "⎕←\n",
    "``` \n",
    "is used here to [print an intermediate result]()."
   ]
  },
  {
   "cell_type": "code",
   "execution_count": 5,
   "metadata": {},
   "outputs": [
    {
     "data": {
      "text/html": [
       "<span style=\"white-space:pre; font-family: monospace\">┌─┬───┬───────────────────┐\n",
       "│1│2  │┌───┬─────┬─┬─────┐│\n",
       "│ │   ││APL│A P L│3│4 5 6││\n",
       "│ │   ││   │A P L│ │     ││\n",
       "│ │   ││   │A P L│ │     ││\n",
       "│ │   │└───┴─────┴─┴─────┘│\n",
       "├─┼───┼───────────────────┤\n",
       "│7│8 9│┌──┬───┐           │\n",
       "│ │   ││10│APL│           │\n",
       "│ │   │└──┴───┘           │\n",
       "└─┴───┴───────────────────┘\n",
       "</span>"
      ]
     },
     "execution_count": 5,
     "metadata": {},
     "output_type": "execute_result"
    },
    {
     "data": {
      "text/html": [
       "<span style=\"white-space:pre; font-family: monospace\">1\n",
       "</span>"
      ]
     },
     "execution_count": 5,
     "metadata": {},
     "output_type": "execute_result"
    },
    {
     "data": {
      "text/html": [
       "<span style=\"white-space:pre; font-family: monospace\">┌───┐\n",
       "│8 9│\n",
       "└───┘\n",
       "Depth:  2\n",
       "</span>"
      ]
     },
     "execution_count": 5,
     "metadata": {},
     "output_type": "execute_result"
    },
    {
     "data": {
      "text/html": [
       "<span style=\"white-space:pre; font-family: monospace\">┌───────────────────┐\n",
       "│┌───┬─────┬─┬─────┐│\n",
       "││APL│A P L│3│4 5 6││\n",
       "││   │A P L│ │     ││\n",
       "││   │A P L│ │     ││\n",
       "│└───┴─────┴─┴─────┘│\n",
       "└───────────────────┘\n",
       "Depth:  ¯3\n",
       "</span>"
      ]
     },
     "execution_count": 5,
     "metadata": {},
     "output_type": "execute_result"
    }
   ],
   "source": [
    "⍝ A mixed nested array\n",
    "array←2 3⍴1 2('APL'(3 5⍴'A P L') 3 (4 5 6) ) 7 (8 9) (10 'APL')\n",
    "⍝ What does it look like?\n",
    "array\n",
    "⍝ The top-left element is a scalar number 1\n",
    "array[1;1]\n",
    "⍝ The bottom-middle element is a nested vector (8 9)\n",
    "'Depth: ',≡⎕←array[2;2]\n",
    "⍝ The 2nd element of the top-right element is a nested 3 3 shape character matrix\n",
    "'Depth: ',≡⎕←array[1;3]"
   ]
  },
  {
   "cell_type": "markdown",
   "metadata": {},
   "source": [
    "## Picking\n",
    "Square bracket indexing a nested returns an [enclosed]() result. Pick `⊃` allows you to retrieve the disclosed array."
   ]
  },
  {
   "cell_type": "code",
   "execution_count": 2,
   "metadata": {},
   "outputs": [
    {
     "data": {
      "text/html": [
       "<span style=\"white-space:pre; font-family: monospace\">b\n",
       "</span>"
      ]
     },
     "execution_count": 2,
     "metadata": {},
     "output_type": "execute_result"
    },
    {
     "data": {
      "text/html": [
       "<span style=\"white-space:pre; font-family: monospace\">b\n",
       "</span>"
      ]
     },
     "execution_count": 2,
     "metadata": {},
     "output_type": "execute_result"
    }
   ],
   "source": [
    "'abc'[2] ⍝ These are the same for a simple array\n",
    "2⊃'abc'"
   ]
  },
  {
   "cell_type": "code",
   "execution_count": 3,
   "metadata": {},
   "outputs": [
    {
     "data": {
      "text/html": [
       "<span style=\"white-space:pre; font-family: monospace\">E\n",
       "</span>"
      ]
     },
     "execution_count": 3,
     "metadata": {},
     "output_type": "execute_result"
    },
    {
     "data": {
      "text/html": [
       "<span style=\"white-space:pre; font-family: monospace\">E\n",
       "</span>"
      ]
     },
     "execution_count": 3,
     "metadata": {},
     "output_type": "execute_result"
    }
   ],
   "source": [
    "(3 3⍴⎕A)[2;2] ⍝ At a certain point it becomes a matter of style and taste\n",
    "(⊂2 2)⊃3 3⍴⎕A ⍝ Left argument to pick must be enclosed"
   ]
  },
  {
   "cell_type": "code",
   "execution_count": 12,
   "metadata": {},
   "outputs": [
    {
     "data": {
      "text/html": [
       "<span style=\"white-space:pre; font-family: monospace\">┌───┐\n",
       "│def│\n",
       "└───┘\n",
       "</span>"
      ]
     },
     "execution_count": 12,
     "metadata": {},
     "output_type": "execute_result"
    },
    {
     "data": {
      "text/html": [
       "<span style=\"white-space:pre; font-family: monospace\">def\n",
       "</span>"
      ]
     },
     "execution_count": 12,
     "metadata": {},
     "output_type": "execute_result"
    }
   ],
   "source": [
    "('abc' 'def' (1 2) 3)[2]\n",
    "2⊃'abc' 'def'"
   ]
  },
  {
   "cell_type": "code",
   "execution_count": 13,
   "metadata": {},
   "outputs": [
    {
     "data": {
      "text/html": [
       "<span style=\"white-space:pre; font-family: monospace\">┌───┐\n",
       "│def│\n",
       "└───┘\n",
       "</span>"
      ]
     },
     "execution_count": 13,
     "metadata": {},
     "output_type": "execute_result"
    },
    {
     "data": {
      "text/html": [
       "<span style=\"white-space:pre; font-family: monospace\">def\n",
       "</span>"
      ]
     },
     "execution_count": 13,
     "metadata": {},
     "output_type": "execute_result"
    }
   ],
   "source": [
    "(2 3⍴'ab' 2 3 'c' 'def' 6)[2;2]\n",
    "(⊂2 2)⊃2 3⍴'ab' 2 3 'c' 'def' 6"
   ]
  },
  {
   "cell_type": "markdown",
   "metadata": {},
   "source": [
    "## Compress and replicate\n",
    "Infix slash `/` with an array left argument is the function replicate. It replicates elements according the corresponding integer in the left argument array."
   ]
  },
  {
   "cell_type": "code",
   "execution_count": 6,
   "metadata": {},
   "outputs": [
    {
     "data": {
      "text/html": [
       "<span style=\"white-space:pre; font-family: monospace\">ABBCCCDDDD\n",
       "</span>"
      ]
     },
     "execution_count": 6,
     "metadata": {},
     "output_type": "execute_result"
    }
   ],
   "source": [
    "1 2 3 4/'ABCD'"
   ]
  },
  {
   "cell_type": "markdown",
   "metadata": {},
   "source": [
    "If a boolean array is used, sometimes the function is called \"compress\""
   ]
  },
  {
   "cell_type": "code",
   "execution_count": 8,
   "metadata": {},
   "outputs": [
    {
     "data": {
      "text/html": [
       "<span style=\"white-space:pre; font-family: monospace\">APL\n",
       "</span>"
      ]
     },
     "execution_count": 8,
     "metadata": {},
     "output_type": "execute_result"
    }
   ],
   "source": [
    "1 0 1 1 0/'APPLE'"
   ]
  },
  {
   "cell_type": "markdown",
   "metadata": {},
   "source": [
    "## Expand\n",
    "Infix backslash inserts [array prototypes]() where 0s occur in the left argument array."
   ]
  },
  {
   "cell_type": "code",
   "execution_count": 11,
   "metadata": {},
   "outputs": [
    {
     "data": {
      "text/html": [
       "<span style=\"white-space:pre; font-family: monospace\">A PPP LEEE\n",
       "</span>"
      ]
     },
     "execution_count": 11,
     "metadata": {},
     "output_type": "execute_result"
    }
   ],
   "source": [
    "1 0 2 1 0 1 3\\'APPLE'"
   ]
  },
  {
   "cell_type": "markdown",
   "metadata": {},
   "source": [
    "### Selective assignment\n",
    "Assign values to specific elements in an array."
   ]
  }
 ],
 "metadata": {
  "kernelspec": {
   "display_name": "Dyalog APL",
   "language": "apl",
   "name": "dyalog-kernel"
  },
  "language_info": {
   "file_extension": ".apl",
   "mimetype": "text/apl",
   "name": "APL"
  }
 },
 "nbformat": 4,
 "nbformat_minor": 4
}
