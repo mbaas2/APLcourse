{
 "cells": [
  {
   "cell_type": "markdown",
   "metadata": {},
   "source": [
    "# Selection\n",
    "Retrieve specific elements of an array. There are multiple ways to do this in APL."
   ]
  },
  {
   "cell_type": "markdown",
   "metadata": {},
   "source": [
    "### Square bracket indexing\n",
    "Those who have used other programs which implement arrays (e.g. MATLAB) will recognise the use of square brackets and semicolons to index arrays."
   ]
  },
  {
   "cell_type": "markdown",
   "metadata": {},
   "source": [
    "```APL\n",
    "      ⍝ A mixed nested array\n",
    "      array←2 3⍴1 2('APL'(3 5⍴'A P L') 3 (4 5 6) ) 7 (8 9) (10 'APL')\n",
    "      ⍝ What does it look like?\n",
    "      ⎕←array\n",
    "┌─┬───┬───────────────────┐\n",
    "│1│2  │┌───┬─────┬─┬─────┐│\n",
    "│ │   ││APL│A P L│3│4 5 6││\n",
    "│ │   ││   │A P L│ │     ││\n",
    "│ │   ││   │A P L│ │     ││\n",
    "│ │   │└───┴─────┴─┴─────┘│\n",
    "├─┼───┼───────────────────┤\n",
    "│7│8 9│┌──┬───┐           │\n",
    "│ │   ││10│APL│           │\n",
    "│ │   │└──┴───┘           │\n",
    "└─┴───┴───────────────────┘\n",
    "```\n",
    "```APL\n",
    "⎕←\n",
    "``` \n",
    "is used here to [print an intermediate result]().\n",
    "```APL\n",
    "⍝ The top-left element is a scalar number 1\n",
    "      array[1;1]\n",
    "1\n",
    "⍝ The bottom-middle element is a nested vector (8 9)\n",
    "      'Depth: ',≡⎕←array[2;2]\n",
    "┌───┐\n",
    "│8 9│\n",
    "└───┘\n",
    "Depth:  2\n",
    "      ⍝ The top-right element is a 4 element nested character matrix\n",
    "      'Depth: ',≡⎕←array[1;3]\n",
    "┌───────────────────┐\n",
    "│┌───┬─────┬─┬─────┐│\n",
    "││APL│A P L│3│4 5 6││\n",
    "││   │A P L│ │     ││\n",
    "││   │A P L│ │     ││\n",
    "│└───┴─────┴─┴─────┘│\n",
    "└───────────────────┘\n",
    "Depth:  ¯3\n",
    "```"
   ]
  },
  {
   "cell_type": "code",
   "execution_count": 10,
   "metadata": {},
   "outputs": [
    {
     "data": {
      "text/html": [
       "<span style=\"white-space:pre; font-family: monospace\">┌─┬───┬───────────────────┐\n",
       "│1│2  │┌───┬─────┬─┬─────┐│\n",
       "│ │   ││APL│A P L│3│4 5 6││\n",
       "│ │   ││   │A P L│ │     ││\n",
       "│ │   ││   │A P L│ │     ││\n",
       "│ │   │└───┴─────┴─┴─────┘│\n",
       "├─┼───┼───────────────────┤\n",
       "│7│8 9│┌──┬───┐           │\n",
       "│ │   ││10│APL│           │\n",
       "│ │   │└──┴───┘           │\n",
       "└─┴───┴───────────────────┘\n",
       "</span>"
      ]
     },
     "execution_count": 10,
     "metadata": {},
     "output_type": "execute_result"
    },
    {
     "data": {
      "text/html": [
       "<span style=\"white-space:pre; font-family: monospace\">1\n",
       "</span>"
      ]
     },
     "execution_count": 10,
     "metadata": {},
     "output_type": "execute_result"
    },
    {
     "data": {
      "text/html": [
       "<span style=\"white-space:pre; font-family: monospace\">┌───┐\n",
       "│8 9│\n",
       "└───┘\n",
       "Depth:  2\n",
       "</span>"
      ]
     },
     "execution_count": 10,
     "metadata": {},
     "output_type": "execute_result"
    },
    {
     "data": {
      "text/html": [
       "<span style=\"white-space:pre; font-family: monospace\">┌───────────────────┐\n",
       "│┌───┬─────┬─┬─────┐│\n",
       "││APL│A P L│3│4 5 6││\n",
       "││   │A P L│ │     ││\n",
       "││   │A P L│ │     ││\n",
       "│└───┴─────┴─┴─────┘│\n",
       "└───────────────────┘\n",
       "Depth:  ¯3\n",
       "</span>"
      ]
     },
     "execution_count": 10,
     "metadata": {},
     "output_type": "execute_result"
    }
   ],
   "source": [
    "⍝ A mixed nested array\n",
    "array←2 3⍴1 2('APL'(3 5⍴'A P L') 3 (4 5 6) ) 7 (8 9) (10 'APL')\n",
    "⍝ What does it look like?\n",
    "array\n",
    "⍝ The top-left element is a scalar number 1\n",
    "array[1;1]\n",
    "⍝ The bottom-middle element is a nested vector (8 9)\n",
    "'Depth: ',≡⎕←array[2;2]\n",
    "⍝ The 2nd element of the top-right element is a nested 3 3 shape character matrix\n",
    "'Depth: ',≡⎕←array[1;3]"
   ]
  },
  {
   "cell_type": "code",
   "execution_count": null,
   "metadata": {},
   "outputs": [],
   "source": []
  },
  {
   "cell_type": "markdown",
   "metadata": {},
   "source": [
    "### Selective assignment\n",
    "Assign values to specific elements in an array."
   ]
  }
 ],
 "metadata": {
  "kernelspec": {
   "display_name": "Dyalog APL",
   "language": "apl",
   "name": "dyalog-kernel"
  },
  "language_info": {
   "file_extension": ".apl",
   "mimetype": "text/apl",
   "name": "APL"
  }
 },
 "nbformat": 4,
 "nbformat_minor": 2
}
