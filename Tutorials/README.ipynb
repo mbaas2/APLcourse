{
 "cells": [
  {
   "cell_type": "markdown",
   "metadata": {},
   "source": [
    "# APLCourse Tutorials\n",
    "\n",
    "A collection of tutorials and explanations of different programming concepts, with a focus on array programming and APL."
   ]
  },
  {
   "cell_type": "markdown",
   "metadata": {},
   "source": [
    "***\n",
    "### Who are you?\n",
    "- [I am new to programming](Catalogues/Noobs.ipynb) (work in progress)\n",
    "- [I am a programmer but new to APL](Catalogues/APLnoobs.ipynb) (work in progress)\n",
    "- [I want to learn some intermediate APL](Catalogues/Intermediate.ipynb) (work in progress)\n",
    "- I am an old APLer and want to learn about modern APL (coming soon...)\n",
    "- I am looking for APL resources (coming soon...)"
   ]
  }
 ],
 "metadata": {
  "kernelspec": {
   "display_name": "Dyalog APL",
   "language": "apl",
   "name": "dyalog-kernel"
  },
  "language_info": {
   "file_extension": ".apl",
   "mimetype": "text/apl",
   "name": "APL"
  }
 },
 "nbformat": 4,
 "nbformat_minor": 4
}
