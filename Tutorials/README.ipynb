{
 "cells": [
  {
   "cell_type": "markdown",
   "metadata": {},
   "source": [
    "# APLCourse Tutorials\n",
    "\n",
    "A collection of tutorials and explanations of different programming concepts, with a focus on array programming and APL.\n",
    "\n",
    "## Contents\n",
    "\n",
    "  - [APL.ipynb](./APL.ipynb)                                                                      \n",
    "  - [Arithmetic.ipynb](./Arithmetic.ipynb)                                                        \n",
    "  - [Arrays.ipynb](./Arrays.ipynb)                                                                \n",
    "  - [CreatingYourFirstDyalogJupyterNotebook.ipynb](./CreatingYourFirstDyalogJupyterNotebook.ipynb)\n",
    "  - [Functions.ipynb](./Functions.ipynb)                                                          \n",
    "  - [Generators.ipynb](./Generators.ipynb)                                                        \n",
    "  - [InstallingDyalogJupyter.ipynb](./InstallingDyalogJupyter.ipynb)                              \n",
    "  - [MarkingTests.ipynb](./MarkingTests.ipynb)                                                    \n",
    "  - [Operators.ipynb](./Operators.ipynb)                                                          \n",
    "  - [Scalar.ipynb](./Scalar.ipynb)                                                                \n",
    "  - [Selection.ipynb](./Selection.ipynb)                                                          \n",
    "  - [Syntax.ipynb](./Syntax.ipynb)                                                                \n",
    "  - [SystemCommands.ipynb](./SystemCommands.ipynb)                                                \n",
    "  - [Tacit.ipynb](./Tacit.ipynb) "
   ]
  }
 ],
 "metadata": {
  "kernelspec": {
   "display_name": "Dyalog APL",
   "language": "apl",
   "name": "dyalog-kernel"
  },
  "language_info": {
   "file_extension": ".apl",
   "mimetype": "text/apl",
   "name": "APL"
  }
 },
 "nbformat": 4,
 "nbformat_minor": 4
}
