{
 "cells": [
  {
   "cell_type": "markdown",
   "metadata": {},
   "source": [
    "# APLCourse Tutorials\n",
    "\n",
    "A collection of tutorials and explanations of different programming concepts, with a focus on array programming and APL."
   ]
  },
  {
   "cell_type": "markdown",
   "metadata": {},
   "source": [
    "***\n",
    "## Uh... where do I start?\n",
    "We have some curated catalogues of content for different purposes.\n",
    "### Who are you?\n",
    "- [I am new to programming](Catalogues/Noobs.ipynb) (work in progress)\n",
    "- [I am a programmer but new to APL](Catalogues/APLnoobs.ipynb) (work in progress)\n",
    "- [I want to learn some intermediate APL](Catalogues/Intermediate.ipynb) (work in progress)\n",
    "- I am an old APLer and want to learn about modern APL (coming soon...)\n",
    "- I am looking for APL resources (coming soon...)"
   ]
  },
  {
   "cell_type": "markdown",
   "metadata": {},
   "source": [
    "***\n",
    "## Contents\n",
    "  - [APL.ipynb](./APL.ipynb)                                                                      \n",
    "  - [Arithmetic.ipynb](./Arithmetic.ipynb)                                                        \n",
    "  - [Arrays.ipynb](./Arrays.ipynb)                                                                \n",
    "  - [CreatingYourFirstDyalogJupyterNotebook.ipynb](./CreatingYourFirstDyalogJupyterNotebook.ipynb)\n",
    "  - [Functions.ipynb](./Functions.ipynb)                                                          \n",
    "  - [Generators.ipynb](./Generators.ipynb)                                                        \n",
    "  - [InstallingDyalogJupyter.ipynb](./InstallingDyalogJupyter.ipynb)                              \n",
    "  - [MarkingTests.ipynb](./MarkingTests.ipynb)                                                    \n",
    "  - [Operators.ipynb](./Operators.ipynb)                                                          \n",
    "  - [Rank.ipynb](./Rank.ipynb)                                                                    \n",
    "  - [Reduction.ipynb](./Reduction.ipynb)                                                          \n",
    "  - [Scalar.ipynb](./Scalar.ipynb)                                                                \n",
    "  - [Selection.ipynb](./Selection.ipynb)                                                          \n",
    "  - [Syntax.ipynb](./Syntax.ipynb)                                                                \n",
    "  - [SystemCommands.ipynb](./SystemCommands.ipynb)                                                \n",
    "  - [Tacit.ipynb](./Tacit.ipynb)                                                                  \n",
    "  - [TypingAPL.ipynb](./TypingAPL.ipynb)                                                          \n",
    "  - [WS.ipynb](./WS.ipynb)"
   ]
  }
 ],
 "metadata": {
  "kernelspec": {
   "display_name": "Dyalog APL",
   "language": "apl",
   "name": "dyalog-kernel"
  },
  "language_info": {
   "file_extension": ".apl",
   "mimetype": "text/apl",
   "name": "APL"
  }
 },
 "nbformat": 4,
 "nbformat_minor": 4
}
