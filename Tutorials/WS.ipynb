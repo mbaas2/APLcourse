{
 "cells": [
  {
   "cell_type": "markdown",
   "metadata": {},
   "source": [
    "# Workspaces\n",
    "A legacy application storage and execution space; a powerful development environment."
   ]
  },
  {
   "cell_type": "markdown",
   "metadata": {},
   "source": [
    "The workspace is the available memory in which an APL application is stored. It will contain all variables, functions and objects that have been named. We can query the defined names with `⎕NL` (Name List)."
   ]
  },
  {
   "cell_type": "code",
   "execution_count": 4,
   "metadata": {},
   "outputs": [
    {
     "data": {
      "text/html": [
       "<span style=\"white-space:pre; font-family: monospace\">\n",
       "\n",
       "\n",
       "</span>"
      ]
     },
     "execution_count": 4,
     "metadata": {},
     "output_type": "execute_result"
    }
   ],
   "source": [
    "⎕NL-⍳9 ⍝ This is a clear workspace with no names"
   ]
  },
  {
   "cell_type": "markdown",
   "metadata": {},
   "source": [
    "There are 9 [name classifications](http://help.dyalog.com/17.0/Content/Language/System%20Functions/nc.htm).\n",
    "\n",
    "|Name class|Description|\n",
    "|:--------:|:---------:|\n",
    "|1|Label|\n",
    "|2|Variable|\n",
    "|3|Function|\n",
    "|4|Operator|\n",
    "|8|Event|\n",
    "|9|Object (GUI, namespace, COM, .NET)|"
   ]
  },
  {
   "cell_type": "code",
   "execution_count": 5,
   "metadata": {},
   "outputs": [
    {
     "data": {
      "text/html": [
       "<span style=\"white-space:pre; font-family: monospace\">┌────┬────┬───┬───┐\n",
       "│MyNS│char│num│obj│\n",
       "└────┴────┴───┴───┘\n",
       "</span>"
      ]
     },
     "execution_count": 5,
     "metadata": {},
     "output_type": "execute_result"
    }
   ],
   "source": [
    "char←'character array'\n",
    "num←1 2 3 4\n",
    "obj←'MyNS'⎕NS⍬\n",
    "⎕NL-⍳9 ⍝ NameList all of the name types"
   ]
  }
 ],
 "metadata": {
  "kernelspec": {
   "display_name": "Dyalog APL",
   "language": "apl",
   "name": "dyalog-kernel"
  },
  "language_info": {
   "file_extension": ".apl",
   "mimetype": "text/apl",
   "name": "APL"
  }
 },
 "nbformat": 4,
 "nbformat_minor": 4
}
