{
 "cells": [
  {
   "cell_type": "markdown",
   "metadata": {},
   "source": [
    "# Installing Dyalog Jupyter Notebooks"
   ]
  },
  {
   "cell_type": "markdown",
   "metadata": {},
   "source": [
    "These are notes on installing Jupyter notebooks with either the [Lab](https://jupyterlab.readthedocs.io/en/stable/) or [Hub](https://jupyter.org/hub) environment, and how to install the [Dyalog Jupyter kernel](https://github.com/Dyalog/dyalog-jupyter-kernel) for these environments.\n",
    "\n",
    "- Jupyer Lab: run and edit notebooks\n",
    "  - Install on [Windows](#Windows)\n",
    "  - Install on [MacOS](#MacOS)\n",
    "  - Install on [Linux](#Linux)\n",
    "- Jupyter Hub: host multiple users\n",
    "  - Install [Jupyter Hub](#Jupyter-Hub)\n",
    "- The Dyalog Kernel\n",
    "  - [Jupyter Lab](#The-Dyalog-kernel)\n",
    "  - [Jupyter Hub](#The-Dyalog-kernel-with-Jupyter-Hub)"
   ]
  },
  {
   "cell_type": "markdown",
   "metadata": {},
   "source": [
    "## Jupyter Lab\n",
    "The [Jupyter Lab]() environment allows for running and editing live Jupyter notebooks. Installing the [Dyalog Jupyter Kernel](#The-Dyalog-kernel) for this environment is relatively straightforward."
   ]
  },
  {
   "cell_type": "markdown",
   "metadata": {},
   "source": [
    "### Windows\n",
    "[There is a blog post](http://technivore.org/posts/2016/02/27/windows-jupyter-three-ways.html) that gives three ways to get Jupyter running on Windows.\n",
    "\n",
    "**'Pure Python'**\n",
    "```\n",
    "PS C:\\> pip3 install jupyter\n",
    "PS C:\\> pip3 install jupyterlab\n",
    "PS C:\\> jupyter lab\n",
    "```\n",
    "\n",
    "**Anaconda**\n",
    "\n",
    "Anaconda is a python-oriented scientific computing package. It comes with Jupyter by default. Go to [https://www.anaconda.com/distribution/#download-section](https://www.anaconda.com/distribution/#download-section) for installation instructions (Get the Python 3 version if you want to use the Dyalog kernel).\n",
    "\n",
    "**Docker**\n",
    "\n",
    "Dyalog provides a pre-configured docker container for running Dyalog Jupyter notebooks, free for non-commercial use.\n",
    "```\n",
    "PS C:\\> docker run -p 8888:8888 dyalog/jupyter\n",
    "```"
   ]
  },
  {
   "cell_type": "markdown",
   "metadata": {},
   "source": [
    "### MacOS\n",
    "\n",
    "Install on MacOS using [Homebrew](https://brew.sh/).\n",
    "\n",
    "`$ brew install python3 pip3`\n",
    "\n",
    "`$ pip3 install jupyterlab`\n",
    "\n",
    "`$ python3 -m jupyterlab`"
   ]
  },
  {
   "cell_type": "markdown",
   "metadata": {},
   "source": [
    "### Linux\n",
    "To install and run Jupyter Lab on Ubuntu Linux, issue the following commands in the terminal:\n",
    "\n",
    "`$ sudo apt install python3-pip`\n",
    "\n",
    "`$ pip3 install jupyterlab`\n",
    "\n",
    "`$ python3 -m jupyterlab`"
   ]
  },
  {
   "cell_type": "markdown",
   "metadata": {},
   "source": [
    "### The Dyalog kernel"
   ]
  },
  {
   "cell_type": "markdown",
   "metadata": {},
   "source": [
    "### Jupyter Lab\n",
    "To use Dyalog with notebooks, you'll need to install the [Dyalog Jupyter kernel](https://github.com/Dyalog/dyalog-jupyter-kernel)\n",
    "\n",
    "`$ sudo apt install git`\n",
    "\n",
    "`$ git clone https://github.com/Dyalog/dyalog-jupyter-kernel.git`\n",
    "\n",
    "`$ cd dyalog-jupyter-kernel`\n",
    "\n",
    "`$ ./install.sh` (Mac and Linux, `install.bat` for Windows) \n",
    "\n",
    "The instructions on [the Dyalog Jupyter kernel wiki](https://github.com/Dyalog/dyalog-jupyter-kernel/wiki/1.-Offline-usage) suggest using Anaconda, but the install scripts also work with 'pure python' environments."
   ]
  },
  {
   "cell_type": "markdown",
   "metadata": {},
   "source": [
    "## Jupyter Hub"
   ]
  },
  {
   "cell_type": "markdown",
   "metadata": {},
   "source": [
    "## Installing Jupyter Hub\n",
    "\n",
    "[Jupyter Hub](https://jupyter.org/hub) is a multi-user Jupyter environment. \n",
    "\n",
    "[The Littlest Jupyter Hub](https://tljh.jupyter.org/en/latest/index.html) is an environment for 1 to ~100 users. It is ideal for use in classrooms or on small training courses. Installing The Littlest Jupyter Hub is really straightforward, and the environment can be self-contained in a virtual machine or [docker container](https://hub.docker.com/r/jupyterhub/jupyterhub/).\n",
    "\n",
    "[Zero to JupyterHub with Kubernetes](https://z2jh.jupyter.org/en/latest/) is a guide for setting up a Kubernetes cluster for JupyterHub docker containers. If you are interested in setting up live interactive Jupyter Notebooks at a large institution, this is the guide for your IT department.\n",
    "\n",
    "NOTE: The only success I have had is installing The Littlest Jupyter Hub using [these instructions](https://tljh.jupyter.org/en/latest/install/custom-server.html) on a clean Ubuntu 18.04 virtual machine."
   ]
  },
  {
   "cell_type": "markdown",
   "metadata": {},
   "source": [
    "### The Dyalog kernel with Jupyter Hub\n",
    "\n",
    "With a simple Python or Anaconda installation, all you need to do is execute *install.bat* or *install.sh* from the [Dyalog Jupyter kernel GitHub repository](https://github.com/Dyalog/dyalog-jupyter-kernel/wiki/1.-Offline-usage). However, with JupyterHub you will need to copy the Dyalog Jupyter kernel ```dyalog_kernel``` and ```dyalog-kernel``` directories to appropriate folders.\n",
    "\n",
    "The following Terminal sessions are *inside the running JupyterHub*\n",
    "```console\n",
    "jupyter-admin@DyalogJupyterHub:/$ jupyter kernelspec list\n",
    "Available kernels:\n",
    "  python3          /opt/tljh/user/share/jupyter/kernels/python3\n",
    "  dyalog-kernel    /usr/local/share/jupyter/kernels/dyalog-kernel\n",
    "\n",
    "jupyter-admin@DyalogJupyterHub:~$ python3 -m site --user-site\n",
    "/home/jupyter-admin/.local/lib/python3.6/site-packages\n",
    "\n",
    "jupyter-admin@DyalogJupyterHub:~$ ls /opt/tljh/hub/lib/python3.6/site-packages/dyalog_kernel/\n",
    "init.dws  init.dyalog  __init__.py  kernel.py  __main__.py  Render.dyalog\n",
    "```\n",
    "\n",
    "To clarify, these are the paths inside JupyterHub where you should place `dyalog_kernel` and `dyalog-kernel` from the Dyalog Jupyter kernel GitHub repository. \n",
    "\n",
    "```\n",
    "/opt/tljh/hub/lib/python3.6/site-packages/dyalog_kernel/\n",
    "/usr/local/share/jupyter/kernels/dyalog-kernel\n",
    "```"
   ]
  }
 ],
 "metadata": {
  "kernelspec": {
   "display_name": "Dyalog APL",
   "language": "apl",
   "name": "dyalog-kernel"
  },
  "language_info": {
   "file_extension": ".apl",
   "mimetype": "text/apl",
   "name": "APL"
  }
 },
 "nbformat": 4,
 "nbformat_minor": 4
}
