{
 "cells": [
  {
   "cell_type": "markdown",
   "metadata": {},
   "source": [
    "# Operators\n",
    "Operators allow implementation of [higher-order functions](https://en.wikipedia.org/wiki/Higher-order_function) in APL. An operator takes 1 or 2 operands and derives a function which itself can be either [monadic or dyadic](APL.ipynb#Syntax)."
   ]
  },
  {
   "cell_type": "markdown",
   "metadata": {},
   "source": [
    "## Primitive operators\n",
    "<table style='font-family:\"APL385 Unicode\";font-size:120%;'>\n",
    "    <tr style=\"font-weight:bold;\">\n",
    "        <td>Symbol</td>\n",
    "        <td>Name</td>\n",
    "    </tr>\n",
    "    <tr>\n",
    "        <td>¨</td>\n",
    "        <td>Each</td>\n",
    "    </tr>\n",
    "    <tr>\n",
    "        <td>⍨</td>\n",
    "        <td>Commute/Swap/Selfie</td>\n",
    "    </tr>\n",
    "    <tr>\n",
    "        <td>∘</td>\n",
    "        <td>Compose/Curry</td>\n",
    "    </tr>\n",
    "    <tr>\n",
    "        <td>.</td>\n",
    "        <td>Dot</td>\n",
    "    </tr>\n",
    "    <tr>\n",
    "        <td>∘.</td>\n",
    "        <td>Outer product</td>\n",
    "    </tr>\n",
    "    <tr>\n",
    "        <td>/⌿</td>\n",
    "        <td><a href=\"Reduction.ipynb\">Reduce/Reduce first</a></td>\n",
    "    </tr>\n",
    "    <tr>\n",
    "        <td>\\⍀</td>\n",
    "        <td>Scan/Scan first</td>\n",
    "    </tr>\n",
    "    <tr>\n",
    "        <td>⍣</td>\n",
    "        <td>Power</td>\n",
    "    </tr>\n",
    "    <tr>\n",
    "        <td>&</td>\n",
    "        <td>Spawn</td>\n",
    "    </tr>\n",
    "    <tr>\n",
    "        <td>⌶</td>\n",
    "        <td>I-Beam</td>\n",
    "    </tr>\n",
    "    <tr>\n",
    "        <td>⍠</td>\n",
    "        <td>Variant</td>\n",
    "    </tr>\n",
    "    <tr>\n",
    "        <td>⌸</td>\n",
    "        <td>Key</td>\n",
    "    </tr>\n",
    "    <tr>\n",
    "        <td>⌺</td>\n",
    "        <td>Stencil</td>\n",
    "    </tr>\n",
    "    <tr>\n",
    "        <td>⍤</td>\n",
    "        <td><a href=\"Rank.ipynb\">Rank</a></td>\n",
    "    </tr>\n",
    "    <tr>\n",
    "        <td>@</td>\n",
    "        <td>At</td>\n",
    "    </tr>\n",
    "</table>"
   ]
  },
  {
   "cell_type": "markdown",
   "metadata": {},
   "source": [
    "## User-defined operators\n",
    "Operators can be defined either as [dops](#dops) or [tradops](#tradops)."
   ]
  },
  {
   "cell_type": "markdown",
   "metadata": {},
   "source": [
    "### dops\n",
    "```APL\n",
    "        ⍺   ⍝ Left argument\n",
    "        ⍺⍺  ⍝ Left operand\n",
    "        ⍵⍵  ⍝ Right operand\n",
    "        ⍵   ⍝ Right argument      \n",
    "```\n",
    "One may define anonymous dops also."
   ]
  },
  {
   "cell_type": "code",
   "execution_count": 4,
   "metadata": {},
   "outputs": [],
   "source": [
    "⍝ Examples here"
   ]
  },
  {
   "cell_type": "markdown",
   "metadata": {},
   "source": [
    "### tradops\n",
    "```APL\n",
    "      ∇ r←larg (LFun OPERATOR RFun) rarg\n",
    "        ⍝ Operator definition here\n",
    "      ∇\n",
    "```"
   ]
  },
  {
   "cell_type": "code",
   "execution_count": 5,
   "metadata": {},
   "outputs": [],
   "source": [
    "⍝ Examples here"
   ]
  },
  {
   "cell_type": "markdown",
   "metadata": {},
   "source": [
    "### Comparison: the OVER operator\n",
    "Over will be available in Dyalog version 18.0 as a primitive operator with the glyph `⍥`.\n",
    "\n",
    "In this case, there is some advantage in the tradop definition. The naming of arguments and operands helps us to see clearly what the OVER operator does.\n",
    "\n",
    "1. Preprocessor `PreProc` applied to left argument `larg`\n",
    "1. Preprocessor `PreProc` applied to right argument `rarg`\n",
    "1. Main function `Main` applied to the results of pre-processed arguments"
   ]
  },
  {
   "cell_type": "code",
   "execution_count": 7,
   "metadata": {},
   "outputs": [],
   "source": [
    "     ∇ r←larg(Main OVER PreProc)rarg        \n",
    "[1]    ⍝ tradop definition\n",
    "[2]    r←(PreProc larg)Main(PreProc rarg)     \n",
    "     ∇  "
   ]
  },
  {
   "cell_type": "code",
   "execution_count": 14,
   "metadata": {},
   "outputs": [],
   "source": [
    "OVER←{(⍵⍵ ⍺)⍺⍺ ⍵⍵ ⍵}"
   ]
  },
  {
   "cell_type": "markdown",
   "metadata": {},
   "source": [
    "**Uses of the OVER operator**"
   ]
  },
  {
   "cell_type": "code",
   "execution_count": 15,
   "metadata": {},
   "outputs": [
    {
     "data": {
      "text/html": [
       "<span style=\"white-space:pre; font-family: monospace\">1\n",
       "</span>"
      ]
     },
     "execution_count": 15,
     "metadata": {},
     "output_type": "execute_result"
    }
   ],
   "source": [
    "⍝ Match case insensitively\n",
    "'this'(≡OVER(819⌶))'This' "
   ]
  },
  {
   "cell_type": "code",
   "execution_count": 17,
   "metadata": {},
   "outputs": [
    {
     "data": {
      "text/html": [
       "<span style=\"white-space:pre; font-family: monospace\">1\n",
       "</span>"
      ]
     },
     "execution_count": 17,
     "metadata": {},
     "output_type": "execute_result"
    }
   ],
   "source": [
    "⍝ Do arrays consists of idential major cells?\n",
    "(↑'jan' 'feb' 'mar' 'apr')(≡OVER{(⊂⍋⍵)⌷⍵})(↑'feb' 'apr' 'mar' 'jan')"
   ]
  },
  {
   "cell_type": "code",
   "execution_count": 18,
   "metadata": {},
   "outputs": [
    {
     "data": {
      "text/html": [
       "<span style=\"white-space:pre; font-family: monospace\">10 8 10\n",
       "</span>"
      ]
     },
     "execution_count": 18,
     "metadata": {},
     "output_type": "execute_result"
    }
   ],
   "source": [
    "⍝ Sum of squares of elements of two arrays\n",
    "1 2 3+OVER(×⍨)3 2 1"
   ]
  }
 ],
 "metadata": {
  "kernelspec": {
   "display_name": "Dyalog APL",
   "language": "apl",
   "name": "dyalog-kernel"
  },
  "language_info": {
   "file_extension": ".apl",
   "mimetype": "text/apl",
   "name": "APL"
  }
 },
 "nbformat": 4,
 "nbformat_minor": 4
}
