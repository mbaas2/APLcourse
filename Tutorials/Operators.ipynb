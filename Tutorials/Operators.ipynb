{
 "cells": [
  {
   "cell_type": "markdown",
   "metadata": {},
   "source": [
    "# Operators\n",
    "Operators allow implementation of [higher-order functions](https://en.wikipedia.org/wiki/Higher-order_function) in APL. An operator takes 1 or 2 operands and derives a function which itself can be either [monadic or dyadic](APL.ipynb#Syntax)."
   ]
  },
  {
   "cell_type": "markdown",
   "metadata": {},
   "source": [
    "## Primitive operators\n",
    "<table style='font-family:\"APL385 Unicode\";font-size:120%;'>\n",
    "    <tr style=\"font-weight:bold;\">\n",
    "        <td>Symbol</td>\n",
    "        <td>Name</td>\n",
    "    </tr>\n",
    "    <tr>\n",
    "        <td>¨</td>\n",
    "        <td>Each</td>\n",
    "    </tr>\n",
    "    <tr>\n",
    "        <td>⍨</td>\n",
    "        <td>Commute/Swap/Selfie</td>\n",
    "    </tr>\n",
    "    <tr>\n",
    "        <td>∘</td>\n",
    "        <td>Compose/Curry</td>\n",
    "    </tr>\n",
    "    <tr>\n",
    "        <td>.</td>\n",
    "        <td>Dot</td>\n",
    "    </tr>\n",
    "    <tr>\n",
    "        <td>∘.</td>\n",
    "        <td>Outer product</td>\n",
    "    </tr>\n",
    "    <tr>\n",
    "        <td>/⌿</td>\n",
    "        <td><a href=\"Reduction.ipynb\">Reduce/Reduce first</a></td>\n",
    "    </tr>\n",
    "    <tr>\n",
    "        <td>\\⍀</td>\n",
    "        <td>Scan/Scan first</td>\n",
    "    </tr>\n",
    "    <tr>\n",
    "        <td>⍣</td>\n",
    "        <td>Power</td>\n",
    "    </tr>\n",
    "    <tr>\n",
    "        <td>&</td>\n",
    "        <td>Spawn</td>\n",
    "    </tr>\n",
    "    <tr>\n",
    "        <td>⌶</td>\n",
    "        <td>I-Beam</td>\n",
    "    </tr>\n",
    "    <tr>\n",
    "        <td>⍠</td>\n",
    "        <td>Variant</td>\n",
    "    </tr>\n",
    "    <tr>\n",
    "        <td>⌸</td>\n",
    "        <td>Key</td>\n",
    "    </tr>\n",
    "    <tr>\n",
    "        <td>⌺</td>\n",
    "        <td>Stencil</td>\n",
    "    </tr>\n",
    "    <tr>\n",
    "        <td>⍤</td>\n",
    "        <td><a href=\"Rank.ipynb\">Rank</a></td>\n",
    "    </tr>\n",
    "    <tr>\n",
    "        <td>@</td>\n",
    "        <td>At</td>\n",
    "    </tr>\n",
    "</table>"
   ]
  }
 ],
 "metadata": {
  "kernelspec": {
   "display_name": "Dyalog APL",
   "language": "apl",
   "name": "dyalog-kernel"
  },
  "language_info": {
   "file_extension": ".apl",
   "mimetype": "text/apl",
   "name": "APL"
  }
 },
 "nbformat": 4,
 "nbformat_minor": 4
}
