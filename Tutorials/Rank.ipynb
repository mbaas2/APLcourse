{
 "cells": [
  {
   "cell_type": "markdown",
   "metadata": {},
   "source": [
    "# Rank (Operator)"
   ]
  },
  {
   "cell_type": "markdown",
   "metadata": {},
   "source": [
    "Rank is an operator which was introduced in Dyalog [version 14.0](http://help.dyalog.com/14.0/Content/Language/Primitive%20Operators/Rank.htm). The operator had been previously implemented in the [J programming language](https://en.wikipedia.org/wiki/Rank_(J_programming_language)."
   ]
  },
  {
   "cell_type": "markdown",
   "metadata": {},
   "source": [
    "***\n",
    "## Monadic application\n",
    "In the expression `(f⍤k)⍵`, the function `f` is applied to each cell of rank `k` in the array `⍵`."
   ]
  },
  {
   "cell_type": "code",
   "execution_count": null,
   "metadata": {},
   "outputs": [],
   "source": [
    "A←2 3 4⍴⎕A    ⍝ A rank-3 character array\n",
    "(⊂⍤1)A        ⍝ Enclose each row (rank-1 sub-array)\n",
    "(⊂⍤2)A        ⍝ Enclose each matrix (rank-2 sub-array)"
   ]
  },
  {
   "cell_type": "markdown",
   "metadata": {},
   "source": [
    "***\n",
    "## Dyadic application\n",
    "In the expression `⍺ (f⍤k l) ⍵`, the infix function `f` is applied between all elements of rank `k` of `⍺` and all elements of rank `l` of `⍵`."
   ]
  },
  {
   "cell_type": "markdown",
   "metadata": {},
   "source": [
    "#### **Sparse indexing**\n",
    "To see how this works, let's look at the case of *sparse indexing*. Sparse indexing is a form of [selection](Selection.ipynb#Squad)."
   ]
  },
  {
   "cell_type": "markdown",
   "metadata": {},
   "source": [
    "The array `A` is a rank-3 character array."
   ]
  },
  {
   "cell_type": "code",
   "execution_count": null,
   "metadata": {},
   "outputs": [],
   "source": [
    "⎕←A←2 3 4⍴⎕A"
   ]
  },
  {
   "cell_type": "markdown",
   "metadata": {},
   "source": [
    "Use `⌷` to get the 1st major cell of `A`. Major cells are cells of rank `k-1` where `k` is the rank of the whole array."
   ]
  },
  {
   "cell_type": "code",
   "execution_count": null,
   "metadata": {},
   "outputs": [],
   "source": [
    "1⌷A"
   ]
  },
  {
   "cell_type": "markdown",
   "metadata": {},
   "source": [
    "**Modify the code above to get the second major cell of A.**"
   ]
  },
  {
   "cell_type": "markdown",
   "metadata": {},
   "source": [
    "`1 2⌷A` returns the 2nd row of the 1st matrix in `A`. How can we get the first two rows of the first matrix in `A`?"
   ]
  },
  {
   "cell_type": "code",
   "execution_count": null,
   "metadata": {},
   "outputs": [],
   "source": [
    "1 2⌷⍤0 99⊢1⌷A"
   ]
  },
  {
   "cell_type": "markdown",
   "metadata": {},
   "source": [
    "The previous statement applies `⌷` between scalars of `⍺` (`1 2`) and cells of rank \"up-to-99\" (the whole array) in `1⌷A`.\n",
    "\n",
    "It is equivalent to the following as a loop:"
   ]
  },
  {
   "cell_type": "code",
   "execution_count": null,
   "metadata": {},
   "outputs": [],
   "source": [
    "1⌷1⌷A\n",
    "2⌷1⌷A"
   ]
  },
  {
   "cell_type": "markdown",
   "metadata": {},
   "source": [
    "***\n",
    "## Nested loops"
   ]
  },
  {
   "cell_type": "markdown",
   "metadata": {},
   "source": [
    "#### **The flat outer product**  \n",
    "Using rank, we can calculate the same values as an outer product `∘.f` of nested vectors using flat arrays instead of nested arrays. This can result in considerable speed ups for large arrays."
   ]
  },
  {
   "cell_type": "code",
   "execution_count": null,
   "metadata": {},
   "outputs": [],
   "source": [
    "⎕←⊂O←2 3⍴⍳6\n",
    "⎕←⊂P←4 3⍴1 0"
   ]
  },
  {
   "cell_type": "markdown",
   "metadata": {},
   "source": [
    "Rows of `A` multiplied by rows of `B`"
   ]
  },
  {
   "cell_type": "code",
   "execution_count": null,
   "metadata": {},
   "outputs": [],
   "source": [
    "(↓O)∘.×(↓P)"
   ]
  },
  {
   "cell_type": "code",
   "execution_count": null,
   "metadata": {},
   "outputs": [],
   "source": [
    "FOP←{⍺ ⍺⍺⍤1⍤1 99⊢⍵}   ⍝ The Flat Outer Product operator\n",
    "O×FOP P\n",
    "⊂⍤1⊢O×FOP P           ⍝ Enclosing each row shows that the calculated values are identical"
   ]
  },
  {
   "cell_type": "markdown",
   "metadata": {},
   "source": [
    "Let's compare their run time for different sized arrays"
   ]
  },
  {
   "cell_type": "code",
   "execution_count": null,
   "metadata": {},
   "outputs": [],
   "source": [
    "Q←?3 3⍴0   ⍝ Array of random floating point numbers\n",
    "]runtime -c \"∘.-⍨↓Q\" \"⊂⍤1⊢-FOP⍨Q\""
   ]
  },
  {
   "cell_type": "markdown",
   "metadata": {},
   "source": [
    "`FOP` is slower for small arrays, but let's make `Q` a bit larger"
   ]
  },
  {
   "cell_type": "code",
   "execution_count": null,
   "metadata": {},
   "outputs": [],
   "source": [
    "Q←?3 3 3⍴0 \n",
    "]runtime -c \"∘.-⍨↓Q\" \"⊂⍤1⊢-FOP⍨Q\""
   ]
  },
  {
   "cell_type": "markdown",
   "metadata": {},
   "source": [
    "The overall process is still faster with `FOP`, even though we enclose the array afterward to get the exact same values at the nested outer product. In general, keeping arrays flat is much faster than using nested arrays."
   ]
  }
 ],
 "metadata": {
  "kernelspec": {
   "display_name": "Dyalog APL",
   "language": "apl",
   "name": "dyalog-kernel"
  },
  "language_info": {
   "file_extension": ".apl",
   "mimetype": "text/apl",
   "name": "APL"
  }
 },
 "nbformat": 4,
 "nbformat_minor": 4
}
