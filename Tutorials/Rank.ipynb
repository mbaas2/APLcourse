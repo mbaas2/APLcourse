{
 "cells": [
  {
   "cell_type": "markdown",
   "metadata": {},
   "source": [
    "# Rank (Operator)"
   ]
  },
  {
   "cell_type": "markdown",
   "metadata": {},
   "source": [
    "Rank is an operator which was introduced in Dyalog [version 14.0](http://help.dyalog.com/14.0/Content/Language/Primitive%20Operators/Rank.htm). The operator had been previously implemented in the [J programming language](https://en.wikipedia.org/wiki/Rank_(J_programming_language)."
   ]
  },
  {
   "cell_type": "markdown",
   "metadata": {},
   "source": [
    "In the expression `f⍤k⊢A`, the function `f` is applied to each cell of rank `k` in the array `A`."
   ]
  },
  {
   "cell_type": "markdown",
   "metadata": {},
   "source": [
    "***\n",
    "## Monadic application\n",
    "Use with prefix functions"
   ]
  },
  {
   "cell_type": "code",
   "execution_count": 2,
   "metadata": {},
   "outputs": [
    {
     "data": {
      "text/html": [
       "<span style=\"white-space:pre; font-family: monospace\">┌────┬────┬────┐\n",
       "│ABCD│EFGH│IJKL│\n",
       "├────┼────┼────┤\n",
       "│MNOP│QRST│UVWX│\n",
       "└────┴────┴────┘\n",
       "</span>"
      ]
     },
     "execution_count": 2,
     "metadata": {},
     "output_type": "execute_result"
    },
    {
     "data": {
      "text/html": [
       "<span style=\"white-space:pre; font-family: monospace\">┌────┬────┐\n",
       "│ABCD│MNOP│\n",
       "│EFGH│QRST│\n",
       "│IJKL│UVWX│\n",
       "└────┴────┘\n",
       "</span>"
      ]
     },
     "execution_count": 2,
     "metadata": {},
     "output_type": "execute_result"
    }
   ],
   "source": [
    "A←2 3 4⍴⎕A   ⍝ A rank-3 character array\n",
    "⊂⍤1⊢A        ⍝ Enclose each row (rank-1 sub-array)\n",
    "⊂⍤2⊢A        ⍝ Enclose each matrix (rank-2 sub-array)"
   ]
  },
  {
   "cell_type": "markdown",
   "metadata": {},
   "source": [
    "***\n",
    "## Dyadic application\n",
    "Use with infix functions"
   ]
  },
  {
   "cell_type": "code",
   "execution_count": 3,
   "metadata": {},
   "outputs": [
    {
     "data": {
      "text/html": [
       "<span style=\"white-space:pre; font-family: monospace\">1 1 1 1\n",
       "2 2 2 2\n",
       "3 3 3 3\n",
       "       \n",
       "1 1 1 1\n",
       "2 2 2 2\n",
       "3 3 3 3\n",
       "</span>"
      ]
     },
     "execution_count": 3,
     "metadata": {},
     "output_type": "execute_result"
    }
   ],
   "source": [
    "⎕←N←2 3 4⍴4/1 2 3   ⍝ A rank-3 numeric array"
   ]
  },
  {
   "cell_type": "code",
   "execution_count": 4,
   "metadata": {},
   "outputs": [
    {
     "data": {
      "text/html": [
       "<span style=\"white-space:pre; font-family: monospace\">3 2 1 0\n",
       "6 4 2 0\n",
       "9 6 3 0\n",
       "       \n",
       "3 2 1 0\n",
       "6 4 2 0\n",
       "9 6 3 0\n",
       "</span>"
      ]
     },
     "execution_count": 4,
     "metadata": {},
     "output_type": "execute_result"
    }
   ],
   "source": [
    "3 2 1 0×⍤1⊢N   ⍝ Pair rows of ⍺ with rows of ⍵"
   ]
  },
  {
   "cell_type": "markdown",
   "metadata": {},
   "source": [
    "***\n",
    "## Nested loops"
   ]
  },
  {
   "cell_type": "markdown",
   "metadata": {},
   "source": [
    "**The flat outer product**  \n",
    "Using rank, we can calculate the same values as an outer product `∘.f` of nested vectors using flat arrays instead of nested arrays. This can result in considerable speed ups for large arrays."
   ]
  },
  {
   "cell_type": "code",
   "execution_count": 5,
   "metadata": {},
   "outputs": [
    {
     "data": {
      "text/html": [
       "<span style=\"white-space:pre; font-family: monospace\">┌─────┐\n",
       "│1 2 3│\n",
       "│4 5 6│\n",
       "└─────┘\n",
       "</span>"
      ]
     },
     "execution_count": 5,
     "metadata": {},
     "output_type": "execute_result"
    },
    {
     "data": {
      "text/html": [
       "<span style=\"white-space:pre; font-family: monospace\">┌─────┐\n",
       "│1 0 1│\n",
       "│0 1 0│\n",
       "│1 0 1│\n",
       "│0 1 0│\n",
       "└─────┘\n",
       "</span>"
      ]
     },
     "execution_count": 5,
     "metadata": {},
     "output_type": "execute_result"
    }
   ],
   "source": [
    "⎕←⊂O←2 3⍴⍳6\n",
    "⎕←⊂P←4 3⍴1 0"
   ]
  },
  {
   "cell_type": "markdown",
   "metadata": {},
   "source": [
    "Rows of `A` multiplied by rows of `B`"
   ]
  },
  {
   "cell_type": "code",
   "execution_count": 6,
   "metadata": {},
   "outputs": [
    {
     "data": {
      "text/html": [
       "<span style=\"white-space:pre; font-family: monospace\">┌─────┬─────┬─────┬─────┐\n",
       "│1 0 3│0 2 0│1 0 3│0 2 0│\n",
       "├─────┼─────┼─────┼─────┤\n",
       "│4 0 6│0 5 0│4 0 6│0 5 0│\n",
       "└─────┴─────┴─────┴─────┘\n",
       "</span>"
      ]
     },
     "execution_count": 6,
     "metadata": {},
     "output_type": "execute_result"
    }
   ],
   "source": [
    "(↓O)∘.×(↓P)"
   ]
  },
  {
   "cell_type": "code",
   "execution_count": 7,
   "metadata": {},
   "outputs": [
    {
     "data": {
      "text/html": [
       "<span style=\"white-space:pre; font-family: monospace\">1 0 3\n",
       "0 2 0\n",
       "1 0 3\n",
       "0 2 0\n",
       "     \n",
       "4 0 6\n",
       "0 5 0\n",
       "4 0 6\n",
       "0 5 0\n",
       "</span>"
      ]
     },
     "execution_count": 7,
     "metadata": {},
     "output_type": "execute_result"
    },
    {
     "data": {
      "text/html": [
       "<span style=\"white-space:pre; font-family: monospace\">┌─────┬─────┬─────┬─────┐\n",
       "│1 0 3│0 2 0│1 0 3│0 2 0│\n",
       "├─────┼─────┼─────┼─────┤\n",
       "│4 0 6│0 5 0│4 0 6│0 5 0│\n",
       "└─────┴─────┴─────┴─────┘\n",
       "</span>"
      ]
     },
     "execution_count": 7,
     "metadata": {},
     "output_type": "execute_result"
    }
   ],
   "source": [
    "FOP←{⍺ ⍺⍺⍤1⍤1 99⊢⍵}   ⍝ The Flat Outer Product operator\n",
    "O×FOP P\n",
    "⊂⍤1⊢O×FOP P           ⍝ Enclosing each row shows that the calculated values are identical"
   ]
  },
  {
   "cell_type": "markdown",
   "metadata": {},
   "source": [
    "Let's compare their run time for different sized arrays"
   ]
  },
  {
   "cell_type": "code",
   "execution_count": 8,
   "metadata": {},
   "outputs": [
    {
     "data": {
      "text/html": [
       "<span style=\"white-space:pre; font-family: monospace\">                                                                      \n",
       "  ∘.-⍨↓Q     → 2.9E¯6 |   0% ⎕⎕⎕⎕⎕⎕⎕⎕⎕⎕⎕⎕⎕⎕⎕⎕⎕⎕⎕⎕⎕⎕                   \n",
       "  ⊂⍤1⊢-FOP⍨Q → 5.2E¯6 | +77% ⎕⎕⎕⎕⎕⎕⎕⎕⎕⎕⎕⎕⎕⎕⎕⎕⎕⎕⎕⎕⎕⎕⎕⎕⎕⎕⎕⎕⎕⎕⎕⎕⎕⎕⎕⎕⎕⎕⎕⎕ \n",
       "</span>"
      ]
     },
     "execution_count": 8,
     "metadata": {},
     "output_type": "execute_result"
    }
   ],
   "source": [
    "Q←?3 3⍴0   ⍝ Array of random floating point numbers\n",
    "]runtime -c \"∘.-⍨↓Q\" \"⊂⍤1⊢-FOP⍨Q\""
   ]
  },
  {
   "cell_type": "markdown",
   "metadata": {},
   "source": [
    "FOP is slower for small arrays, but let's mark Q a bit larger"
   ]
  },
  {
   "cell_type": "code",
   "execution_count": 9,
   "metadata": {},
   "outputs": [
    {
     "data": {
      "text/html": [
       "<span style=\"white-space:pre; font-family: monospace\">                                                                      \n",
       "  ∘.-⍨↓Q     → 1.8E¯5 |   0% ⎕⎕⎕⎕⎕⎕⎕⎕⎕⎕⎕⎕⎕⎕⎕⎕⎕⎕⎕⎕⎕⎕⎕⎕⎕⎕⎕⎕⎕⎕⎕⎕⎕⎕⎕⎕⎕⎕⎕⎕ \n",
       "  ⊂⍤1⊢-FOP⍨Q → 1.5E¯5 | -21% ⎕⎕⎕⎕⎕⎕⎕⎕⎕⎕⎕⎕⎕⎕⎕⎕⎕⎕⎕⎕⎕⎕⎕⎕⎕⎕⎕⎕⎕⎕⎕⎕         \n",
       "</span>"
      ]
     },
     "execution_count": 9,
     "metadata": {},
     "output_type": "execute_result"
    }
   ],
   "source": [
    "Q←?3 3 3⍴0 \n",
    "]runtime -c \"∘.-⍨↓Q\" \"⊂⍤1⊢-FOP⍨Q\""
   ]
  },
  {
   "cell_type": "markdown",
   "metadata": {},
   "source": [
    "The overall process is still faster with FOP, even though we enclose the array afterward to get the exact same values at the nested outer product. In general, keeping arrays flat is much faster than using nested arrays."
   ]
  }
 ],
 "metadata": {
  "kernelspec": {
   "display_name": "Dyalog APL",
   "language": "apl",
   "name": "dyalog-kernel"
  },
  "language_info": {
   "file_extension": ".apl",
   "mimetype": "text/apl",
   "name": "APL"
  }
 },
 "nbformat": 4,
 "nbformat_minor": 4
}
