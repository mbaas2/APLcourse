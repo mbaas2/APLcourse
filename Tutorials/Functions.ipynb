{
 "cells": [
  {
   "cell_type": "markdown",
   "metadata": {},
   "source": [
    "# Functions"
   ]
  },
  {
   "cell_type": "markdown",
   "metadata": {},
   "source": [
    "In programming, \"function\" is often used synonymously with \"program\" where a \"program\" is usually a sequence of steps to alter some data or change the state of some device.\n",
    "\n",
    "In mathematics, a \"function\" is a mapping from one set to another set - where every element of the first set is associate to some element in the second. [Functional programming](https://en.wikipedia.org/wiki/Functional_programming) ([friendly intro](https://codeburst.io/a-beginner-friendly-intro-to-functional-programming-4f69aa109569)) is a style of programming which uses the mathematical definition of functions over the more \"programmatic\" style. APL has a little functional taste - but where functional programming has functions as first class citizens, in APL arrays are first class citizens. "
   ]
  },
  {
   "cell_type": "markdown",
   "metadata": {},
   "source": [
    "Dyalog has four flavours of functions:\n",
    "- Primitive functions (functions denoted by symbols e.g. `+` `⌹`  `?`\n",
    "- [dfns](#dfns)\n",
    "- [tradfns](#tradfns)\n",
    "- [tacit](#tacit-functions)\n",
    "\n",
    "Only tradfns can be [niladic](Syntax.ipynb#Function-valence)."
   ]
  },
  {
   "cell_type": "markdown",
   "metadata": {},
   "source": [
    "## dfns"
   ]
  },
  {
   "cell_type": "markdown",
   "metadata": {},
   "source": [
    "dfns are intended to more closely resemble pure functions in mathematics. The left and right arguments are referred to using `⍺` and `⍵` respectively."
   ]
  },
  {
   "cell_type": "code",
   "execution_count": 3,
   "metadata": {},
   "outputs": [
    {
     "data": {
      "text/html": [
       "<span style=\"white-space:pre; font-family: monospace\">┌─────────────────────────────────┐\n",
       "│Left arg: simple character vector│\n",
       "├─────────────────────────────────┤\n",
       "│Right arg:  1 2 3                │\n",
       "└─────────────────────────────────┘\n",
       "</span>"
      ]
     },
     "execution_count": 3,
     "metadata": {},
     "output_type": "execute_result"
    }
   ],
   "source": [
    "'simple character vector'{⍪('Left arg: ',⍺)('Right arg: ',⍵)}1 2 3"
   ]
  },
  {
   "cell_type": "markdown",
   "metadata": {},
   "source": [
    "Diamonds can be used to separate statements in dfns. The first statement which is not an [assignment](Syntax.ipynb#Assignment) will terminate the function and produce the output."
   ]
  },
  {
   "cell_type": "code",
   "execution_count": 2,
   "metadata": {},
   "outputs": [
    {
     "data": {
      "text/html": [
       "<span style=\"white-space:pre; font-family: monospace\">output\n",
       "result\n",
       "</span>"
      ]
     },
     "execution_count": 2,
     "metadata": {},
     "output_type": "execute_result"
    }
   ],
   "source": [
    "{a←⍵ ⋄ ⎕←'output' ⋄ 'result' ⋄ ⎕←a}'input'"
   ]
  },
  {
   "cell_type": "markdown",
   "metadata": {},
   "source": [
    "## tradfns"
   ]
  },
  {
   "cell_type": "markdown",
   "metadata": {},
   "source": [
    "Tradfns are \"traditional functions\". They were the first style of user-defined functions introduced to APL. They can be defined in the session using del `∇` characters."
   ]
  },
  {
   "cell_type": "code",
   "execution_count": 5,
   "metadata": {},
   "outputs": [],
   "source": [
    "∇ result←leftarg Function rightarg\n",
    "  result←leftarg rightarg\n",
    "∇"
   ]
  },
  {
   "cell_type": "code",
   "execution_count": 6,
   "metadata": {},
   "outputs": [
    {
     "data": {
      "text/html": [
       "<span style=\"white-space:pre; font-family: monospace\">┌─────┬─────┐\n",
       "│1 2 3│hello│\n",
       "└─────┴─────┘\n",
       "</span>"
      ]
     },
     "execution_count": 6,
     "metadata": {},
     "output_type": "execute_result"
    }
   ],
   "source": [
    "1 2 3 Function 'hello'"
   ]
  },
  {
   "cell_type": "markdown",
   "metadata": {},
   "source": [
    "## tacit functions"
   ]
  }
 ],
 "metadata": {
  "kernelspec": {
   "display_name": "Dyalog APL",
   "language": "apl",
   "name": "dyalog-kernel"
  },
  "language_info": {
   "file_extension": ".apl",
   "mimetype": "text/apl",
   "name": "APL"
  }
 },
 "nbformat": 4,
 "nbformat_minor": 4
}
