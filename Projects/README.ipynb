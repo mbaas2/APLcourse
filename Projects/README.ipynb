{
 "cells": [
  {
   "cell_type": "markdown",
   "metadata": {},
   "source": [
    "# APLCourse Projects\n",
    "\n",
    "Project plans in Markdown or Notebook format. Implement these in APL for fun and profit.\n",
    "\n",
    "## Contents\n",
    "  - [APLCourseMap.ipynb](./APLCourseMap.ipynb)"
   ]
  }
 ],
 "metadata": {
  "kernelspec": {
   "display_name": "Dyalog APL",
   "language": "apl",
   "name": "dyalog-kernel"
  },
  "language_info": {
   "file_extension": ".apl",
   "mimetype": "text/apl",
   "name": "APL"
  }
 },
 "nbformat": 4,
 "nbformat_minor": 4
}
