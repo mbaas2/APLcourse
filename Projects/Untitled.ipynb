{
 "cells": [
  {
   "cell_type": "markdown",
   "metadata": {},
   "source": [
    "# Project ideas catalogue\n",
    "For the APL course"
   ]
  },
  {
   "cell_type": "code",
   "execution_count": 8,
   "metadata": {},
   "outputs": [
    {
     "data": {
      "text/html": [
       "<span style=\"white-space:pre; font-family: monospace\">Was OFF\n",
       "</span>"
      ]
     },
     "execution_count": 8,
     "metadata": {},
     "output_type": "execute_result"
    },
    {
     "data": {
      "text/html": [
       "<span style=\"white-space:pre; font-family: monospace\">                                    \n",
       " - [README.md](README.md)           \n",
       "  - [Untitled.ipynb](Untitled.ipynb)\n",
       "  - [WikiMap.ipynb](WikiMap.ipynb)  \n",
       "                                    \n",
       "</span>"
      ]
     },
     "execution_count": 8,
     "metadata": {},
     "output_type": "execute_result"
    }
   ],
   "source": [
    "]Box off\n",
    "(⎕UCS 13),{'- [',⍵,'](',⍵,')',⎕UCS 13}¨' '(≠⊆⊢)⊃⎕SH'dir'"
   ]
  },
  {
   "cell_type": "markdown",
   "metadata": {},
   "source": [
    " - [README.md](README.md)           \n",
    "  - [Untitled.ipynb](Untitled.ipynb)\n",
    "  - [WikiMap.ipynb](WikiMap.ipynb)  \n"
   ]
  },
  {
   "cell_type": "code",
   "execution_count": null,
   "metadata": {},
   "outputs": [],
   "source": []
  }
 ],
 "metadata": {
  "kernelspec": {
   "display_name": "Dyalog APL",
   "language": "apl",
   "name": "dyalog-kernel"
  },
  "language_info": {
   "file_extension": ".apl",
   "mimetype": "text/apl",
   "name": "APL"
  }
 },
 "nbformat": 4,
 "nbformat_minor": 4
}
