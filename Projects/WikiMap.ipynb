{
 "cells": [
  {
   "cell_type": "markdown",
   "metadata": {},
   "source": [
    "# Wiki Map\n",
    "\n",
    "[DOT](https://en.wikipedia.org/wiki/DOT_(graph_description_language)) is a graph description language. A reasonable description is provided [here](https://www.graphviz.org/doc/info/lang.html).\n",
    "\n",
    "Dot graphs can be rendered online using [Viz.js](http://viz-js.com/).\n",
    "\n",
    "The goal of this project is to read the files in this repository, and create a graph in DOT notation which shows the links between different APL and programming concepts. A single graph is likely to become unwieldy once this repository becomes larger, so an extension may be to create multiple graphs which map the related sub-topics of certain areas of subject matter."
   ]
  },
  {
   "cell_type": "code",
   "execution_count": 5,
   "metadata": {},
   "outputs": [
    {
     "data": {
      "text/html": [
       "<span style=\"white-space:pre; font-family: monospace\">┌→────────┬──────────────┐\n",
       "│README.md│Untitled.ipynb│\n",
       "└────────→┴─────────────→┘\n",
       "</span>"
      ]
     },
     "execution_count": 5,
     "metadata": {},
     "output_type": "execute_result"
    }
   ],
   "source": [
    "]disp ⎕SH'ls .' ⍝ To start with, get an array with all the files in the repository"
   ]
  }
 ],
 "metadata": {
  "kernelspec": {
   "display_name": "Dyalog APL",
   "language": "apl",
   "name": "dyalog-kernel"
  },
  "language_info": {
   "file_extension": ".apl",
   "mimetype": "text/apl",
   "name": "APL"
  }
 },
 "nbformat": 4,
 "nbformat_minor": 4
}
