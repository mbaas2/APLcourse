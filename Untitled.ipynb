{
 "cells": [
  {
   "cell_type": "code",
   "execution_count": 1,
   "metadata": {},
   "outputs": [
    {
     "data": {
      "text/html": [
       "<span style=\"white-space:pre; font-family: monospace\">done\n",
       "    _⍸   \n",
       "___( ∘)&gt;  ∘○O( ⊃∨∧⌊○⊂ 2019-09-20 09:08:10 )\n",
       "\\ ≤_. )  \n",
       " `---´   \n",
       "\n",
       "\n",
       "Rebuilding user command cache... done\n",
       "</span>"
      ]
     },
     "execution_count": 1,
     "metadata": {},
     "output_type": "execute_result"
    },
    {
     "data": {
      "text/html": [
       "<span style=\"white-space:pre; font-family: monospace\">assets       index.md                       ProblemSets   Tutorials\n",
       "config.json  InstallingDyalogJupyter.ipynb  Projects      Untitled.ipynb\n",
       "img          navigation.md                  sessions.dcf\n",
       "index.html   old                            tmp\n",
       "</span>"
      ]
     },
     "execution_count": 1,
     "metadata": {},
     "output_type": "execute_result"
    }
   ],
   "source": [
    "⎕SH'dir'"
   ]
  }
 ],
 "metadata": {
  "kernelspec": {
   "display_name": "Dyalog APL",
   "language": "apl",
   "name": "dyalog-kernel"
  },
  "language_info": {
   "file_extension": ".apl",
   "mimetype": "text/apl",
   "name": "APL"
  }
 },
 "nbformat": 4,
 "nbformat_minor": 4
}
